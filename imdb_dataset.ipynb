{
  "cells": [
    {
      "cell_type": "markdown",
      "metadata": {
        "id": "view-in-github",
        "colab_type": "text"
      },
      "source": [
        "<a href=\"https://colab.research.google.com/github/Akashkunwar/dscodes/blob/master/imdb_dataset.ipynb\" target=\"_parent\"><img src=\"https://colab.research.google.com/assets/colab-badge.svg\" alt=\"Open In Colab\"/></a>"
      ]
    },
    {
      "cell_type": "code",
      "source": [
        ""
      ],
      "metadata": {
        "colab": {
          "base_uri": "https://localhost:8080/"
        },
        "id": "1MOK0R1Pr0o9",
        "outputId": "ee8c68a8-931a-4d41-f9da-4ba216e66a76"
      },
      "execution_count": 64,
      "outputs": [
        {
          "name": "stdout",
          "output_type": "stream",
          "text": [
            "a1b10\n"
          ]
        }
      ]
    },
    {
      "cell_type": "code",
      "source": [
        "import re\n",
        "\n",
        "a = input()\n",
        "\n",
        "x = re.findall('\\D', a)\n",
        "y = re.findall('\\d+', a)\n",
        "c = ''\n",
        "for s,t in zip(x,y):\n",
        "  if int(t)%2==0:\n",
        "    c = c+s*int(t)\n",
        "  else:\n",
        "    c = c+s+t  \n",
        "print(c)"
      ],
      "metadata": {
        "colab": {
          "base_uri": "https://localhost:8080/"
        },
        "id": "KaNyAe8ZwNfS",
        "outputId": "a3f76aee-7a52-4d9f-cb52-ff5e0295d07a"
      },
      "execution_count": 96,
      "outputs": [
        {
          "output_type": "stream",
          "name": "stdout",
          "text": [
            "b3c6d15\n",
            "b3ccccccd15\n"
          ]
        }
      ]
    },
    {
      "cell_type": "code",
      "source": [
        "a, b = input().split() \n",
        "\n",
        "if len(a)>len(b):\n",
        "  c = len(a) - len(b)\n",
        "  d = []\n",
        "  for x in range(1,c+1):\n",
        "    d.append(x)\n",
        "\n",
        "elif len(a)<len(b):\n",
        "  c = len(b) - len(a)\n",
        "  d = []\n",
        "  for x in range(1,c+1):\n",
        "    d.append(x)\n",
        "\n",
        "else:\n",
        "  pass\n",
        "\n",
        "e = ''\n",
        "for x in d:\n",
        "  e = e+str(x)\n",
        "\n",
        "if len(a)>len(b):\n",
        "  b = b+e\n",
        "elif len(a)<len(b):\n",
        "  a = a+e\n",
        "else:\n",
        "  pass\n",
        "\n",
        "f = ''\n",
        "for x,y in zip(a,b):\n",
        "  f = f+x+y\n",
        "  \n",
        "print(f)"
      ],
      "metadata": {
        "colab": {
          "base_uri": "https://localhost:8080/"
        },
        "id": "WkU4RIVdnH-Y",
        "outputId": "92025302-7a1d-4c53-f198-00db0929eb77"
      },
      "execution_count": 52,
      "outputs": [
        {
          "output_type": "stream",
          "name": "stdout",
          "text": [
            "Abi Bhuvana\n",
            "ABbhiu1v2a3n4a\n"
          ]
        }
      ]
    },
    {
      "cell_type": "code",
      "source": [
        "a = input()\n",
        "b = list(a)\n",
        "c = list(range(0,len(a)))\n",
        "\n",
        "d = []\n",
        "try:\n",
        "  for x in c:\n",
        "    e = a[x:x+2]\n",
        "    # if len(e)==2:\n",
        "    d.append(e)\n",
        "except:\n",
        "  pass\n",
        "\n",
        "f = []\n",
        "for x in d:\n",
        "  if x == 'ab':\n",
        "    f.append(x)\n",
        "\n",
        "for x in d:\n",
        "  if x == 'a':\n",
        "    f.append(x)\n",
        "\n",
        "g = ''\n",
        "for x in f:\n",
        "  g = g+x\n",
        "len(g)"
      ],
      "metadata": {
        "colab": {
          "base_uri": "https://localhost:8080/"
        },
        "id": "F-ughtfPkVx-",
        "outputId": "958c516f-e66b-49c8-caae-bb6cd72616c8"
      },
      "execution_count": 23,
      "outputs": [
        {
          "name": "stdout",
          "output_type": "stream",
          "text": [
            "ababababa\n"
          ]
        }
      ]
    },
    {
      "cell_type": "code",
      "source": [
        "f = []\n",
        "for x in d:\n",
        "  if x == 'ab':\n",
        "    f.append(x)\n",
        "\n",
        "for x in d:\n",
        "  if x == 'a':\n",
        "    f.append(x)\n",
        "\n",
        "g = ''\n",
        "for x in f:\n",
        "  g = g+x\n",
        "len(g)"
      ],
      "metadata": {
        "id": "fgN8CY2ikqXr"
      },
      "execution_count": 25,
      "outputs": []
    },
    {
      "cell_type": "code",
      "source": [
        "a = input()\n",
        "b = list(a)\n",
        "c = list(range(0,len(a)))\n",
        "\n",
        "d = []\n",
        "try:\n",
        "  for x in c:\n",
        "    e = a[x:x+2]\n",
        "    if len(e)==2:\n",
        "      d.append(e)\n",
        "except:\n",
        "  pass\n",
        "\n",
        "f = []\n",
        "try:\n",
        "  for x in c:\n",
        "    e = a[x:x+3]\n",
        "    if len(e)==3:\n",
        "      f.append(e)\n",
        "except:\n",
        "  pass\n",
        "\n",
        "print(*a)\n",
        "print(*d)\n",
        "print(*f)\n",
        "\n",
        "g = []\n",
        "h = []\n",
        "i = []\n",
        "for x in a:\n",
        "  if x == 'A':\n",
        "    g.append(x)\n",
        "\n",
        "for x in d:\n",
        "  if x == 'AB':\n",
        "    g.append(x)\n",
        "\n",
        "for x in f:\n",
        "  if x == 'ABB':\n",
        "    g.append(x)\n",
        "\n",
        "print(*a)\n",
        "print(*d)\n",
        "print(*f)\n",
        "\n",
        "print(*g)\n",
        "print(*h)\n",
        "print(*i)"
      ],
      "metadata": {
        "colab": {
          "base_uri": "https://localhost:8080/"
        },
        "id": "NCHjk3sghWN2",
        "outputId": "7beeb679-b100-455b-b72a-ce48e45f22c0"
      },
      "execution_count": 6,
      "outputs": [
        {
          "output_type": "stream",
          "name": "stdout",
          "text": [
            "ABBABBABBABBABB\n",
            "A B B A B B A B B A B B A B B\n",
            "AB BB BA AB BB BA AB BB BA AB BB BA AB BB\n",
            "ABB BBA BAB ABB BBA BAB ABB BBA BAB ABB BBA BAB ABB\n"
          ]
        }
      ]
    },
    {
      "cell_type": "code",
      "source": [
        "a,b = input().split(' ')\n",
        "b = int(b)\n",
        "c = list(range(0,len(a)))\n",
        "\n",
        "d = []\n",
        "try:\n",
        "  for x in c:\n",
        "    e = a[x:x+b]\n",
        "    if len(e)==b:\n",
        "      d.append(e)\n",
        "except:\n",
        "  pass\n",
        "print(*d)"
      ],
      "metadata": {
        "colab": {
          "base_uri": "https://localhost:8080/"
        },
        "id": "uJbM6qbb1yvd",
        "outputId": "28ca5ba1-969f-4ebf-b846-ce3825614fab"
      },
      "execution_count": null,
      "outputs": [
        {
          "output_type": "stream",
          "name": "stdout",
          "text": [
            "prog 3\n",
            "pro rog\n"
          ]
        }
      ]
    },
    {
      "cell_type": "code",
      "source": [
        "a = input()\n",
        "b = input()\n",
        "c = 0\n",
        "if b in a:\n",
        "  c = a.index(b[0])\n",
        "else:\n",
        "  c = -1\n",
        "print(c)"
      ],
      "metadata": {
        "colab": {
          "base_uri": "https://localhost:8080/"
        },
        "id": "J45-O7a1EvNX",
        "outputId": "809fb228-9874-49ea-b8c5-22d693a92ad2"
      },
      "execution_count": null,
      "outputs": [
        {
          "output_type": "stream",
          "name": "stdout",
          "text": [
            "test123string\n",
            "123\n",
            "5\n"
          ]
        }
      ]
    },
    {
      "cell_type": "code",
      "source": [
        "a = input()\n",
        "b = input()\n",
        "c = 0\n",
        "if a in b:\n",
        "  c = b.index(a[0])\n",
        "elif b in a:\n",
        "  c = a.index(b[0])\n",
        "else:\n",
        "  c = -1\n",
        "print(c)"
      ],
      "metadata": {
        "colab": {
          "base_uri": "https://localhost:8080/"
        },
        "id": "YOa39n8rJun_",
        "outputId": "efd6b493-5acc-4cce-ca27-f7be9665a3e1"
      },
      "execution_count": null,
      "outputs": [
        {
          "output_type": "stream",
          "name": "stdout",
          "text": [
            "yuvi\n",
            "weyuvi\n",
            "2\n"
          ]
        }
      ]
    },
    {
      "cell_type": "code",
      "source": [
        "a = int(input())\n",
        "b = []\n",
        "for x in range(0,a):\n",
        "  b.append(input())\n",
        "\n",
        "c = []\n",
        "def vowel_count(string):\n",
        "  vowels = ['a', 'e', 'i', 'o', 'u','A','E','I','O','U']\n",
        "  d = len([i for i in string if i in vowels])\n",
        "  c.append(d)\n",
        "\n",
        "for x in b:\n",
        "  vowel_count(x)\n",
        "\n",
        "e = dict(zip(b,c))\n",
        "f = sorted(e.items(), key=lambda x: x[1])[::-1]\n",
        "for x in f:\n",
        "  print(x[0])"
      ],
      "metadata": {
        "colab": {
          "base_uri": "https://localhost:8080/"
        },
        "id": "1DA3I5oAAGe4",
        "outputId": "0fcc211f-89cd-474d-aa74-2dca0ad0483c"
      },
      "execution_count": null,
      "outputs": [
        {
          "output_type": "stream",
          "name": "stdout",
          "text": [
            "3\n",
            "Vishal\n",
            "Aaae\n",
            "Awqr\n",
            "Aaae\n",
            "Vishal\n",
            "Awqr\n"
          ]
        }
      ]
    },
    {
      "cell_type": "code",
      "source": [
        "a = [str(i) for i in input().split(\" \")]\n",
        "for x in a:\n",
        "  if x=='':\n",
        "    a.remove('')\n",
        "print(*a)"
      ],
      "metadata": {
        "colab": {
          "base_uri": "https://localhost:8080/"
        },
        "id": "P4-P_lyV0N62",
        "outputId": "a0caac80-0612-4d87-b0ae-503a13f174cd"
      },
      "execution_count": null,
      "outputs": [
        {
          "output_type": "stream",
          "name": "stdout",
          "text": [
            "sad sad ds    sad sad  df\n",
            "sad sad ds sad sad  df\n"
          ]
        }
      ]
    },
    {
      "cell_type": "code",
      "source": [
        "a,b = input().split()\n",
        "b = int(b)\n",
        "c = [int(i) for i in input().split(' ')]\n",
        "c = sorted(c)\n",
        "print(c[-b])"
      ],
      "metadata": {
        "colab": {
          "base_uri": "https://localhost:8080/"
        },
        "id": "BFiYl4jwSA6N",
        "outputId": "a935f89c-775e-478f-b232-4048337e4ee0"
      },
      "execution_count": null,
      "outputs": [
        {
          "output_type": "stream",
          "name": "stdout",
          "text": [
            "6 2\n",
            "1 2 3 4 5 6\n",
            "5\n"
          ]
        }
      ]
    },
    {
      "cell_type": "code",
      "source": [
        "a = input()\n",
        "c = [int(i) for i in input().split(' ')]\n",
        "i = -1\n",
        "d = []\n",
        "for x in c:\n",
        "  i = i+1\n",
        "  if i==x:\n",
        "    d.append(x)\n",
        "if len(d)==0:\n",
        "    print(-1)\n",
        "else:\n",
        "    print(*d)"
      ],
      "metadata": {
        "colab": {
          "base_uri": "https://localhost:8080/"
        },
        "id": "X1wTNwFsVYum",
        "outputId": "65352737-9b6d-457b-90dd-ac2c4dc4ed48"
      },
      "execution_count": null,
      "outputs": [
        {
          "output_type": "stream",
          "name": "stdout",
          "text": [
            "3 4 5\n"
          ]
        }
      ]
    },
    {
      "cell_type": "code",
      "source": [
        "a = input()\n",
        "b = input()\n",
        "a = list(set(list(a)))\n",
        "b = list(set(list(b)))\n",
        "c = len(a)\n",
        "d = len(b)\n",
        "e = list(set(a+b))\n",
        "f = len(e)\n",
        "if f==c or f==d:\n",
        "  print('no')\n",
        "else:\n",
        "  print('yes')"
      ],
      "metadata": {
        "colab": {
          "base_uri": "https://localhost:8080/"
        },
        "id": "y4p29utsRt1t",
        "outputId": "a3c9f000-ff85-4e10-f661-98354673339f"
      },
      "execution_count": null,
      "outputs": [
        {
          "output_type": "stream",
          "name": "stdout",
          "text": [
            "yes\n"
          ]
        }
      ]
    },
    {
      "cell_type": "code",
      "source": [
        "a = 'aabbba'\n",
        "a = list(a)\n",
        "sorted(a)"
      ],
      "metadata": {
        "colab": {
          "base_uri": "https://localhost:8080/"
        },
        "id": "L7q0wKrSTTM0",
        "outputId": "0626bd8f-4f85-48ce-bf7f-d85c6ee0a9e2"
      },
      "execution_count": null,
      "outputs": [
        {
          "output_type": "execute_result",
          "data": {
            "text/plain": [
              "['a', 'a', 'a', 'b', 'b', 'b']"
            ]
          },
          "metadata": {},
          "execution_count": 45
        }
      ]
    },
    {
      "cell_type": "code",
      "source": [
        "d = c[:2]\n",
        "d = sorted(d)\n",
        "e = c[2:]\n",
        "e = sorted(e)[::-1]\n",
        "print(d+e)"
      ],
      "metadata": {
        "colab": {
          "base_uri": "https://localhost:8080/"
        },
        "id": "9WbhNcf9MDje",
        "outputId": "f205f99a-59ad-42f9-dcd5-1be210c3b8bc"
      },
      "execution_count": null,
      "outputs": [
        {
          "output_type": "stream",
          "name": "stdout",
          "text": [
            "[3, 4, 4, 2, 1]\n"
          ]
        }
      ]
    },
    {
      "cell_type": "code",
      "source": [
        "a = input()\n",
        "b = []\n",
        "for x in a:\n",
        "  b.append(int(x)**len(a))\n",
        "print(sum(b))"
      ],
      "metadata": {
        "colab": {
          "base_uri": "https://localhost:8080/"
        },
        "id": "Tf56x7CfIu7y",
        "outputId": "4e7b9635-78dd-4486-e1bf-9b026bc65219"
      },
      "execution_count": null,
      "outputs": [
        {
          "output_type": "stream",
          "name": "stdout",
          "text": [
            "123\n",
            "98\n"
          ]
        }
      ]
    },
    {
      "cell_type": "code",
      "source": [
        "I = 1\n",
        "V = 5\n",
        "X = 10\n",
        "L = 50\n",
        "C = 100\n",
        "D = 500\n",
        "M = 1000\n",
        "a = input()\n",
        "a = list(a)\n",
        "b = []\n",
        "for x in a:\n",
        "  if x=='I':\n",
        "    b.append(1)\n",
        "  elif x=='V':\n",
        "    b.append(5)\n",
        "  elif x=='X':\n",
        "    b.append(10)\n",
        "  elif x=='L':\n",
        "    b.append(50)\n",
        "  elif x=='C':\n",
        "    b.append(100)\n",
        "  elif x=='D':\n",
        "    b.append(500)\n",
        "  elif x=='M':\n",
        "    b.append(1000)\n",
        "z = sum(b)\n",
        "if z==0:\n",
        "  print(-1)\n",
        "else:\n",
        "  print(z)"
      ],
      "metadata": {
        "colab": {
          "base_uri": "https://localhost:8080/"
        },
        "id": "vSBnO_l6C5Kf",
        "outputId": "13242a47-7331-442e-9556-9e0ec66b5adf"
      },
      "execution_count": null,
      "outputs": [
        {
          "output_type": "stream",
          "name": "stdout",
          "text": [
            "VI\n",
            "6\n"
          ]
        }
      ]
    },
    {
      "cell_type": "code",
      "source": [
        "import numpy as np\n",
        "import math\n",
        "try:\n",
        "  a,b = input().split()\n",
        "  a = int(a)\n",
        "  b = int(b)\n",
        "  a = list(range(a+1))\n",
        "  b = list(range(b+1))\n",
        "  a = a[1:]\n",
        "  b = b[1:]\n",
        "  a = np.prod(a)\n",
        "  b = np.prod(b)\n",
        "  c = math.gcd(a,b)\n",
        "  print(c)\n",
        "except:\n",
        "  print(-1)"
      ],
      "metadata": {
        "colab": {
          "base_uri": "https://localhost:8080/"
        },
        "id": "MeicaS33FWxR",
        "outputId": "d257a9a5-057c-4b83-d85f-bb002675d274"
      },
      "execution_count": null,
      "outputs": [
        {
          "output_type": "stream",
          "name": "stdout",
          "text": [
            "4 2\n",
            "2\n"
          ]
        }
      ]
    },
    {
      "cell_type": "code",
      "source": [
        "aa = input()\n",
        "a = list(list(aa))\n",
        "b = a[::-1]\n",
        "if a==b:\n",
        "  print(aa[:-1])\n",
        "else:\n",
        "  print(aa)"
      ],
      "metadata": {
        "colab": {
          "base_uri": "https://localhost:8080/"
        },
        "id": "kk00MTriEASF",
        "outputId": "2391ff2f-a612-4311-f915-87f399427b3d"
      },
      "execution_count": null,
      "outputs": [
        {
          "output_type": "stream",
          "name": "stdout",
          "text": [
            "hello\n",
            "hello\n"
          ]
        }
      ]
    },
    {
      "cell_type": "code",
      "source": [
        "a,b = input().split()\n",
        "a = list(set(list(a)))\n",
        "b = list(set(list(b)))\n",
        "if a==b:\n",
        "  print('true')\n",
        "else:\n",
        "  print('false')"
      ],
      "metadata": {
        "id": "wzc8AtTvF3n9",
        "colab": {
          "base_uri": "https://localhost:8080/"
        },
        "outputId": "ae4428b6-047a-42df-d3b8-1572355f5378"
      },
      "execution_count": null,
      "outputs": [
        {
          "output_type": "stream",
          "name": "stdout",
          "text": [
            "alloy loyal\n",
            "true\n"
          ]
        }
      ]
    },
    {
      "cell_type": "code",
      "source": [
        "a = list(set(input()))\n",
        "if len(a) < 3:\n",
        "  for x in a:\n",
        "    if x=='a' or x=='b':\n",
        "      l = 'yes'\n",
        "    else:\n",
        "      l = 'no'\n",
        "else:\n",
        "  l = 'no'\n",
        "\n",
        "print(l)"
      ],
      "metadata": {
        "colab": {
          "base_uri": "https://localhost:8080/"
        },
        "id": "eiZPQmxODfXt",
        "outputId": "102d2d46-c074-443d-e7ef-6b5dfc3badd4"
      },
      "execution_count": null,
      "outputs": [
        {
          "output_type": "stream",
          "name": "stdout",
          "text": [
            "aabbaaab\n",
            "yes\n"
          ]
        }
      ]
    },
    {
      "cell_type": "code",
      "source": [
        "a = list(input())\n",
        "try:\n",
        "  # a.remove(' ')\n",
        "  b = []\n",
        "  for x in a:\n",
        "    b.append(a.count(x))\n",
        "  t = -1\n",
        "  g = []\n",
        "  for x in b:\n",
        "    t = t+1\n",
        "    if x==1:\n",
        "      g.append(a[t])\n",
        "  # print(*g,sep='')\n",
        "except:\n",
        "  a=list(a)\n",
        "  b = sorted(set(a), key=lambda x: a.index(x))\n",
        "  # print(*b,sep='')\n",
        "\n",
        "o = []\n",
        "for x in a:\n",
        "  if x in g:\n",
        "    o.append(x)\n",
        "  else:\n",
        "    o.append(x.upper())\n",
        "print(*o,sep='')"
      ],
      "metadata": {
        "colab": {
          "base_uri": "https://localhost:8080/"
        },
        "id": "AtxMLK_eCiaj",
        "outputId": "4eab1fde-30d1-42ba-9130-01a8d56a613d"
      },
      "execution_count": null,
      "outputs": [
        {
          "output_type": "stream",
          "name": "stdout",
          "text": [
            "computer program\n",
            "cute ga\n",
            "cOMPuteR PROgRaM\n"
          ]
        }
      ]
    },
    {
      "cell_type": "code",
      "source": [
        "a,b = input().split()\n",
        "a = int(a)\n",
        "b = int(b)\n",
        "c = int(bin(a)[2:])*int(bin(b)[2:])\n",
        "d = list(str(c))\n",
        "try:\n",
        "    d[d.index('1')]='0'\n",
        "    for x in d:\n",
        "      if x=='1':\n",
        "        print(d.index('1')+1)\n",
        "except:\n",
        "    print(0)"
      ],
      "metadata": {
        "colab": {
          "base_uri": "https://localhost:8080/"
        },
        "id": "hXKO3PR547N2",
        "outputId": "e58432b6-2488-4d2e-bbc3-22ac310d1a70"
      },
      "execution_count": null,
      "outputs": [
        {
          "output_type": "stream",
          "name": "stdout",
          "text": [
            "18 2\n",
            "4\n"
          ]
        }
      ]
    },
    {
      "cell_type": "code",
      "source": [
        "a = input()\n",
        "b = list(a)[::-1]\n",
        "d = ''\n",
        "e = -1\n",
        "for x in b:\n",
        "  e=e+1\n",
        "  if x.isalpha():\n",
        "    d = d+x\n",
        "  elif x.isdigit():\n",
        "    d = d*int(x)\n",
        "print(d[::-1])"
      ],
      "metadata": {
        "colab": {
          "base_uri": "https://localhost:8080/"
        },
        "id": "kLSiXKVW3BS9",
        "outputId": "8d171a33-a8f8-4e09-8315-2ca502c0080a"
      },
      "execution_count": null,
      "outputs": [
        {
          "output_type": "stream",
          "name": "stdout",
          "text": [
            "3(abc2(a))\n",
            "abcaaabcaaabcaa\n"
          ]
        }
      ]
    },
    {
      "cell_type": "code",
      "source": [
        "a = input()\n",
        "b = [int(i) for i in input().split(' ')]\n",
        "c = b[::-1]\n",
        "print(*c,sep='->')"
      ],
      "metadata": {
        "colab": {
          "base_uri": "https://localhost:8080/"
        },
        "id": "A_e9P76LsoJI",
        "outputId": "91d8ee57-9178-4075-8675-e2da4d177a5d"
      },
      "execution_count": null,
      "outputs": [
        {
          "output_type": "stream",
          "name": "stdout",
          "text": [
            "7\n",
            "1 2 3 4 5 6 7\n",
            "7->6->5->4->3->2->1\n"
          ]
        }
      ]
    },
    {
      "cell_type": "code",
      "source": [
        "a = input()\n",
        "b = []\n",
        "c = []\n",
        "for x in a:\n",
        "  if x=='a'or x=='e'or x=='i'or x=='o'or x=='u' or x=='A'or x=='E'or x=='I'or x=='O'or x=='U':\n",
        "    b.append(x)\n",
        "  else:\n",
        "    c.append(x)\n",
        "d = b+c\n",
        "print(*d,sep='')"
      ],
      "metadata": {
        "colab": {
          "base_uri": "https://localhost:8080/"
        },
        "id": "DmQ6e_VsqzAd",
        "outputId": "58fd5f33-0449-4cdf-b036-8c3e6c58cb7c"
      },
      "execution_count": null,
      "outputs": [
        {
          "output_type": "stream",
          "name": "stdout",
          "text": [
            "uIGV\n"
          ]
        }
      ]
    },
    {
      "cell_type": "code",
      "source": [
        "a = list(set(list(input())))\n",
        "b = list(set(list(input())))\n",
        "if a==b:\n",
        "  print(1)\n",
        "else:\n",
        "  print(0)"
      ],
      "metadata": {
        "colab": {
          "base_uri": "https://localhost:8080/"
        },
        "id": "GxpUimU8pFNZ",
        "outputId": "83a982b6-2502-4d9e-c621-564e5ef6ac51"
      },
      "execution_count": null,
      "outputs": [
        {
          "output_type": "stream",
          "name": "stdout",
          "text": [
            "asdfvf\n",
            "werfgfvcxds\n",
            "0\n"
          ]
        }
      ]
    },
    {
      "cell_type": "code",
      "source": [
        "a = input()\n",
        "b = input()\n",
        "if len(a)==len(b):\n",
        "  a = list(set(list(a)))\n",
        "  b = list(set(list(b)))\n",
        "  if a==b:\n",
        "    print(1)\n",
        "  else:\n",
        "    print(0)\n",
        "else:\n",
        "    print(0)"
      ],
      "metadata": {
        "colab": {
          "base_uri": "https://localhost:8080/"
        },
        "id": "kB3IJnPipFLA",
        "outputId": "267f3707-b0af-4f83-9509-81791916e2aa"
      },
      "execution_count": null,
      "outputs": [
        {
          "output_type": "stream",
          "name": "stdout",
          "text": [
            "asdf\n",
            "asdfa\n",
            "0\n"
          ]
        }
      ]
    },
    {
      "cell_type": "code",
      "source": [
        "a = input()\n",
        "if len(a)==1:\n",
        "  print(0)\n",
        "else:\n",
        "  v = 0\n",
        "  c = 0\n",
        "  for x in a:\n",
        "    if x == 'a' or x == 'e' or x == 'i' or x == 'o' or x == 'u':\n",
        "      v = v+1\n",
        "    else:\n",
        "      c = c+1\n",
        "\n",
        "  # print('v',v)\n",
        "  # print('c',c)\n",
        "\n",
        "  max = v+c\n",
        "  print(max)"
      ],
      "metadata": {
        "colab": {
          "base_uri": "https://localhost:8080/"
        },
        "id": "kF5QvFj7nERC",
        "outputId": "317aa172-63b7-43c5-d8ea-5f245e91c1ca"
      },
      "execution_count": null,
      "outputs": [
        {
          "output_type": "stream",
          "name": "stdout",
          "text": [
            "v 3\n",
            "c 11\n"
          ]
        }
      ]
    },
    {
      "cell_type": "code",
      "source": [
        "a = list(input())\n",
        "b = []\n",
        "for x in a:\n",
        "  b.append(a.count(x))\n",
        "c = dict(zip(a,b))\n",
        "d = list(c.items())\n",
        "e = []\n",
        "for x in d:\n",
        "  for y in x:\n",
        "    e.append(y)\n",
        "print(*e,sep=\"\")"
      ],
      "metadata": {
        "colab": {
          "base_uri": "https://localhost:8080/"
        },
        "id": "XYxYS9lhi3fF",
        "outputId": "e4e9628a-107d-4ac4-c3cc-ff7bf297e70b"
      },
      "execution_count": null,
      "outputs": [
        {
          "output_type": "stream",
          "name": "stdout",
          "text": [
            "asdfgh\n",
            "a1s1d1f1g1h1\n"
          ]
        }
      ]
    },
    {
      "cell_type": "code",
      "source": [
        "a = list(input())\n",
        "try:\n",
        "  a.remove(' ')\n",
        "  b = []\n",
        "  for x in a:\n",
        "    b.append(a.count(x))\n",
        "  t = -1\n",
        "  g = []\n",
        "  for x in b:\n",
        "    t = t+1\n",
        "    if x==1:\n",
        "      g.append(a[t])\n",
        "  print(*g,sep='')\n",
        "except:\n",
        "  a=list(a)\n",
        "  b = sorted(set(a), key=lambda x: a.index(x))\n",
        "  print(*b,sep='')"
      ],
      "metadata": {
        "id": "y6XPcK9sfRwH"
      },
      "execution_count": null,
      "outputs": []
    },
    {
      "cell_type": "code",
      "source": [
        "a = int(input())\n",
        "b=[]\n",
        "\n",
        "for x in range(0,a):\n",
        "  b.append(input())\n",
        "b = sorted(b)\n",
        "print(b[0])"
      ],
      "metadata": {
        "id": "1tPpTCFKdKea"
      },
      "execution_count": null,
      "outputs": []
    },
    {
      "cell_type": "code",
      "source": [
        "a = [str(i).capitalize() for i in input().split(' ')]\n",
        "print(*a,sep='')"
      ],
      "metadata": {
        "id": "APhskTSZcL3C"
      },
      "execution_count": null,
      "outputs": []
    },
    {
      "cell_type": "code",
      "source": [
        "a = list(input())\n",
        "b = []\n",
        "try:\n",
        "  for x in range(len(a)):\n",
        "    if a[x]==a[x+1]:\n",
        "      b.append(a[x+1])\n",
        "      a.remove(b[0])\n",
        "      a.remove(b[0])\n",
        "except:\n",
        "  pass\n",
        "print(*a,sep=\"\")"
      ],
      "metadata": {
        "colab": {
          "base_uri": "https://localhost:8080/"
        },
        "id": "2y7oOfSbStEz",
        "outputId": "de9abeb6-67c0-4145-8b3b-3ff670795cd6"
      },
      "execution_count": null,
      "outputs": [
        {
          "output_type": "stream",
          "name": "stdout",
          "text": [
            "1331\n",
            "11\n"
          ]
        }
      ]
    },
    {
      "cell_type": "code",
      "source": [
        "a = list(input())\n",
        "b = []\n",
        "for x in a:\n",
        "  b.append(a.count(x))\n",
        "t = -1\n",
        "g = []\n",
        "for x in b:\n",
        "  t = t+1\n",
        "  if x==1:\n",
        "    g.append(a[t])\n",
        "print(*g,sep='')"
      ],
      "metadata": {
        "colab": {
          "base_uri": "https://localhost:8080/"
        },
        "id": "EFb_RdeK6v2x",
        "outputId": "c4272a6a-ab44-4100-d633-82ceaa402daa"
      },
      "execution_count": null,
      "outputs": [
        {
          "output_type": "stream",
          "name": "stdout",
          "text": [
            "mississipie\n",
            "mpe\n"
          ]
        }
      ]
    },
    {
      "cell_type": "code",
      "source": [
        "aa = 'a'\n",
        "b = 'an'\n",
        "c = 'the'\n",
        "a = [str(i).lower() for i in input().split(' ')]\n",
        "d = []\n",
        "t = -1\n",
        "for x in a:\n",
        "  t = t+1\n",
        "  if x==aa or x==b or x==c:\n",
        "    d.append(a[t+1])\n",
        "if len(d)==0:\n",
        "  print(-1)\n",
        "else:\n",
        "  print(*d)"
      ],
      "metadata": {
        "colab": {
          "base_uri": "https://localhost:8080/"
        },
        "id": "nZspY98Heoeb",
        "outputId": "38376716-35a2-4f72-9c3c-60f573805982"
      },
      "execution_count": null,
      "outputs": [
        {
          "output_type": "stream",
          "name": "stdout",
          "text": [
            "das sda vga sv dv\n",
            "-1\n"
          ]
        }
      ]
    },
    {
      "cell_type": "code",
      "source": [
        "a = int(input())\n",
        "b = 0\n",
        "c = []\n",
        "while b<a:\n",
        "  c.append(input())\n",
        "  b+=1\n",
        "d = []\n",
        "for x in c:\n",
        "  if ''.join(sorted(list(x))) in ''.join(sorted(c[0])):\n",
        "    d.append(1)\n",
        "  else:\n",
        "    d.append(0)\n",
        "print(sum(d))"
      ],
      "metadata": {
        "colab": {
          "base_uri": "https://localhost:8080/"
        },
        "id": "k-2cPCKIeY6e",
        "outputId": "036efb1d-579b-494a-fd72-969c38ecab1b"
      },
      "execution_count": null,
      "outputs": [
        {
          "output_type": "stream",
          "name": "stdout",
          "text": [
            "5\n",
            "kabali\n",
            "kaabli\n",
            "kababa\n",
            "kab\n",
            "kabail\n",
            "3\n"
          ]
        }
      ]
    },
    {
      "cell_type": "code",
      "source": [
        "d = []\n",
        "for x in c:\n",
        "  if ''.join(sorted(list(x))) in ''.join(sorted(c[0])):\n",
        "    d.append(1)\n",
        "  else:\n",
        "    d.append(0)"
      ],
      "metadata": {
        "id": "pvXUj7ZNfUVe"
      },
      "execution_count": null,
      "outputs": []
    },
    {
      "cell_type": "code",
      "source": [
        "a = [str(i) for i in input().split(' ')]\n",
        "k = a.copy()\n",
        "b = a[1:]\n",
        "\n",
        "for x,y in zip(a,b):\n",
        "  if x==y:\n",
        "    a.remove(x)\n",
        "    a.remove(x)\n",
        "    b.remove(x)\n",
        "    b.remove(x)\n",
        "for x,y in zip(a,b):\n",
        "  if x==y:\n",
        "    a.remove(x)\n",
        "    a.remove(x)\n",
        "    b.remove(x)\n",
        "    b.remove(x)\n",
        "for x,y in zip(a,b):\n",
        "  if x==y:\n",
        "    a.remove(x)\n",
        "    a.remove(x)\n",
        "    b.remove(x)\n",
        "    b.remove(x)\n",
        "if len(a)==0:\n",
        "  print(-1)\n",
        "else:\n",
        "  print(*a)"
      ],
      "metadata": {
        "id": "D6LLksLCf8bY",
        "colab": {
          "base_uri": "https://localhost:8080/"
        },
        "outputId": "40f1175a-094d-42b4-877d-adabd16d21e0"
      },
      "execution_count": null,
      "outputs": [
        {
          "output_type": "stream",
          "name": "stdout",
          "text": [
            "We love we love\n",
            "We love we love\n"
          ]
        }
      ]
    },
    {
      "cell_type": "code",
      "source": [
        "a,b = input().split()\n",
        "a = int(a)\n",
        "b = int(b)\n",
        "c = [int(i) for i in input().split(' ')]\n",
        "try:\n",
        "  print(list(set(c))[b-1])\n",
        "except:\n",
        "  print(-1)"
      ],
      "metadata": {
        "colab": {
          "base_uri": "https://localhost:8080/"
        },
        "id": "Z3Zwe_azWEnq",
        "outputId": "5464ee19-9e9f-4780-9be4-5d40194376b0"
      },
      "execution_count": null,
      "outputs": [
        {
          "output_type": "stream",
          "name": "stdout",
          "text": [
            "5 4\n",
            "1 1 1 1 5\n",
            "-1\n"
          ]
        }
      ]
    },
    {
      "cell_type": "code",
      "source": [
        "a = [2, 3, 5, 7, 11, 13, 17, 19, 23, 29, 31, 37, 41, 43, 47, 53, 59, 61, 67, 71, 73, 79, 83, 89, 97]\n",
        "b,c = input().split()\n",
        "d = len(b)\n",
        "e = len(c)\n",
        "if d in a:\n",
        "    n = a.index(d)\n",
        "if a[n-1]==e or a[n+1]==e:\n",
        "    print(\"yes\")\n",
        "else:\n",
        "    print('no')"
      ],
      "metadata": {
        "colab": {
          "base_uri": "https://localhost:8080/"
        },
        "id": "pB5wXP3qWElc",
        "outputId": "3bbf1bda-a1aa-4239-9e59-2e3056cc3274"
      },
      "execution_count": null,
      "outputs": [
        {
          "output_type": "stream",
          "name": "stdout",
          "text": [
            "GUVI GEEKS\n",
            "no\n"
          ]
        }
      ]
    },
    {
      "cell_type": "code",
      "source": [
        "a = [2, 3, 5, 7, 11, 13, 17, 19, 23, 29, 31, 37, 41, 43, 47, 53, 59, 61, 67, 71, 73, 79, 83, 89, 97]\n",
        "b,c = input().split()\n",
        "d = len(b)\n",
        "e = len(c)\n",
        "if d in a:\n",
        "    n = a.index(d)\n",
        "if a[n-1]==e or a[n-1]==e:\n",
        "    print(\"yes\")\n",
        "else:\n",
        "    print('no')"
      ],
      "metadata": {
        "colab": {
          "base_uri": "https://localhost:8080/"
        },
        "outputId": "a082a3c9-f719-496d-e142-4ab1afd4951c",
        "id": "-3Eg4eWRqMWb"
      },
      "execution_count": null,
      "outputs": [
        {
          "output_type": "stream",
          "name": "stdout",
          "text": [
            "GUVIS GEEKTEC\n",
            "no\n"
          ]
        }
      ]
    },
    {
      "cell_type": "code",
      "source": [
        "a = [2, 3, 5, 7, 11, 13, 17, 19, 23, 29, 31, 37, 41, 43, 47, 53, 59, 61, 67, 71, 73, 79, 83, 89, 97]\n",
        "b,c = input().split()\n",
        "d = len(b)\n",
        "e = len(c)\n",
        "if d in a:\n",
        "    n = a.index(d)\n",
        "if a[n-1]==e or a[n-1]==e:\n",
        "    print(\"yes\")\n",
        "else:\n",
        "    print('no')"
      ],
      "metadata": {
        "colab": {
          "base_uri": "https://localhost:8080/"
        },
        "outputId": "a082a3c9-f719-496d-e142-4ab1afd4951c",
        "id": "-YqqyaLnqLSs"
      },
      "execution_count": null,
      "outputs": [
        {
          "output_type": "stream",
          "name": "stdout",
          "text": [
            "GUVIS GEEKTEC\n",
            "no\n"
          ]
        }
      ]
    },
    {
      "cell_type": "code",
      "source": [
        "a = [2, 3, 5, 7, 11, 13, 17, 19, 23, 29, 31, 37, 41, 43, 47, 53, 59, 61, 67, 71, 73, 79, 83, 89, 97]\n",
        "b,c = input().split()\n",
        "d = len(b)\n",
        "e = len(c)\n",
        "if d in a:\n",
        "    n = a.index(d)\n",
        "if a[n-1]==e or a[n-1]==e:\n",
        "    print(\"yes\")\n",
        "else:\n",
        "    print('no')"
      ],
      "metadata": {
        "colab": {
          "base_uri": "https://localhost:8080/"
        },
        "outputId": "a082a3c9-f719-496d-e142-4ab1afd4951c",
        "id": "x_m5T58NqJfD"
      },
      "execution_count": null,
      "outputs": [
        {
          "output_type": "stream",
          "name": "stdout",
          "text": [
            "GUVIS GEEKTEC\n",
            "no\n"
          ]
        }
      ]
    },
    {
      "cell_type": "code",
      "source": [
        "if a[n-1]==e or a[n+1]==e:\n",
        "  print(0)"
      ],
      "metadata": {
        "colab": {
          "base_uri": "https://localhost:8080/"
        },
        "id": "JMt3rqz_p0IE",
        "outputId": "2219e388-cbd6-497b-caf6-ee42376f13fc"
      },
      "execution_count": null,
      "outputs": [
        {
          "output_type": "stream",
          "name": "stdout",
          "text": [
            "0\n"
          ]
        }
      ]
    },
    {
      "cell_type": "code",
      "source": [
        "a,b,c=input().split('/')\n",
        "a = int(a)\n",
        "b = int(b)\n",
        "c = len(c)\n",
        "\n",
        "x = list(range(1,32))\n",
        "y = list(range(1,13))\n",
        "\n",
        "d = []\n",
        "if a in x:\n",
        "  d.append(1)\n",
        "else:\n",
        "  d.append(0)\n",
        "\n",
        "if b in y:\n",
        "  d.append(1)\n",
        "else:\n",
        "  d.append(0)\n",
        "\n",
        "if c == 4:\n",
        "  d.append(1)\n",
        "else:\n",
        "  d.append(0)\n",
        "\n",
        "if sum(d)==3:\n",
        "  print('yes')\n",
        "else:\n",
        "  print('no')"
      ],
      "metadata": {
        "colab": {
          "base_uri": "https://localhost:8080/"
        },
        "id": "KcQmNwzsWEjU",
        "outputId": "e0eeceba-4063-4633-aa37-6d441e70c944"
      },
      "execution_count": null,
      "outputs": [
        {
          "output_type": "stream",
          "name": "stdout",
          "text": [
            "01/12/1999\n",
            "yes\n"
          ]
        }
      ]
    },
    {
      "cell_type": "code",
      "source": [
        "a,b,z = input().split()\n",
        "a = list(a)\n",
        "b = list(b)\n",
        "z = int(z)\n",
        "c = []\n",
        "for x,y in zip(a,b):\n",
        "  if x==y:\n",
        "    c.append(0)\n",
        "  else:\n",
        "    c.append(1)\n",
        "\n",
        "d = sum(c)\n",
        "if z==d:\n",
        "  print('yes')\n",
        "else:\n",
        "  print('no')"
      ],
      "metadata": {
        "colab": {
          "base_uri": "https://localhost:8080/"
        },
        "id": "7p3iCR6rTBhI",
        "outputId": "81244e7d-9ddd-4bba-8425-3b57dac0efb9"
      },
      "execution_count": null,
      "outputs": [
        {
          "output_type": "stream",
          "name": "stdout",
          "text": [
            "abc ade 2\n",
            "yes\n"
          ]
        }
      ]
    },
    {
      "cell_type": "code",
      "source": [
        "a,b = input().split()\n",
        "a = list(a)\n",
        "b = int(b)\n",
        "a = set(a)\n",
        "c = []\n",
        "for x in a:\n",
        "  c.append(int(x))\n",
        "c = sorted(c)\n",
        "d = list(range(0,int(b)+1))\n",
        "if c==d:\n",
        "  print('yes')\n",
        "else:\n",
        "  print('no')"
      ],
      "metadata": {
        "colab": {
          "base_uri": "https://localhost:8080/"
        },
        "id": "BsgJH1TYSAzi",
        "outputId": "62e3742b-2566-4f18-94e5-a3876ab60a66"
      },
      "execution_count": null,
      "outputs": [
        {
          "output_type": "stream",
          "name": "stdout",
          "text": [
            "123403453 4\n",
            "no\n"
          ]
        }
      ]
    },
    {
      "cell_type": "code",
      "source": [
        "a,b = input().split()\n",
        "a = list(a)\n",
        "b = list(b)\n",
        "c = []\n",
        "for x,y in zip(a,b):\n",
        "  if x==y:\n",
        "    c.append(0)\n",
        "  else:\n",
        "    c.append(1)\n",
        "print(sum(c))"
      ],
      "metadata": {
        "colab": {
          "base_uri": "https://localhost:8080/"
        },
        "id": "SiECMmetN8Pw",
        "outputId": "521444d4-b256-4160-985e-4d942e16849c"
      },
      "execution_count": null,
      "outputs": [
        {
          "output_type": "stream",
          "name": "stdout",
          "text": [
            "1\n"
          ]
        }
      ]
    },
    {
      "cell_type": "code",
      "source": [
        "a = [int(i) for i in input().split(\" \")]\n",
        "b = []\n",
        "c = 0\n",
        "for x in a:\n",
        "  c = c+x\n",
        "  b.append(c)\n",
        "print(*b)"
      ],
      "metadata": {
        "colab": {
          "base_uri": "https://localhost:8080/"
        },
        "id": "2-Q5tbMIJU1i",
        "outputId": "3206c71d-4dde-4c2b-a34a-61a43eb95393"
      },
      "execution_count": null,
      "outputs": [
        {
          "output_type": "stream",
          "name": "stdout",
          "text": [
            "2 4 4 4\n",
            "2 6 10 14\n"
          ]
        }
      ]
    },
    {
      "cell_type": "code",
      "source": [
        "a = [str(i) for i in input().split(\" \")]\n",
        "b = []\n",
        "def rev(a):\n",
        "  b.append(a[0]+a[1:-1][::-1]+a[-1])\n",
        "\n",
        "for x in a:\n",
        "  if len(x)==1:\n",
        "    b.append(x)\n",
        "  else:\n",
        "    rev(x)\n",
        "\n",
        "print(*b)"
      ],
      "metadata": {
        "colab": {
          "base_uri": "https://localhost:8080/"
        },
        "id": "SjtgUCSUC47n",
        "outputId": "e31f55b5-0fb7-47ba-86c5-ed416fed1357"
      },
      "execution_count": null,
      "outputs": [
        {
          "output_type": "stream",
          "name": "stdout",
          "text": [
            "i enjoy codekata\n",
            "i eojny ctakedoa\n"
          ]
        }
      ]
    },
    {
      "cell_type": "code",
      "source": [
        "a,b = input().split()\n",
        "\n",
        "a = list(a)\n",
        "b = list(b)\n",
        "\n",
        "c = []\n",
        "d = []\n",
        "\n",
        "for x in a:\n",
        "  c.append(a.count(x))\n",
        "for x in b:\n",
        "  d.append(b.count(x))\n",
        "\n",
        "if c==d:\n",
        "  print('yes')\n",
        "else:\n",
        "  print('no')"
      ],
      "metadata": {
        "colab": {
          "base_uri": "https://localhost:8080/"
        },
        "id": "PHkY1cKmC45m",
        "outputId": "6a3b1d82-174e-485c-c917-74c7150765ed"
      },
      "execution_count": null,
      "outputs": [
        {
          "output_type": "stream",
          "name": "stdout",
          "text": [
            "yes\n"
          ]
        }
      ]
    },
    {
      "cell_type": "code",
      "source": [
        "a,b = input().split()\n",
        "c = 0\n",
        "for x in a:\n",
        "  if a[a.index(x)] == b:\n",
        "    c = c+1\n",
        "  else:\n",
        "    pass\n",
        "if c==0:\n",
        "  print(-1)\n",
        "else:\n",
        "  print(c)"
      ],
      "metadata": {
        "colab": {
          "base_uri": "https://localhost:8080/"
        },
        "id": "M-DnXTuJ9mEe",
        "outputId": "d016792b-cba3-438b-f4f0-700ae3a08c19"
      },
      "execution_count": null,
      "outputs": [
        {
          "output_type": "stream",
          "name": "stdout",
          "text": [
            "codekata a\n",
            "2\n"
          ]
        }
      ]
    },
    {
      "cell_type": "code",
      "source": [
        "a = [str(i) for i in input().split(\" \")]\n",
        "\n",
        "t = -1\n",
        "for x in a:\n",
        "  t = t+1\n",
        "  if x == 'and':\n",
        "    b = a[t-1]\n",
        "    c = a[t+1]\n",
        "    a[t-1] = c\n",
        "    a[t+1] = b\n",
        "\n",
        "print(*a)"
      ],
      "metadata": {
        "colab": {
          "base_uri": "https://localhost:8080/"
        },
        "id": "jkhLK0UA2ud0",
        "outputId": "1d1b07fa-c223-4e03-df8d-cf37ca02db81"
      },
      "execution_count": null,
      "outputs": [
        {
          "output_type": "stream",
          "name": "stdout",
          "text": [
            "jack and jill went up and down to get water\n",
            "jill and jack went down and up to get water\n"
          ]
        }
      ]
    },
    {
      "cell_type": "code",
      "source": [
        "a = int(input())\n",
        "\n",
        "b = []\n",
        "for x in range(0,a):\n",
        "  b.append(input())\n",
        "\n",
        "c = []\n",
        "for x in b:\n",
        "  c.append(b.count(x))\n",
        "\n",
        "if 2 in c:\n",
        "  print(\"yes\")\n",
        "else:\n",
        "  print(\"no\")"
      ],
      "metadata": {
        "id": "7FQb5avU2h9q"
      },
      "execution_count": null,
      "outputs": []
    },
    {
      "cell_type": "code",
      "source": [
        "a = list(input().split())\n",
        "for x in range(1,len(a)-1):\n",
        "  a[x] = a[x][::-1]\n",
        "print(*a)"
      ],
      "metadata": {
        "colab": {
          "base_uri": "https://localhost:8080/"
        },
        "id": "IeZFagOa14dL",
        "outputId": "9b99d288-56bf-4910-b10a-3e9f2e9235b1"
      },
      "execution_count": null,
      "outputs": [
        {
          "output_type": "stream",
          "name": "stdout",
          "text": [
            "Hi woh era you\n"
          ]
        }
      ]
    },
    {
      "cell_type": "code",
      "source": [
        "a,b = input().split()\n",
        "a = int(a)\n",
        "b = int(b)\n",
        "\n",
        "c = []\n",
        "for x in range(0,a):\n",
        "  d,e = input().split()\n",
        "  c.append(int(d))\n",
        "  c.append(int(e))\n",
        "\n",
        "if b in c:\n",
        "  print(\"yes\")\n",
        "else:\n",
        "  print(\"no\")"
      ],
      "metadata": {
        "colab": {
          "base_uri": "https://localhost:8080/"
        },
        "id": "aIS3Gcylz5do",
        "outputId": "b7daa7d3-6b02-47e1-d8e4-fd98d38cd912"
      },
      "execution_count": null,
      "outputs": [
        {
          "name": "stdout",
          "output_type": "stream",
          "text": [
            "3 5\n"
          ]
        }
      ]
    },
    {
      "cell_type": "code",
      "source": [
        "a,b = input().split()\n",
        "if b in a:\n",
        "  print(\"yes\")\n",
        "else:\n",
        "  print(\"no\")"
      ],
      "metadata": {
        "colab": {
          "base_uri": "https://localhost:8080/"
        },
        "id": "NVTSOSygq4yN",
        "outputId": "0ad6ca9f-f001-454b-e8af-d5ef0f8489a2"
      },
      "execution_count": null,
      "outputs": [
        {
          "output_type": "stream",
          "name": "stdout",
          "text": [
            "codekata code\n",
            "yes\n"
          ]
        }
      ]
    },
    {
      "cell_type": "code",
      "source": [
        "a = list(set(list(input())))\n",
        "a = sorted(a)\n",
        "print(*a,sep=\"\")"
      ],
      "metadata": {
        "colab": {
          "base_uri": "https://localhost:8080/"
        },
        "id": "-xxCvyNaq4m7",
        "outputId": "2a5d2ccc-284e-41a0-d909-ed322b9b3172"
      },
      "execution_count": null,
      "outputs": [
        {
          "output_type": "stream",
          "name": "stdout",
          "text": [
            "aabbaa\n",
            "ab\n"
          ]
        }
      ]
    },
    {
      "cell_type": "code",
      "source": [
        "a = int(input())\n",
        "b = []\n",
        "for x in range(0,a):\n",
        "  b.append(input())\n",
        "\n",
        "c = []\n",
        "for x in b:\n",
        "  if (\"a\" or \"e\" or \"i\" or \"o\" or \"u\") in list(x.lower()):\n",
        "    c.append(1)\n",
        "  else:\n",
        "    c.append(0)\n",
        "if 0 in c:\n",
        "  print(\"no\")\n",
        "else:\n",
        "  print(\"yes\")"
      ],
      "metadata": {
        "colab": {
          "base_uri": "https://localhost:8080/"
        },
        "id": "0DzXZHpeoCCp",
        "outputId": "91149ac3-d54d-4e51-b78f-5c2ee70d27dd"
      },
      "execution_count": null,
      "outputs": [
        {
          "name": "stdout",
          "output_type": "stream",
          "text": [
            "3\n",
            "akash\n",
            "arnav\n",
            "harsh\n"
          ]
        }
      ]
    },
    {
      "cell_type": "code",
      "source": [
        "a,b = input().split()\n",
        "a = list(a)\n",
        "b = int(b)\n",
        "try:\n",
        "  c = list(range(0,len(a)+1,b))\n",
        "  for x in c:\n",
        "    a[x]=a[x].upper()\n",
        "\n",
        "  print(*a,sep=\"\")\n",
        "except:\n",
        "  print(*a,sep=\"\")"
      ],
      "metadata": {
        "colab": {
          "base_uri": "https://localhost:8080/"
        },
        "id": "vazfKnuBjUyE",
        "outputId": "ebadb4ea-7170-4ed4-835f-ff75849dbd36"
      },
      "execution_count": null,
      "outputs": [
        {
          "output_type": "stream",
          "name": "stdout",
          "text": [
            "string 2\n",
            "StRiNg\n"
          ]
        }
      ]
    },
    {
      "cell_type": "code",
      "source": [
        "a,b = input().split()\n",
        "a = int(a)\n",
        "b = int(b)\n",
        "c = []\n",
        "for x in range(0,a):\n",
        "  c.append(input())\n",
        "  \n",
        "d = []\n",
        "for x in c:\n",
        "  d.append(c.count(x))\n",
        "\n",
        "for x in d:\n",
        "  if x==b:\n",
        "    z = 1\n",
        "  else:\n",
        "    z = 0\n",
        "\n",
        "if z==1:\n",
        "  print(\"yes\")\n",
        "else:\n",
        "  print(\"no\")"
      ],
      "metadata": {
        "colab": {
          "base_uri": "https://localhost:8080/"
        },
        "id": "Lb9CsrldiaDs",
        "outputId": "412ac9e3-bf78-4a13-daee-fb608a245e0b"
      },
      "execution_count": null,
      "outputs": [
        {
          "output_type": "stream",
          "name": "stdout",
          "text": [
            "5 3\n",
            "dfdbghj\n",
            "szxcgv\n",
            "dfxghn\n",
            "sdfgvb\n",
            "sdfvb\n",
            "no\n"
          ]
        }
      ]
    },
    {
      "cell_type": "code",
      "source": [
        "a,z = input().split()\n",
        "z = int(z)\n",
        "a = list(a)\n",
        "l = len(a)\n",
        "b = []\n",
        "for x in range(z,l+1,z):\n",
        "  b.append(x)\n",
        "c = []\n",
        "for x in b:\n",
        "  c.append(a[x-1])\n",
        "print(*c)"
      ],
      "metadata": {
        "colab": {
          "base_uri": "https://localhost:8080/"
        },
        "id": "uyTjhwGUhitE",
        "outputId": "8fd651b1-72eb-478c-822d-485bcc904863"
      },
      "execution_count": null,
      "outputs": [
        {
          "output_type": "stream",
          "name": "stdout",
          "text": [
            "string 3\n",
            "r g\n"
          ]
        }
      ]
    },
    {
      "cell_type": "code",
      "source": [
        "a = list(input())\n",
        "b = []\n",
        "for x in a:\n",
        "  if x!=\" \":\n",
        "    b.append(x)\n",
        "  else:\n",
        "    pass\n",
        "print(*b,sep=(\"\"))"
      ],
      "metadata": {
        "id": "yD86iakCKLTu"
      },
      "execution_count": null,
      "outputs": []
    },
    {
      "cell_type": "code",
      "source": [
        "def a():\n",
        "  print(\"call a()\")\n",
        "  b()\n",
        "  print(\"After b()\")\n",
        "  c()\n",
        "  print(\"Return a()\")\n",
        "\n",
        "def b():\n",
        "  print(\"call b()\")\n",
        "  d()\n",
        "  print(\"Return b()\")\n",
        "\n",
        "def d():\n",
        "  print(\"call d()\")\n",
        "  print(\"Return d()\")\n",
        "\n",
        "def c():\n",
        "  print(\"call c()\")\n",
        "  print(\"Return c()\")"
      ],
      "metadata": {
        "id": "VXMb8e8VXGn-"
      },
      "execution_count": null,
      "outputs": []
    },
    {
      "cell_type": "code",
      "source": [
        "a()"
      ],
      "metadata": {
        "colab": {
          "base_uri": "https://localhost:8080/"
        },
        "id": "grcZC22G_VME",
        "outputId": "2b5b4b83-4205-4de1-ceb8-79b5501ee445"
      },
      "execution_count": null,
      "outputs": [
        {
          "output_type": "stream",
          "name": "stdout",
          "text": [
            "call a()\n",
            "call b()\n",
            "call d()\n",
            "Return d()\n",
            "Return b()\n",
            "After b()\n",
            "call c()\n",
            "Return c()\n",
            "Return a()\n"
          ]
        }
      ]
    },
    {
      "cell_type": "code",
      "source": [
        "print(int(list(bin(int(input()))[2:])[::-1].index(\"1\"))+1)"
      ],
      "metadata": {
        "colab": {
          "base_uri": "https://localhost:8080/"
        },
        "id": "rf94l5akI9yg",
        "outputId": "7366f6da-346b-42a5-a0af-928fdcbcec9a"
      },
      "execution_count": null,
      "outputs": [
        {
          "output_type": "stream",
          "name": "stdout",
          "text": [
            "100\n",
            "3\n"
          ]
        }
      ]
    },
    {
      "cell_type": "code",
      "source": [
        "a = list(input())\n",
        "a = a[::-1]\n",
        "b = []\n",
        "for x in a:\n",
        "  b.append(x)\n",
        "  b.append(\"-\")\n",
        "print(*b[:-1],sep=\"\")"
      ],
      "metadata": {
        "colab": {
          "base_uri": "https://localhost:8080/"
        },
        "id": "WVWXVmhc0jwu",
        "outputId": "87e8f4e5-8750-41c3-9f26-7dd442283219"
      },
      "execution_count": null,
      "outputs": [
        {
          "output_type": "stream",
          "name": "stdout",
          "text": [
            "codekata\n",
            "a-t-a-k-e-d-o-c\n"
          ]
        }
      ]
    },
    {
      "cell_type": "code",
      "source": [
        "a = [int(i) for i in input().split(\" \")]\n",
        "for x in a:\n",
        "  ans = x&a[0]\n",
        "print(x)"
      ],
      "metadata": {
        "colab": {
          "base_uri": "https://localhost:8080/"
        },
        "id": "56j-79BPlt4A",
        "outputId": "b5abe4f9-74ac-4bd1-af1f-5097f317d10c"
      },
      "execution_count": null,
      "outputs": [
        {
          "name": "stdout",
          "output_type": "stream",
          "text": [
            "4 3 2 1\n"
          ]
        },
        {
          "output_type": "execute_result",
          "data": {
            "text/plain": [
              "1"
            ]
          },
          "metadata": {},
          "execution_count": 23
        }
      ]
    },
    {
      "cell_type": "code",
      "source": [
        "\n",
        "\n",
        "aa = input()\n",
        "a = [int(i) for i in input().split(\" \")]\n",
        "b = []\n",
        "for x in a:\n",
        "  if x!=0:\n",
        "    b.append(x)\n",
        "b = list(set(b))\n",
        "c = b[::-1]\n",
        "d = b+c\n",
        "print(*d,sep=\"\")"
      ],
      "metadata": {
        "id": "Zavfzg4unh9v"
      },
      "execution_count": null,
      "outputs": []
    },
    {
      "cell_type": "code",
      "source": [
        "aa = input()\n",
        "a = [int(i) for i in input().split(\" \")]\n",
        "b = []\n",
        "for x in a:\n",
        "  if x!=0:\n",
        "    b.append(x)\n",
        "b = b[0:(len(b)+1)//2]\n",
        "c = b[::-1]\n",
        "d = b+c\n",
        "print(*d,sep=\"\")"
      ],
      "metadata": {
        "id": "5Kg3AvFLnR0I"
      },
      "execution_count": null,
      "outputs": []
    },
    {
      "cell_type": "code",
      "source": [
        "a = [\"abc\", \"aab\", \"abc\", \"aba\"]\n",
        "b = []\n",
        "c = []\n",
        "for x in a:\n",
        "  if x in b:\n",
        "    c.append(x+\"1\")\n",
        "  else:\n",
        "    b.append(x)\n",
        "    c.append(\"Verified\")"
      ],
      "metadata": {
        "id": "BXg-E9E8nDTA"
      },
      "execution_count": null,
      "outputs": []
    },
    {
      "cell_type": "code",
      "source": [
        "aa = input()\n",
        "a = [str(i) for i in input().split(\" \")]\n",
        "b = []\n",
        "c = []\n",
        "for x in a:\n",
        "  if x in b:\n",
        "    c.append(x+\"1\")\n",
        "  else:\n",
        "    b.append(x)\n",
        "    c.append(\"Verified\")\n",
        "print(*c)"
      ],
      "metadata": {
        "colab": {
          "base_uri": "https://localhost:8080/"
        },
        "id": "amSTfwlFqCbC",
        "outputId": "ee8937bb-9b39-4ff7-af28-43556936bb0f"
      },
      "execution_count": null,
      "outputs": [
        {
          "name": "stdout",
          "output_type": "stream",
          "text": [
            "4\n",
            "abc aab abc aba\n"
          ]
        }
      ]
    },
    {
      "cell_type": "code",
      "source": [
        "a,b = input().split()\n",
        "a = list(a)\n",
        "b = list(b)\n",
        "c = []\n",
        "for x in a:\n",
        "  if x not in b:\n",
        "    c.append(x)\n",
        "if len(c)==0:\n",
        "  print(-1)\n",
        "else:\n",
        "  print(*c, sep=\"\")"
      ],
      "metadata": {
        "id": "jjXMpWJhmqVi",
        "colab": {
          "base_uri": "https://localhost:8080/"
        },
        "outputId": "abae86c9-fea7-4b1d-8f1e-766afbe39f4d"
      },
      "execution_count": null,
      "outputs": [
        {
          "output_type": "stream",
          "name": "stdout",
          "text": [
            "GUVI GEEK\n",
            "UVI\n"
          ]
        }
      ]
    },
    {
      "cell_type": "code",
      "source": [
        "import pandas as pd\n",
        "b = list(input())\n",
        "d = []\n",
        "for x in b:\n",
        "  d.append(b.count(x))\n",
        "e = pd.DataFrame(b,d)\n",
        "f = list(e[e.index==1][0])\n",
        "if len(f)==0:\n",
        "  print(-1)\n",
        "else:\n",
        "  print(*f)"
      ],
      "metadata": {
        "colab": {
          "base_uri": "https://localhost:8080/"
        },
        "id": "g_3h7LfZgSa6",
        "outputId": "a449f0ab-b203-4133-8290-b09e4eee12c5"
      },
      "execution_count": null,
      "outputs": [
        {
          "output_type": "stream",
          "name": "stdout",
          "text": [
            "dabbc\n",
            "d a c\n"
          ]
        }
      ]
    },
    {
      "cell_type": "code",
      "source": [
        "import pandas as pd\n",
        "b = list(input())\n",
        "d = []\n",
        "for x in b:\n",
        "  d.append(b.count(x))\n",
        "e = pd.DataFrame(b,d)\n",
        "f = list(set(list(e[e.index>1][0])))\n",
        "if len(f)==0:\n",
        "  print(-1)\n",
        "else:\n",
        "  print(*f)"
      ],
      "metadata": {
        "colab": {
          "base_uri": "https://localhost:8080/"
        },
        "id": "BHauiA2ptTkb",
        "outputId": "add06e8c-b374-4e3f-f6a4-ff5c6d61e0b4"
      },
      "execution_count": null,
      "outputs": [
        {
          "output_type": "stream",
          "name": "stdout",
          "text": [
            "dabbc\n",
            "b\n"
          ]
        }
      ]
    },
    {
      "cell_type": "code",
      "source": [
        "a,b = input().split(\" \")\n",
        "c = list(range(0,len(b)))\n",
        "d = []\n",
        "for x in c:\n",
        "  d.append(b[x])\n",
        "e = []\n",
        "try:\n",
        "  for x in c:\n",
        "    e.append(a.index(d[x]))\n",
        "except:\n",
        "  pass\n",
        "if len(e)==len(c):\n",
        "  print(\"Yes\")\n",
        "else:\n",
        "  print(\"No\")"
      ],
      "metadata": {
        "colab": {
          "base_uri": "https://localhost:8080/"
        },
        "id": "NyEwuOBfk22X",
        "outputId": "2f45bae2-d4e4-4d8a-efa9-8234750495fb"
      },
      "execution_count": null,
      "outputs": [
        {
          "output_type": "stream",
          "name": "stdout",
          "text": [
            "Yuvi uviray\n",
            "No\n"
          ]
        }
      ]
    },
    {
      "cell_type": "code",
      "source": [
        "a,b = input().split(\" \")\n",
        "if a in b:\n",
        "  print(\"yes\")\n",
        "else:\n",
        "  print(\"no\")"
      ],
      "metadata": {
        "colab": {
          "base_uri": "https://localhost:8080/"
        },
        "id": "SJxaB71GBhQR",
        "outputId": "6da8a9af-b83e-405b-beef-5bd6a48bd7cc"
      },
      "execution_count": null,
      "outputs": [
        {
          "output_type": "stream",
          "name": "stdout",
          "text": [
            "qwer dsfg\n",
            "no\n"
          ]
        }
      ]
    },
    {
      "cell_type": "code",
      "source": [
        "a = [str(i) for i in input().split(\" \")]\n",
        "print(*sorted(a))"
      ],
      "metadata": {
        "colab": {
          "base_uri": "https://localhost:8080/"
        },
        "id": "exDMt1SyCRPZ",
        "outputId": "a2f04181-ebbb-4a21-b30f-5d8f1d7aee1e"
      },
      "execution_count": null,
      "outputs": [
        {
          "output_type": "stream",
          "name": "stdout",
          "text": [
            "esrtdfh hngfd wqertgh\n",
            "esrtdfh hngfd wqertgh\n"
          ]
        }
      ]
    },
    {
      "cell_type": "code",
      "source": [
        "a,b = \"virat\", \"kohli\"\n",
        "c = sorted(a+b)\n",
        "d = c.index(a[0])\n",
        "e = c.index(b[0])\n",
        "if d>e:\n",
        "  print(b,a)\n",
        "else:\n",
        "  print(a,b)"
      ],
      "metadata": {
        "colab": {
          "base_uri": "https://localhost:8080/"
        },
        "id": "UkP-1l6sA-YZ",
        "outputId": "308f21f8-a3cd-4c83-ea12-d0c88bfaa270"
      },
      "execution_count": null,
      "outputs": [
        {
          "output_type": "stream",
          "name": "stdout",
          "text": [
            "kohli virat\n"
          ]
        }
      ]
    },
    {
      "cell_type": "code",
      "source": [
        "a = int(input())\n",
        "b = 0\n",
        "c = []\n",
        "while b<a:\n",
        "  c.append(input())\n",
        "  b+=1\n",
        "d = 0\n",
        "e = list(range(1,len(c)))\n",
        "for x in e:\n",
        "  if ''.join(sorted(c[x])) in ''.join(sorted(c[0])):\n",
        "    d = d+1\n",
        "  else:\n",
        "    pass\n",
        "print(d)"
      ],
      "metadata": {
        "colab": {
          "base_uri": "https://localhost:8080/"
        },
        "id": "prIWKX0W43kp",
        "outputId": "5b4703c5-6d01-443a-9b9a-da48024bd883"
      },
      "execution_count": null,
      "outputs": [
        {
          "output_type": "stream",
          "name": "stdout",
          "text": [
            "5\n",
            "kabali\n",
            "kaabli\n",
            "kababa\n",
            "kab\n",
            "kabail\n",
            "2\n"
          ]
        }
      ]
    },
    {
      "cell_type": "code",
      "source": [
        "e = list(range(1,len(c)))\n",
        "for x in e:\n",
        " print(''.join(sorted(c[x])) in ''.join(sorted(c[0])))"
      ],
      "metadata": {
        "colab": {
          "base_uri": "https://localhost:8080/"
        },
        "id": "MehPgtzO_9CW",
        "outputId": "9224592f-5c0c-423a-9f0d-938ca3da5d56"
      },
      "execution_count": null,
      "outputs": [
        {
          "output_type": "stream",
          "name": "stdout",
          "text": [
            "True\n",
            "False\n",
            "False\n",
            "True\n"
          ]
        }
      ]
    },
    {
      "cell_type": "code",
      "source": [
        "e = list(range(1,len(c)))\n",
        "for x in e:\n",
        " print(''.join(sorted(c[x])), ''.join(sorted(c[0])))"
      ],
      "metadata": {
        "colab": {
          "base_uri": "https://localhost:8080/"
        },
        "id": "XEITjQs-AF7u",
        "outputId": "48bf6cfd-aa7b-4cc5-d29f-59d87c2e8785"
      },
      "execution_count": null,
      "outputs": [
        {
          "output_type": "stream",
          "name": "stdout",
          "text": [
            "aabikl aabikl\n",
            "aaabbk aabikl\n",
            "abk aabikl\n",
            "aabikl aabikl\n"
          ]
        }
      ]
    },
    {
      "cell_type": "code",
      "source": [
        "z = []\n",
        "def panagram(a):\n",
        "  b = len(a)\n",
        "  if b%2!=0:\n",
        "    c = int((b+1)/2)\n",
        "    r = list(range(c,b))\n",
        "    l = list(range(c-2,-1,-1))\n",
        "    d = []\n",
        "    e = []\n",
        "    for x in r:\n",
        "      d.append(a[x])\n",
        "    for y in l:\n",
        "      e.append(a[y])\n",
        "  elif b%2==0:\n",
        "    b = len(a)\n",
        "    c = int(b/2)\n",
        "    r = list(range(c,b))\n",
        "    l = list(range(c-1,-1,-1))\n",
        "    b = 0\n",
        "    d = []\n",
        "    e = []\n",
        "    for x in r:\n",
        "      d.append(a[x])\n",
        "    for y in l:\n",
        "      e.append(a[y])\n",
        "  else:\n",
        "    pass\n",
        "  if d==e:\n",
        "    z.append(1)\n",
        "  else:\n",
        "    z.append(0)\n",
        "\n",
        "t,k = input().split(\" \")\n",
        "panagram(t)\n",
        "panagram(k)\n",
        "if (z[0] == 1 & z[1] == 1):\n",
        "  print(1)\n",
        "else:\n",
        "  print(0)"
      ],
      "metadata": {
        "colab": {
          "base_uri": "https://localhost:8080/"
        },
        "id": "VuJpcr0tkuxP",
        "outputId": "bb8e133a-928c-4f62-8e76-a39d2cc4ccb3"
      },
      "execution_count": null,
      "outputs": [
        {
          "output_type": "stream",
          "name": "stdout",
          "text": [
            "asdsa hgh\n",
            "1\n"
          ]
        }
      ]
    },
    {
      "cell_type": "code",
      "source": [
        "a = int(input())\n",
        "if (a>25 and a>20):\n",
        "  print(\"yes\")\n",
        "else:\n",
        "  print(\"no\")"
      ],
      "metadata": {
        "colab": {
          "base_uri": "https://localhost:8080/"
        },
        "id": "fkBumJ7ZzHY_",
        "outputId": "dcc1a1be-fd25-46b4-d929-13a41f2b7086"
      },
      "execution_count": null,
      "outputs": [
        {
          "name": "stdout",
          "output_type": "stream",
          "text": [
            "34\n"
          ]
        }
      ]
    },
    {
      "cell_type": "code",
      "source": [
        "x = int(input())\n",
        "a = x**2\n",
        "b = -8*a\n",
        "c = 32*x\n",
        "d = b+c+40\n",
        "print(a,b,c,d)\n",
        "d"
      ],
      "metadata": {
        "colab": {
          "base_uri": "https://localhost:8080/"
        },
        "id": "IplcmntlZbcL",
        "outputId": "db7f8c60-baa2-4aca-acc7-87bc22bdfc04"
      },
      "execution_count": null,
      "outputs": [
        {
          "output_type": "stream",
          "name": "stdout",
          "text": [
            "4\n",
            "16 -128 128 40\n"
          ]
        },
        {
          "output_type": "execute_result",
          "data": {
            "text/plain": [
              "40"
            ]
          },
          "metadata": {},
          "execution_count": 54
        }
      ]
    },
    {
      "cell_type": "code",
      "source": [
        "def fnd(a):\n",
        "  b = list(range(0,len(a)))\n",
        "  c = []\n",
        "  for x in b:\n",
        "    c.append(a[x])\n",
        "  d = []\n",
        "  for x in c:\n",
        "    d.append(a.count(x))\n",
        "  try:\n",
        "    b = a[d.index(1)]\n",
        "  except:\n",
        "    b = -1\n",
        "  return b"
      ],
      "metadata": {
        "id": "z9k8gipDaWlj"
      },
      "execution_count": null,
      "outputs": []
    },
    {
      "cell_type": "code",
      "source": [
        "a = input()\n",
        "b = list(range(0,len(a)))\n",
        "c = []\n",
        "for x in b:\n",
        "  c.append(a[x])\n",
        "d = []\n",
        "for x in c:\n",
        "  d.append(a.count(x))\n",
        "try:\n",
        "  b = a[d.index(1)]\n",
        "except:\n",
        "  b = -1\n",
        "print(b)"
      ],
      "metadata": {
        "colab": {
          "base_uri": "https://localhost:8080/"
        },
        "id": "KWlwygfoV7GO",
        "outputId": "76417d63-b29f-4bc3-c7d6-9295fd3928f8"
      },
      "execution_count": null,
      "outputs": [
        {
          "output_type": "stream",
          "name": "stdout",
          "text": [
            "dsfgf\n",
            "d\n"
          ]
        }
      ]
    },
    {
      "cell_type": "code",
      "execution_count": null,
      "metadata": {
        "colab": {
          "base_uri": "https://localhost:8080/"
        },
        "id": "JehpwuUwB0F_",
        "outputId": "ec68eec6-68d2-44b6-ba26-e80955e81cda"
      },
      "outputs": [
        {
          "output_type": "stream",
          "name": "stdout",
          "text": [
            "sdfgh\n",
            "no\n"
          ]
        }
      ],
      "source": [
        "a = input()\n",
        "b = len(a)\n",
        "if b%2!=0:\n",
        "  c = int((b+1)/2)\n",
        "  r = list(range(c,b))\n",
        "  l = list(range(c-2,-1,-1))\n",
        "  d = []\n",
        "  e = []\n",
        "  for x in r:\n",
        "    d.append(a[x])\n",
        "  for y in l:\n",
        "    e.append(a[y])\n",
        "elif b%2==0:\n",
        "  b = len(a)\n",
        "  c = int(b/2)\n",
        "  r = list(range(c,b))\n",
        "  l = list(range(c-1,-1,-1))\n",
        "  b = 0\n",
        "  d = []\n",
        "  e = []\n",
        "  for x in r:\n",
        "    d.append(a[x])\n",
        "  for y in l:\n",
        "    e.append(a[y])\n",
        "else:\n",
        "  pass\n",
        "if d==e:\n",
        "  print(\"yes\")\n",
        "else:a\n",
        "  print(\"no\")"
      ]
    },
    {
      "cell_type": "code",
      "source": [
        "b = 0\n",
        "c = []\n",
        "d = []\n",
        "for x in ro:\n",
        "  c.append(a[x])\n",
        "for y in lo:\n",
        "  d.append(a[y])\n",
        "  \n",
        "# if a[x]==a[y]:\n",
        "#   b = \"yes\"\n",
        "# else:\n",
        "#   b = \"no\"            \n",
        "print(c,d)"
      ],
      "metadata": {
        "colab": {
          "base_uri": "https://localhost:8080/"
        },
        "id": "eO1UWvQlQ8iL",
        "outputId": "086468b1-dca9-4ccf-963e-48ae7b28568d"
      },
      "execution_count": null,
      "outputs": [
        {
          "output_type": "stream",
          "name": "stdout",
          "text": [
            "['d', 's', 'a'] ['d', 's', 'a']\n"
          ]
        }
      ]
    },
    {
      "cell_type": "code",
      "source": [
        "# b = 0\n",
        "# for x in ro:\n",
        "#   for y in lo:\n",
        "#     if a[x]==a[y]:\n",
        "#       b = \"yes\"\n",
        "#     else:\n",
        "#       b = \"no\"\n",
        "# print(b)"
      ],
      "metadata": {
        "colab": {
          "base_uri": "https://localhost:8080/"
        },
        "id": "97rdiknMOFS9",
        "outputId": "7d8c1902-b8db-4406-b920-c16fb0a571bf"
      },
      "execution_count": null,
      "outputs": [
        {
          "output_type": "stream",
          "name": "stdout",
          "text": [
            "yes\n"
          ]
        }
      ]
    },
    {
      "cell_type": "code",
      "execution_count": null,
      "metadata": {
        "id": "R22GMcV1-p4f"
      },
      "outputs": [],
      "source": [
        "a = [\"Akhil\", \"Charan\", \"Deepak\", \"Sunil\", \"Karthik\", \"Rakesh\"]\n",
        "b = [\"Charan\", \"Rakesh\", \"Kiran\", \"Chidambaram\", \"Balachandra\"]\n",
        "c = [\"Abbas\", \"Akhil\", \"Aditya\", \"Bhuvan\", \"Charan\", \"Dayal\", \"Deepak\", \"Kiran\", \"Jaivardhan\", \"Nithin\", \"Rakesh\"]\n",
        "# {Dayal, Deepak, Kiran, Jaivardhan\\}}\n",
        "\n",
        "# \\{{Rakesh, Kiran, Chidambaram, Balachandra\\}}\n",
        "\n",
        "# \\{{Bhuvan, Jaivardhan, Sunil, Chidambaram\\}}\n",
        "\n",
        "\\{{Sunil, Chidambaram, Karthik, Balachandra\\}}"
      ]
    },
    {
      "cell_type": "code",
      "execution_count": null,
      "metadata": {
        "colab": {
          "base_uri": "https://localhost:8080/"
        },
        "id": "8dI01o4i-p1t",
        "outputId": "0b584e1c-7feb-4b15-b706-f7bf600d86c8"
      },
      "outputs": [
        {
          "data": {
            "text/plain": [
              "['Akhil',\n",
              " 'Dayal',\n",
              " 'Aditya',\n",
              " 'Nithin',\n",
              " 'Jaivardhan',\n",
              " 'Abbas',\n",
              " 'Deepak',\n",
              " 'Bhuvan']"
            ]
          },
          "execution_count": 6,
          "metadata": {},
          "output_type": "execute_result"
        }
      ],
      "source": [
        "list(set(c) - set(b) or set(c))"
      ]
    },
    {
      "cell_type": "code",
      "execution_count": null,
      "metadata": {
        "id": "8o30kGrSi5sT"
      },
      "outputs": [],
      "source": [
        "# !pip install opendatasets"
      ]
    },
    {
      "cell_type": "code",
      "execution_count": null,
      "metadata": {
        "id": "-OsNMUfHi9Pp"
      },
      "outputs": [],
      "source": [
        "# import opendatasets as od\n",
        "# od.download(\"https://datasets.imdbws.com/title.basics.tsv.gz\")\n",
        "# df1 = pd.read_csv(\"/content/title.basics.tsv.gz\", sep='\\t', error_bad_lines=False)\n",
        "# df1.head()"
      ]
    },
    {
      "cell_type": "code",
      "execution_count": null,
      "metadata": {
        "id": "d-esEubRmSiP"
      },
      "outputs": [],
      "source": [
        "import warnings \n",
        "import pandas as pd\n",
        "warnings.filterwarnings(\"ignore\")"
      ]
    },
    {
      "cell_type": "code",
      "execution_count": null,
      "metadata": {
        "id": "m8mITbndjysY"
      },
      "outputs": [],
      "source": [
        "df = pd.read_csv(\"https://datasets.imdbws.com/title.basics.tsv.gz\", sep='\\t', error_bad_lines=False)"
      ]
    },
    {
      "cell_type": "code",
      "execution_count": null,
      "metadata": {
        "colab": {
          "base_uri": "https://localhost:8080/",
          "height": 424
        },
        "id": "Uuxl4V-mH4Vg",
        "outputId": "a37980d4-9d02-4440-e6a8-b1baac500d5b"
      },
      "outputs": [
        {
          "data": {
            "text/html": [
              "\n",
              "  <div id=\"df-0c444d6d-29d9-46d6-a5d4-9e582387865f\">\n",
              "    <div class=\"colab-df-container\">\n",
              "      <div>\n",
              "<style scoped>\n",
              "    .dataframe tbody tr th:only-of-type {\n",
              "        vertical-align: middle;\n",
              "    }\n",
              "\n",
              "    .dataframe tbody tr th {\n",
              "        vertical-align: top;\n",
              "    }\n",
              "\n",
              "    .dataframe thead th {\n",
              "        text-align: right;\n",
              "    }\n",
              "</style>\n",
              "<table border=\"1\" class=\"dataframe\">\n",
              "  <thead>\n",
              "    <tr style=\"text-align: right;\">\n",
              "      <th></th>\n",
              "      <th>tconst</th>\n",
              "      <th>titleType</th>\n",
              "      <th>primaryTitle</th>\n",
              "      <th>originalTitle</th>\n",
              "      <th>isAdult</th>\n",
              "      <th>startYear</th>\n",
              "      <th>endYear</th>\n",
              "      <th>runtimeMinutes</th>\n",
              "      <th>genres</th>\n",
              "    </tr>\n",
              "  </thead>\n",
              "  <tbody>\n",
              "    <tr>\n",
              "      <th>0</th>\n",
              "      <td>tt0000001</td>\n",
              "      <td>short</td>\n",
              "      <td>Carmencita</td>\n",
              "      <td>Carmencita</td>\n",
              "      <td>0</td>\n",
              "      <td>1894</td>\n",
              "      <td>\\N</td>\n",
              "      <td>1</td>\n",
              "      <td>Documentary,Short</td>\n",
              "    </tr>\n",
              "    <tr>\n",
              "      <th>1</th>\n",
              "      <td>tt0000002</td>\n",
              "      <td>short</td>\n",
              "      <td>Le clown et ses chiens</td>\n",
              "      <td>Le clown et ses chiens</td>\n",
              "      <td>0</td>\n",
              "      <td>1892</td>\n",
              "      <td>\\N</td>\n",
              "      <td>5</td>\n",
              "      <td>Animation,Short</td>\n",
              "    </tr>\n",
              "    <tr>\n",
              "      <th>2</th>\n",
              "      <td>tt0000003</td>\n",
              "      <td>short</td>\n",
              "      <td>Pauvre Pierrot</td>\n",
              "      <td>Pauvre Pierrot</td>\n",
              "      <td>0</td>\n",
              "      <td>1892</td>\n",
              "      <td>\\N</td>\n",
              "      <td>4</td>\n",
              "      <td>Animation,Comedy,Romance</td>\n",
              "    </tr>\n",
              "    <tr>\n",
              "      <th>3</th>\n",
              "      <td>tt0000004</td>\n",
              "      <td>short</td>\n",
              "      <td>Un bon bock</td>\n",
              "      <td>Un bon bock</td>\n",
              "      <td>0</td>\n",
              "      <td>1892</td>\n",
              "      <td>\\N</td>\n",
              "      <td>12</td>\n",
              "      <td>Animation,Short</td>\n",
              "    </tr>\n",
              "    <tr>\n",
              "      <th>4</th>\n",
              "      <td>tt0000005</td>\n",
              "      <td>short</td>\n",
              "      <td>Blacksmith Scene</td>\n",
              "      <td>Blacksmith Scene</td>\n",
              "      <td>0</td>\n",
              "      <td>1893</td>\n",
              "      <td>\\N</td>\n",
              "      <td>1</td>\n",
              "      <td>Comedy,Short</td>\n",
              "    </tr>\n",
              "    <tr>\n",
              "      <th>...</th>\n",
              "      <td>...</td>\n",
              "      <td>...</td>\n",
              "      <td>...</td>\n",
              "      <td>...</td>\n",
              "      <td>...</td>\n",
              "      <td>...</td>\n",
              "      <td>...</td>\n",
              "      <td>...</td>\n",
              "      <td>...</td>\n",
              "    </tr>\n",
              "    <tr>\n",
              "      <th>8887680</th>\n",
              "      <td>tt9916848</td>\n",
              "      <td>tvEpisode</td>\n",
              "      <td>Episode #3.17</td>\n",
              "      <td>Episode #3.17</td>\n",
              "      <td>0</td>\n",
              "      <td>2010</td>\n",
              "      <td>\\N</td>\n",
              "      <td>\\N</td>\n",
              "      <td>Action,Drama,Family</td>\n",
              "    </tr>\n",
              "    <tr>\n",
              "      <th>8887681</th>\n",
              "      <td>tt9916850</td>\n",
              "      <td>tvEpisode</td>\n",
              "      <td>Episode #3.19</td>\n",
              "      <td>Episode #3.19</td>\n",
              "      <td>0</td>\n",
              "      <td>2010</td>\n",
              "      <td>\\N</td>\n",
              "      <td>\\N</td>\n",
              "      <td>Action,Drama,Family</td>\n",
              "    </tr>\n",
              "    <tr>\n",
              "      <th>8887682</th>\n",
              "      <td>tt9916852</td>\n",
              "      <td>tvEpisode</td>\n",
              "      <td>Episode #3.20</td>\n",
              "      <td>Episode #3.20</td>\n",
              "      <td>0</td>\n",
              "      <td>2010</td>\n",
              "      <td>\\N</td>\n",
              "      <td>\\N</td>\n",
              "      <td>Action,Drama,Family</td>\n",
              "    </tr>\n",
              "    <tr>\n",
              "      <th>8887683</th>\n",
              "      <td>tt9916856</td>\n",
              "      <td>short</td>\n",
              "      <td>The Wind</td>\n",
              "      <td>The Wind</td>\n",
              "      <td>0</td>\n",
              "      <td>2015</td>\n",
              "      <td>\\N</td>\n",
              "      <td>27</td>\n",
              "      <td>Short</td>\n",
              "    </tr>\n",
              "    <tr>\n",
              "      <th>8887684</th>\n",
              "      <td>tt9916880</td>\n",
              "      <td>tvEpisode</td>\n",
              "      <td>Horrid Henry Knows It All</td>\n",
              "      <td>Horrid Henry Knows It All</td>\n",
              "      <td>0</td>\n",
              "      <td>2014</td>\n",
              "      <td>\\N</td>\n",
              "      <td>10</td>\n",
              "      <td>Adventure,Animation,Comedy</td>\n",
              "    </tr>\n",
              "  </tbody>\n",
              "</table>\n",
              "<p>8887685 rows × 9 columns</p>\n",
              "</div>\n",
              "      <button class=\"colab-df-convert\" onclick=\"convertToInteractive('df-0c444d6d-29d9-46d6-a5d4-9e582387865f')\"\n",
              "              title=\"Convert this dataframe to an interactive table.\"\n",
              "              style=\"display:none;\">\n",
              "        \n",
              "  <svg xmlns=\"http://www.w3.org/2000/svg\" height=\"24px\"viewBox=\"0 0 24 24\"\n",
              "       width=\"24px\">\n",
              "    <path d=\"M0 0h24v24H0V0z\" fill=\"none\"/>\n",
              "    <path d=\"M18.56 5.44l.94 2.06.94-2.06 2.06-.94-2.06-.94-.94-2.06-.94 2.06-2.06.94zm-11 1L8.5 8.5l.94-2.06 2.06-.94-2.06-.94L8.5 2.5l-.94 2.06-2.06.94zm10 10l.94 2.06.94-2.06 2.06-.94-2.06-.94-.94-2.06-.94 2.06-2.06.94z\"/><path d=\"M17.41 7.96l-1.37-1.37c-.4-.4-.92-.59-1.43-.59-.52 0-1.04.2-1.43.59L10.3 9.45l-7.72 7.72c-.78.78-.78 2.05 0 2.83L4 21.41c.39.39.9.59 1.41.59.51 0 1.02-.2 1.41-.59l7.78-7.78 2.81-2.81c.8-.78.8-2.07 0-2.86zM5.41 20L4 18.59l7.72-7.72 1.47 1.35L5.41 20z\"/>\n",
              "  </svg>\n",
              "      </button>\n",
              "      \n",
              "  <style>\n",
              "    .colab-df-container {\n",
              "      display:flex;\n",
              "      flex-wrap:wrap;\n",
              "      gap: 12px;\n",
              "    }\n",
              "\n",
              "    .colab-df-convert {\n",
              "      background-color: #E8F0FE;\n",
              "      border: none;\n",
              "      border-radius: 50%;\n",
              "      cursor: pointer;\n",
              "      display: none;\n",
              "      fill: #1967D2;\n",
              "      height: 32px;\n",
              "      padding: 0 0 0 0;\n",
              "      width: 32px;\n",
              "    }\n",
              "\n",
              "    .colab-df-convert:hover {\n",
              "      background-color: #E2EBFA;\n",
              "      box-shadow: 0px 1px 2px rgba(60, 64, 67, 0.3), 0px 1px 3px 1px rgba(60, 64, 67, 0.15);\n",
              "      fill: #174EA6;\n",
              "    }\n",
              "\n",
              "    [theme=dark] .colab-df-convert {\n",
              "      background-color: #3B4455;\n",
              "      fill: #D2E3FC;\n",
              "    }\n",
              "\n",
              "    [theme=dark] .colab-df-convert:hover {\n",
              "      background-color: #434B5C;\n",
              "      box-shadow: 0px 1px 3px 1px rgba(0, 0, 0, 0.15);\n",
              "      filter: drop-shadow(0px 1px 2px rgba(0, 0, 0, 0.3));\n",
              "      fill: #FFFFFF;\n",
              "    }\n",
              "  </style>\n",
              "\n",
              "      <script>\n",
              "        const buttonEl =\n",
              "          document.querySelector('#df-0c444d6d-29d9-46d6-a5d4-9e582387865f button.colab-df-convert');\n",
              "        buttonEl.style.display =\n",
              "          google.colab.kernel.accessAllowed ? 'block' : 'none';\n",
              "\n",
              "        async function convertToInteractive(key) {\n",
              "          const element = document.querySelector('#df-0c444d6d-29d9-46d6-a5d4-9e582387865f');\n",
              "          const dataTable =\n",
              "            await google.colab.kernel.invokeFunction('convertToInteractive',\n",
              "                                                     [key], {});\n",
              "          if (!dataTable) return;\n",
              "\n",
              "          const docLinkHtml = 'Like what you see? Visit the ' +\n",
              "            '<a target=\"_blank\" href=https://colab.research.google.com/notebooks/data_table.ipynb>data table notebook</a>'\n",
              "            + ' to learn more about interactive tables.';\n",
              "          element.innerHTML = '';\n",
              "          dataTable['output_type'] = 'display_data';\n",
              "          await google.colab.output.renderOutput(dataTable, element);\n",
              "          const docLink = document.createElement('div');\n",
              "          docLink.innerHTML = docLinkHtml;\n",
              "          element.appendChild(docLink);\n",
              "        }\n",
              "      </script>\n",
              "    </div>\n",
              "  </div>\n",
              "  "
            ],
            "text/plain": [
              "            tconst  titleType               primaryTitle  \\\n",
              "0        tt0000001      short                 Carmencita   \n",
              "1        tt0000002      short     Le clown et ses chiens   \n",
              "2        tt0000003      short             Pauvre Pierrot   \n",
              "3        tt0000004      short                Un bon bock   \n",
              "4        tt0000005      short           Blacksmith Scene   \n",
              "...            ...        ...                        ...   \n",
              "8887680  tt9916848  tvEpisode              Episode #3.17   \n",
              "8887681  tt9916850  tvEpisode              Episode #3.19   \n",
              "8887682  tt9916852  tvEpisode              Episode #3.20   \n",
              "8887683  tt9916856      short                   The Wind   \n",
              "8887684  tt9916880  tvEpisode  Horrid Henry Knows It All   \n",
              "\n",
              "                     originalTitle isAdult startYear endYear runtimeMinutes  \\\n",
              "0                       Carmencita       0      1894      \\N              1   \n",
              "1           Le clown et ses chiens       0      1892      \\N              5   \n",
              "2                   Pauvre Pierrot       0      1892      \\N              4   \n",
              "3                      Un bon bock       0      1892      \\N             12   \n",
              "4                 Blacksmith Scene       0      1893      \\N              1   \n",
              "...                            ...     ...       ...     ...            ...   \n",
              "8887680              Episode #3.17       0      2010      \\N             \\N   \n",
              "8887681              Episode #3.19       0      2010      \\N             \\N   \n",
              "8887682              Episode #3.20       0      2010      \\N             \\N   \n",
              "8887683                   The Wind       0      2015      \\N             27   \n",
              "8887684  Horrid Henry Knows It All       0      2014      \\N             10   \n",
              "\n",
              "                             genres  \n",
              "0                 Documentary,Short  \n",
              "1                   Animation,Short  \n",
              "2          Animation,Comedy,Romance  \n",
              "3                   Animation,Short  \n",
              "4                      Comedy,Short  \n",
              "...                             ...  \n",
              "8887680         Action,Drama,Family  \n",
              "8887681         Action,Drama,Family  \n",
              "8887682         Action,Drama,Family  \n",
              "8887683                       Short  \n",
              "8887684  Adventure,Animation,Comedy  \n",
              "\n",
              "[8887685 rows x 9 columns]"
            ]
          },
          "execution_count": 3,
          "metadata": {},
          "output_type": "execute_result"
        }
      ],
      "source": [
        "df"
      ]
    },
    {
      "cell_type": "code",
      "execution_count": null,
      "metadata": {
        "colab": {
          "base_uri": "https://localhost:8080/",
          "height": 206
        },
        "id": "iMaqD2w4k8oo",
        "outputId": "8f8a9a5f-4ef8-4ace-a476-3be7e5e6e81b"
      },
      "outputs": [
        {
          "data": {
            "text/html": [
              "\n",
              "  <div id=\"df-5b19bc67-3f4f-4c1b-8783-055c54ec925c\">\n",
              "    <div class=\"colab-df-container\">\n",
              "      <div>\n",
              "<style scoped>\n",
              "    .dataframe tbody tr th:only-of-type {\n",
              "        vertical-align: middle;\n",
              "    }\n",
              "\n",
              "    .dataframe tbody tr th {\n",
              "        vertical-align: top;\n",
              "    }\n",
              "\n",
              "    .dataframe thead th {\n",
              "        text-align: right;\n",
              "    }\n",
              "</style>\n",
              "<table border=\"1\" class=\"dataframe\">\n",
              "  <thead>\n",
              "    <tr style=\"text-align: right;\">\n",
              "      <th></th>\n",
              "      <th>tconst</th>\n",
              "      <th>titleType</th>\n",
              "      <th>primaryTitle</th>\n",
              "      <th>originalTitle</th>\n",
              "      <th>isAdult</th>\n",
              "      <th>startYear</th>\n",
              "      <th>endYear</th>\n",
              "      <th>runtimeMinutes</th>\n",
              "      <th>genres</th>\n",
              "    </tr>\n",
              "  </thead>\n",
              "  <tbody>\n",
              "    <tr>\n",
              "      <th>0</th>\n",
              "      <td>tt0000001</td>\n",
              "      <td>short</td>\n",
              "      <td>Carmencita</td>\n",
              "      <td>Carmencita</td>\n",
              "      <td>0</td>\n",
              "      <td>1894</td>\n",
              "      <td>\\N</td>\n",
              "      <td>1</td>\n",
              "      <td>Documentary,Short</td>\n",
              "    </tr>\n",
              "    <tr>\n",
              "      <th>1</th>\n",
              "      <td>tt0000002</td>\n",
              "      <td>short</td>\n",
              "      <td>Le clown et ses chiens</td>\n",
              "      <td>Le clown et ses chiens</td>\n",
              "      <td>0</td>\n",
              "      <td>1892</td>\n",
              "      <td>\\N</td>\n",
              "      <td>5</td>\n",
              "      <td>Animation,Short</td>\n",
              "    </tr>\n",
              "    <tr>\n",
              "      <th>2</th>\n",
              "      <td>tt0000003</td>\n",
              "      <td>short</td>\n",
              "      <td>Pauvre Pierrot</td>\n",
              "      <td>Pauvre Pierrot</td>\n",
              "      <td>0</td>\n",
              "      <td>1892</td>\n",
              "      <td>\\N</td>\n",
              "      <td>4</td>\n",
              "      <td>Animation,Comedy,Romance</td>\n",
              "    </tr>\n",
              "    <tr>\n",
              "      <th>3</th>\n",
              "      <td>tt0000004</td>\n",
              "      <td>short</td>\n",
              "      <td>Un bon bock</td>\n",
              "      <td>Un bon bock</td>\n",
              "      <td>0</td>\n",
              "      <td>1892</td>\n",
              "      <td>\\N</td>\n",
              "      <td>12</td>\n",
              "      <td>Animation,Short</td>\n",
              "    </tr>\n",
              "    <tr>\n",
              "      <th>4</th>\n",
              "      <td>tt0000005</td>\n",
              "      <td>short</td>\n",
              "      <td>Blacksmith Scene</td>\n",
              "      <td>Blacksmith Scene</td>\n",
              "      <td>0</td>\n",
              "      <td>1893</td>\n",
              "      <td>\\N</td>\n",
              "      <td>1</td>\n",
              "      <td>Comedy,Short</td>\n",
              "    </tr>\n",
              "  </tbody>\n",
              "</table>\n",
              "</div>\n",
              "      <button class=\"colab-df-convert\" onclick=\"convertToInteractive('df-5b19bc67-3f4f-4c1b-8783-055c54ec925c')\"\n",
              "              title=\"Convert this dataframe to an interactive table.\"\n",
              "              style=\"display:none;\">\n",
              "        \n",
              "  <svg xmlns=\"http://www.w3.org/2000/svg\" height=\"24px\"viewBox=\"0 0 24 24\"\n",
              "       width=\"24px\">\n",
              "    <path d=\"M0 0h24v24H0V0z\" fill=\"none\"/>\n",
              "    <path d=\"M18.56 5.44l.94 2.06.94-2.06 2.06-.94-2.06-.94-.94-2.06-.94 2.06-2.06.94zm-11 1L8.5 8.5l.94-2.06 2.06-.94-2.06-.94L8.5 2.5l-.94 2.06-2.06.94zm10 10l.94 2.06.94-2.06 2.06-.94-2.06-.94-.94-2.06-.94 2.06-2.06.94z\"/><path d=\"M17.41 7.96l-1.37-1.37c-.4-.4-.92-.59-1.43-.59-.52 0-1.04.2-1.43.59L10.3 9.45l-7.72 7.72c-.78.78-.78 2.05 0 2.83L4 21.41c.39.39.9.59 1.41.59.51 0 1.02-.2 1.41-.59l7.78-7.78 2.81-2.81c.8-.78.8-2.07 0-2.86zM5.41 20L4 18.59l7.72-7.72 1.47 1.35L5.41 20z\"/>\n",
              "  </svg>\n",
              "      </button>\n",
              "      \n",
              "  <style>\n",
              "    .colab-df-container {\n",
              "      display:flex;\n",
              "      flex-wrap:wrap;\n",
              "      gap: 12px;\n",
              "    }\n",
              "\n",
              "    .colab-df-convert {\n",
              "      background-color: #E8F0FE;\n",
              "      border: none;\n",
              "      border-radius: 50%;\n",
              "      cursor: pointer;\n",
              "      display: none;\n",
              "      fill: #1967D2;\n",
              "      height: 32px;\n",
              "      padding: 0 0 0 0;\n",
              "      width: 32px;\n",
              "    }\n",
              "\n",
              "    .colab-df-convert:hover {\n",
              "      background-color: #E2EBFA;\n",
              "      box-shadow: 0px 1px 2px rgba(60, 64, 67, 0.3), 0px 1px 3px 1px rgba(60, 64, 67, 0.15);\n",
              "      fill: #174EA6;\n",
              "    }\n",
              "\n",
              "    [theme=dark] .colab-df-convert {\n",
              "      background-color: #3B4455;\n",
              "      fill: #D2E3FC;\n",
              "    }\n",
              "\n",
              "    [theme=dark] .colab-df-convert:hover {\n",
              "      background-color: #434B5C;\n",
              "      box-shadow: 0px 1px 3px 1px rgba(0, 0, 0, 0.15);\n",
              "      filter: drop-shadow(0px 1px 2px rgba(0, 0, 0, 0.3));\n",
              "      fill: #FFFFFF;\n",
              "    }\n",
              "  </style>\n",
              "\n",
              "      <script>\n",
              "        const buttonEl =\n",
              "          document.querySelector('#df-5b19bc67-3f4f-4c1b-8783-055c54ec925c button.colab-df-convert');\n",
              "        buttonEl.style.display =\n",
              "          google.colab.kernel.accessAllowed ? 'block' : 'none';\n",
              "\n",
              "        async function convertToInteractive(key) {\n",
              "          const element = document.querySelector('#df-5b19bc67-3f4f-4c1b-8783-055c54ec925c');\n",
              "          const dataTable =\n",
              "            await google.colab.kernel.invokeFunction('convertToInteractive',\n",
              "                                                     [key], {});\n",
              "          if (!dataTable) return;\n",
              "\n",
              "          const docLinkHtml = 'Like what you see? Visit the ' +\n",
              "            '<a target=\"_blank\" href=https://colab.research.google.com/notebooks/data_table.ipynb>data table notebook</a>'\n",
              "            + ' to learn more about interactive tables.';\n",
              "          element.innerHTML = '';\n",
              "          dataTable['output_type'] = 'display_data';\n",
              "          await google.colab.output.renderOutput(dataTable, element);\n",
              "          const docLink = document.createElement('div');\n",
              "          docLink.innerHTML = docLinkHtml;\n",
              "          element.appendChild(docLink);\n",
              "        }\n",
              "      </script>\n",
              "    </div>\n",
              "  </div>\n",
              "  "
            ],
            "text/plain": [
              "      tconst titleType            primaryTitle           originalTitle  \\\n",
              "0  tt0000001     short              Carmencita              Carmencita   \n",
              "1  tt0000002     short  Le clown et ses chiens  Le clown et ses chiens   \n",
              "2  tt0000003     short          Pauvre Pierrot          Pauvre Pierrot   \n",
              "3  tt0000004     short             Un bon bock             Un bon bock   \n",
              "4  tt0000005     short        Blacksmith Scene        Blacksmith Scene   \n",
              "\n",
              "  isAdult startYear endYear runtimeMinutes                    genres  \n",
              "0       0      1894      \\N              1         Documentary,Short  \n",
              "1       0      1892      \\N              5           Animation,Short  \n",
              "2       0      1892      \\N              4  Animation,Comedy,Romance  \n",
              "3       0      1892      \\N             12           Animation,Short  \n",
              "4       0      1893      \\N              1              Comedy,Short  "
            ]
          },
          "execution_count": 3,
          "metadata": {},
          "output_type": "execute_result"
        }
      ],
      "source": [
        "df.head()"
      ]
    },
    {
      "cell_type": "code",
      "execution_count": null,
      "metadata": {
        "colab": {
          "base_uri": "https://localhost:8080/",
          "height": 175
        },
        "id": "ly4tetuSycaD",
        "outputId": "bac2d828-5116-41f6-956a-d167bbb57325"
      },
      "outputs": [
        {
          "data": {
            "text/html": [
              "\n",
              "  <div id=\"df-a3d7bb8d-bce9-43e1-94ff-ac32f1b645ac\">\n",
              "    <div class=\"colab-df-container\">\n",
              "      <div>\n",
              "<style scoped>\n",
              "    .dataframe tbody tr th:only-of-type {\n",
              "        vertical-align: middle;\n",
              "    }\n",
              "\n",
              "    .dataframe tbody tr th {\n",
              "        vertical-align: top;\n",
              "    }\n",
              "\n",
              "    .dataframe thead th {\n",
              "        text-align: right;\n",
              "    }\n",
              "</style>\n",
              "<table border=\"1\" class=\"dataframe\">\n",
              "  <thead>\n",
              "    <tr style=\"text-align: right;\">\n",
              "      <th></th>\n",
              "      <th>tconst</th>\n",
              "      <th>titleType</th>\n",
              "      <th>primaryTitle</th>\n",
              "      <th>originalTitle</th>\n",
              "      <th>isAdult</th>\n",
              "      <th>startYear</th>\n",
              "      <th>endYear</th>\n",
              "      <th>runtimeMinutes</th>\n",
              "      <th>genres</th>\n",
              "    </tr>\n",
              "  </thead>\n",
              "  <tbody>\n",
              "    <tr>\n",
              "      <th>count</th>\n",
              "      <td>8882383</td>\n",
              "      <td>8882383</td>\n",
              "      <td>8882372</td>\n",
              "      <td>8882372</td>\n",
              "      <td>8882383</td>\n",
              "      <td>8882383</td>\n",
              "      <td>8882383</td>\n",
              "      <td>8882383</td>\n",
              "      <td>8882373</td>\n",
              "    </tr>\n",
              "    <tr>\n",
              "      <th>unique</th>\n",
              "      <td>8882383</td>\n",
              "      <td>11</td>\n",
              "      <td>4103922</td>\n",
              "      <td>4123810</td>\n",
              "      <td>11</td>\n",
              "      <td>256</td>\n",
              "      <td>98</td>\n",
              "      <td>870</td>\n",
              "      <td>2310</td>\n",
              "    </tr>\n",
              "    <tr>\n",
              "      <th>top</th>\n",
              "      <td>tt0000001</td>\n",
              "      <td>tvEpisode</td>\n",
              "      <td>Episode #1.1</td>\n",
              "      <td>Episode #1.1</td>\n",
              "      <td>0</td>\n",
              "      <td>\\N</td>\n",
              "      <td>\\N</td>\n",
              "      <td>\\N</td>\n",
              "      <td>Drama</td>\n",
              "    </tr>\n",
              "    <tr>\n",
              "      <th>freq</th>\n",
              "      <td>1</td>\n",
              "      <td>6665396</td>\n",
              "      <td>43377</td>\n",
              "      <td>43377</td>\n",
              "      <td>8543392</td>\n",
              "      <td>1184051</td>\n",
              "      <td>8792418</td>\n",
              "      <td>6488406</td>\n",
              "      <td>997811</td>\n",
              "    </tr>\n",
              "  </tbody>\n",
              "</table>\n",
              "</div>\n",
              "      <button class=\"colab-df-convert\" onclick=\"convertToInteractive('df-a3d7bb8d-bce9-43e1-94ff-ac32f1b645ac')\"\n",
              "              title=\"Convert this dataframe to an interactive table.\"\n",
              "              style=\"display:none;\">\n",
              "        \n",
              "  <svg xmlns=\"http://www.w3.org/2000/svg\" height=\"24px\"viewBox=\"0 0 24 24\"\n",
              "       width=\"24px\">\n",
              "    <path d=\"M0 0h24v24H0V0z\" fill=\"none\"/>\n",
              "    <path d=\"M18.56 5.44l.94 2.06.94-2.06 2.06-.94-2.06-.94-.94-2.06-.94 2.06-2.06.94zm-11 1L8.5 8.5l.94-2.06 2.06-.94-2.06-.94L8.5 2.5l-.94 2.06-2.06.94zm10 10l.94 2.06.94-2.06 2.06-.94-2.06-.94-.94-2.06-.94 2.06-2.06.94z\"/><path d=\"M17.41 7.96l-1.37-1.37c-.4-.4-.92-.59-1.43-.59-.52 0-1.04.2-1.43.59L10.3 9.45l-7.72 7.72c-.78.78-.78 2.05 0 2.83L4 21.41c.39.39.9.59 1.41.59.51 0 1.02-.2 1.41-.59l7.78-7.78 2.81-2.81c.8-.78.8-2.07 0-2.86zM5.41 20L4 18.59l7.72-7.72 1.47 1.35L5.41 20z\"/>\n",
              "  </svg>\n",
              "      </button>\n",
              "      \n",
              "  <style>\n",
              "    .colab-df-container {\n",
              "      display:flex;\n",
              "      flex-wrap:wrap;\n",
              "      gap: 12px;\n",
              "    }\n",
              "\n",
              "    .colab-df-convert {\n",
              "      background-color: #E8F0FE;\n",
              "      border: none;\n",
              "      border-radius: 50%;\n",
              "      cursor: pointer;\n",
              "      display: none;\n",
              "      fill: #1967D2;\n",
              "      height: 32px;\n",
              "      padding: 0 0 0 0;\n",
              "      width: 32px;\n",
              "    }\n",
              "\n",
              "    .colab-df-convert:hover {\n",
              "      background-color: #E2EBFA;\n",
              "      box-shadow: 0px 1px 2px rgba(60, 64, 67, 0.3), 0px 1px 3px 1px rgba(60, 64, 67, 0.15);\n",
              "      fill: #174EA6;\n",
              "    }\n",
              "\n",
              "    [theme=dark] .colab-df-convert {\n",
              "      background-color: #3B4455;\n",
              "      fill: #D2E3FC;\n",
              "    }\n",
              "\n",
              "    [theme=dark] .colab-df-convert:hover {\n",
              "      background-color: #434B5C;\n",
              "      box-shadow: 0px 1px 3px 1px rgba(0, 0, 0, 0.15);\n",
              "      filter: drop-shadow(0px 1px 2px rgba(0, 0, 0, 0.3));\n",
              "      fill: #FFFFFF;\n",
              "    }\n",
              "  </style>\n",
              "\n",
              "      <script>\n",
              "        const buttonEl =\n",
              "          document.querySelector('#df-a3d7bb8d-bce9-43e1-94ff-ac32f1b645ac button.colab-df-convert');\n",
              "        buttonEl.style.display =\n",
              "          google.colab.kernel.accessAllowed ? 'block' : 'none';\n",
              "\n",
              "        async function convertToInteractive(key) {\n",
              "          const element = document.querySelector('#df-a3d7bb8d-bce9-43e1-94ff-ac32f1b645ac');\n",
              "          const dataTable =\n",
              "            await google.colab.kernel.invokeFunction('convertToInteractive',\n",
              "                                                     [key], {});\n",
              "          if (!dataTable) return;\n",
              "\n",
              "          const docLinkHtml = 'Like what you see? Visit the ' +\n",
              "            '<a target=\"_blank\" href=https://colab.research.google.com/notebooks/data_table.ipynb>data table notebook</a>'\n",
              "            + ' to learn more about interactive tables.';\n",
              "          element.innerHTML = '';\n",
              "          dataTable['output_type'] = 'display_data';\n",
              "          await google.colab.output.renderOutput(dataTable, element);\n",
              "          const docLink = document.createElement('div');\n",
              "          docLink.innerHTML = docLinkHtml;\n",
              "          element.appendChild(docLink);\n",
              "        }\n",
              "      </script>\n",
              "    </div>\n",
              "  </div>\n",
              "  "
            ],
            "text/plain": [
              "           tconst  titleType  primaryTitle originalTitle  isAdult startYear  \\\n",
              "count     8882383    8882383       8882372       8882372  8882383   8882383   \n",
              "unique    8882383         11       4103922       4123810       11       256   \n",
              "top     tt0000001  tvEpisode  Episode #1.1  Episode #1.1        0        \\N   \n",
              "freq            1    6665396         43377         43377  8543392   1184051   \n",
              "\n",
              "        endYear runtimeMinutes   genres  \n",
              "count   8882383        8882383  8882373  \n",
              "unique       98            870     2310  \n",
              "top          \\N             \\N    Drama  \n",
              "freq    8792418        6488406   997811  "
            ]
          },
          "execution_count": 4,
          "metadata": {},
          "output_type": "execute_result"
        }
      ],
      "source": [
        "df.describe()"
      ]
    },
    {
      "cell_type": "code",
      "execution_count": null,
      "metadata": {
        "id": "DPao11MgB0P4"
      },
      "outputs": [],
      "source": [
        "# tconst (string) - alphanumeric unique identifier of the title\n",
        "# titleType (string) – the type/format of the title (e.g. movie, short, tvseries, tvepisode, video, etc)\n",
        "# primaryTitle (string) – the more popular title / the title used by the filmmakers on promotional materials at the point of release\n",
        "# originalTitle (string) - original title, in the original language\n",
        "# isAdult (boolean) - 0: non-adult title; 1: adult title\n",
        "# startYear (YYYY) – represents the release year of a title. In the case of TV Series, it is the series start year\n",
        "# endYear (YYYY) – TV Series end year. ‘\\N’ for all other title types\n",
        "# runtimeMinutes – primary runtime of the title, in minutes\n",
        "# genres (string array) – includes up to three genres associated with the title"
      ]
    },
    {
      "cell_type": "code",
      "execution_count": null,
      "metadata": {
        "id": "e4Q6VfUVAJ_N"
      },
      "outputs": [],
      "source": [
        "### Dealing with all individual columns\n",
        "\n",
        "## titleType (string) – the type/format of the title (e.g. movie, short, tvseries, tvepisode, video, etc)\n",
        "# Filtering only movies from all the data\n",
        "df = df[(df.titleType=='movie') | (df.titleType=='tvMovie')].reset_index(drop=True)\n",
        "\n",
        "## primaryTitle (string) – the more popular title / the title used by the filmmakers on promotional materials at the point of release\n",
        "# Leaving it as it is.\n",
        "\n",
        "## originalTitle (string) - original title, in the original language\n",
        "# Removing origional tittle because of primary tittle\n",
        "df.drop(\"originalTitle\", 1, inplace=True)\n",
        "\n",
        "## isAdult (boolean) - 0: non-adult title; 1: adult title\n",
        "# Making the isAdult column in correct format in 0,1 value\n",
        "df[\"isAdult\"] = df.isAdult.replace({'0':0,'1':1})\n",
        "\n",
        "# Dropping"
      ]
    },
    {
      "cell_type": "code",
      "execution_count": null,
      "metadata": {
        "colab": {
          "base_uri": "https://localhost:8080/",
          "height": 424
        },
        "id": "awQTSDJSAJ8C",
        "outputId": "64f11850-dade-464c-c6fd-54be46c97df9"
      },
      "outputs": [
        {
          "data": {
            "text/html": [
              "\n",
              "  <div id=\"df-43a8ae59-08a7-43ec-9d39-2bd878129a51\">\n",
              "    <div class=\"colab-df-container\">\n",
              "      <div>\n",
              "<style scoped>\n",
              "    .dataframe tbody tr th:only-of-type {\n",
              "        vertical-align: middle;\n",
              "    }\n",
              "\n",
              "    .dataframe tbody tr th {\n",
              "        vertical-align: top;\n",
              "    }\n",
              "\n",
              "    .dataframe thead th {\n",
              "        text-align: right;\n",
              "    }\n",
              "</style>\n",
              "<table border=\"1\" class=\"dataframe\">\n",
              "  <thead>\n",
              "    <tr style=\"text-align: right;\">\n",
              "      <th></th>\n",
              "      <th>tconst</th>\n",
              "      <th>titleType</th>\n",
              "      <th>primaryTitle</th>\n",
              "      <th>isAdult</th>\n",
              "      <th>startYear</th>\n",
              "      <th>endYear</th>\n",
              "      <th>runtimeMinutes</th>\n",
              "      <th>genres</th>\n",
              "    </tr>\n",
              "  </thead>\n",
              "  <tbody>\n",
              "    <tr>\n",
              "      <th>0</th>\n",
              "      <td>tt0000502</td>\n",
              "      <td>movie</td>\n",
              "      <td>Bohemios</td>\n",
              "      <td>0</td>\n",
              "      <td>1905</td>\n",
              "      <td>\\N</td>\n",
              "      <td>100</td>\n",
              "      <td>\\N</td>\n",
              "    </tr>\n",
              "    <tr>\n",
              "      <th>1</th>\n",
              "      <td>tt0000574</td>\n",
              "      <td>movie</td>\n",
              "      <td>The Story of the Kelly Gang</td>\n",
              "      <td>0</td>\n",
              "      <td>1906</td>\n",
              "      <td>\\N</td>\n",
              "      <td>70</td>\n",
              "      <td>Action,Adventure,Biography</td>\n",
              "    </tr>\n",
              "    <tr>\n",
              "      <th>2</th>\n",
              "      <td>tt0000591</td>\n",
              "      <td>movie</td>\n",
              "      <td>The Prodigal Son</td>\n",
              "      <td>0</td>\n",
              "      <td>1907</td>\n",
              "      <td>\\N</td>\n",
              "      <td>90</td>\n",
              "      <td>Drama</td>\n",
              "    </tr>\n",
              "    <tr>\n",
              "      <th>3</th>\n",
              "      <td>tt0000615</td>\n",
              "      <td>movie</td>\n",
              "      <td>Robbery Under Arms</td>\n",
              "      <td>0</td>\n",
              "      <td>1907</td>\n",
              "      <td>\\N</td>\n",
              "      <td>\\N</td>\n",
              "      <td>Drama</td>\n",
              "    </tr>\n",
              "    <tr>\n",
              "      <th>4</th>\n",
              "      <td>tt0000630</td>\n",
              "      <td>movie</td>\n",
              "      <td>Hamlet</td>\n",
              "      <td>0</td>\n",
              "      <td>1908</td>\n",
              "      <td>\\N</td>\n",
              "      <td>\\N</td>\n",
              "      <td>Drama</td>\n",
              "    </tr>\n",
              "    <tr>\n",
              "      <th>...</th>\n",
              "      <td>...</td>\n",
              "      <td>...</td>\n",
              "      <td>...</td>\n",
              "      <td>...</td>\n",
              "      <td>...</td>\n",
              "      <td>...</td>\n",
              "      <td>...</td>\n",
              "      <td>...</td>\n",
              "    </tr>\n",
              "    <tr>\n",
              "      <th>744546</th>\n",
              "      <td>tt9916680</td>\n",
              "      <td>movie</td>\n",
              "      <td>De la ilusión al desconcierto: cine colombiano...</td>\n",
              "      <td>0</td>\n",
              "      <td>2007</td>\n",
              "      <td>\\N</td>\n",
              "      <td>100</td>\n",
              "      <td>Documentary</td>\n",
              "    </tr>\n",
              "    <tr>\n",
              "      <th>744547</th>\n",
              "      <td>tt9916692</td>\n",
              "      <td>tvMovie</td>\n",
              "      <td>Teatroteka: Czlowiek bez twarzy</td>\n",
              "      <td>0</td>\n",
              "      <td>2015</td>\n",
              "      <td>\\N</td>\n",
              "      <td>66</td>\n",
              "      <td>Drama</td>\n",
              "    </tr>\n",
              "    <tr>\n",
              "      <th>744548</th>\n",
              "      <td>tt9916706</td>\n",
              "      <td>movie</td>\n",
              "      <td>Dankyavar Danka</td>\n",
              "      <td>0</td>\n",
              "      <td>2013</td>\n",
              "      <td>\\N</td>\n",
              "      <td>\\N</td>\n",
              "      <td>Comedy</td>\n",
              "    </tr>\n",
              "    <tr>\n",
              "      <th>744549</th>\n",
              "      <td>tt9916730</td>\n",
              "      <td>movie</td>\n",
              "      <td>6 Gunn</td>\n",
              "      <td>0</td>\n",
              "      <td>2017</td>\n",
              "      <td>\\N</td>\n",
              "      <td>116</td>\n",
              "      <td>\\N</td>\n",
              "    </tr>\n",
              "    <tr>\n",
              "      <th>744550</th>\n",
              "      <td>tt9916754</td>\n",
              "      <td>movie</td>\n",
              "      <td>Chico Albuquerque - Revelações</td>\n",
              "      <td>0</td>\n",
              "      <td>2013</td>\n",
              "      <td>\\N</td>\n",
              "      <td>49</td>\n",
              "      <td>Documentary</td>\n",
              "    </tr>\n",
              "  </tbody>\n",
              "</table>\n",
              "<p>744551 rows × 8 columns</p>\n",
              "</div>\n",
              "      <button class=\"colab-df-convert\" onclick=\"convertToInteractive('df-43a8ae59-08a7-43ec-9d39-2bd878129a51')\"\n",
              "              title=\"Convert this dataframe to an interactive table.\"\n",
              "              style=\"display:none;\">\n",
              "        \n",
              "  <svg xmlns=\"http://www.w3.org/2000/svg\" height=\"24px\"viewBox=\"0 0 24 24\"\n",
              "       width=\"24px\">\n",
              "    <path d=\"M0 0h24v24H0V0z\" fill=\"none\"/>\n",
              "    <path d=\"M18.56 5.44l.94 2.06.94-2.06 2.06-.94-2.06-.94-.94-2.06-.94 2.06-2.06.94zm-11 1L8.5 8.5l.94-2.06 2.06-.94-2.06-.94L8.5 2.5l-.94 2.06-2.06.94zm10 10l.94 2.06.94-2.06 2.06-.94-2.06-.94-.94-2.06-.94 2.06-2.06.94z\"/><path d=\"M17.41 7.96l-1.37-1.37c-.4-.4-.92-.59-1.43-.59-.52 0-1.04.2-1.43.59L10.3 9.45l-7.72 7.72c-.78.78-.78 2.05 0 2.83L4 21.41c.39.39.9.59 1.41.59.51 0 1.02-.2 1.41-.59l7.78-7.78 2.81-2.81c.8-.78.8-2.07 0-2.86zM5.41 20L4 18.59l7.72-7.72 1.47 1.35L5.41 20z\"/>\n",
              "  </svg>\n",
              "      </button>\n",
              "      \n",
              "  <style>\n",
              "    .colab-df-container {\n",
              "      display:flex;\n",
              "      flex-wrap:wrap;\n",
              "      gap: 12px;\n",
              "    }\n",
              "\n",
              "    .colab-df-convert {\n",
              "      background-color: #E8F0FE;\n",
              "      border: none;\n",
              "      border-radius: 50%;\n",
              "      cursor: pointer;\n",
              "      display: none;\n",
              "      fill: #1967D2;\n",
              "      height: 32px;\n",
              "      padding: 0 0 0 0;\n",
              "      width: 32px;\n",
              "    }\n",
              "\n",
              "    .colab-df-convert:hover {\n",
              "      background-color: #E2EBFA;\n",
              "      box-shadow: 0px 1px 2px rgba(60, 64, 67, 0.3), 0px 1px 3px 1px rgba(60, 64, 67, 0.15);\n",
              "      fill: #174EA6;\n",
              "    }\n",
              "\n",
              "    [theme=dark] .colab-df-convert {\n",
              "      background-color: #3B4455;\n",
              "      fill: #D2E3FC;\n",
              "    }\n",
              "\n",
              "    [theme=dark] .colab-df-convert:hover {\n",
              "      background-color: #434B5C;\n",
              "      box-shadow: 0px 1px 3px 1px rgba(0, 0, 0, 0.15);\n",
              "      filter: drop-shadow(0px 1px 2px rgba(0, 0, 0, 0.3));\n",
              "      fill: #FFFFFF;\n",
              "    }\n",
              "  </style>\n",
              "\n",
              "      <script>\n",
              "        const buttonEl =\n",
              "          document.querySelector('#df-43a8ae59-08a7-43ec-9d39-2bd878129a51 button.colab-df-convert');\n",
              "        buttonEl.style.display =\n",
              "          google.colab.kernel.accessAllowed ? 'block' : 'none';\n",
              "\n",
              "        async function convertToInteractive(key) {\n",
              "          const element = document.querySelector('#df-43a8ae59-08a7-43ec-9d39-2bd878129a51');\n",
              "          const dataTable =\n",
              "            await google.colab.kernel.invokeFunction('convertToInteractive',\n",
              "                                                     [key], {});\n",
              "          if (!dataTable) return;\n",
              "\n",
              "          const docLinkHtml = 'Like what you see? Visit the ' +\n",
              "            '<a target=\"_blank\" href=https://colab.research.google.com/notebooks/data_table.ipynb>data table notebook</a>'\n",
              "            + ' to learn more about interactive tables.';\n",
              "          element.innerHTML = '';\n",
              "          dataTable['output_type'] = 'display_data';\n",
              "          await google.colab.output.renderOutput(dataTable, element);\n",
              "          const docLink = document.createElement('div');\n",
              "          docLink.innerHTML = docLinkHtml;\n",
              "          element.appendChild(docLink);\n",
              "        }\n",
              "      </script>\n",
              "    </div>\n",
              "  </div>\n",
              "  "
            ],
            "text/plain": [
              "           tconst titleType  \\\n",
              "0       tt0000502     movie   \n",
              "1       tt0000574     movie   \n",
              "2       tt0000591     movie   \n",
              "3       tt0000615     movie   \n",
              "4       tt0000630     movie   \n",
              "...           ...       ...   \n",
              "744546  tt9916680     movie   \n",
              "744547  tt9916692   tvMovie   \n",
              "744548  tt9916706     movie   \n",
              "744549  tt9916730     movie   \n",
              "744550  tt9916754     movie   \n",
              "\n",
              "                                             primaryTitle  isAdult startYear  \\\n",
              "0                                                Bohemios        0      1905   \n",
              "1                             The Story of the Kelly Gang        0      1906   \n",
              "2                                        The Prodigal Son        0      1907   \n",
              "3                                      Robbery Under Arms        0      1907   \n",
              "4                                                  Hamlet        0      1908   \n",
              "...                                                   ...      ...       ...   \n",
              "744546  De la ilusión al desconcierto: cine colombiano...        0      2007   \n",
              "744547                    Teatroteka: Czlowiek bez twarzy        0      2015   \n",
              "744548                                    Dankyavar Danka        0      2013   \n",
              "744549                                             6 Gunn        0      2017   \n",
              "744550                     Chico Albuquerque - Revelações        0      2013   \n",
              "\n",
              "       endYear runtimeMinutes                      genres  \n",
              "0           \\N            100                          \\N  \n",
              "1           \\N             70  Action,Adventure,Biography  \n",
              "2           \\N             90                       Drama  \n",
              "3           \\N             \\N                       Drama  \n",
              "4           \\N             \\N                       Drama  \n",
              "...        ...            ...                         ...  \n",
              "744546      \\N            100                 Documentary  \n",
              "744547      \\N             66                       Drama  \n",
              "744548      \\N             \\N                      Comedy  \n",
              "744549      \\N            116                          \\N  \n",
              "744550      \\N             49                 Documentary  \n",
              "\n",
              "[744551 rows x 8 columns]"
            ]
          },
          "execution_count": 6,
          "metadata": {},
          "output_type": "execute_result"
        }
      ],
      "source": [
        "df"
      ]
    },
    {
      "cell_type": "code",
      "execution_count": null,
      "metadata": {
        "colab": {
          "base_uri": "https://localhost:8080/",
          "height": 294
        },
        "id": "D3YJhyGDaDeQ",
        "outputId": "38451e9e-6ffc-41cd-8bed-0cbeddccf71b"
      },
      "outputs": [
        {
          "ename": "TypeError",
          "evalue": "ignored",
          "output_type": "error",
          "traceback": [
            "\u001b[0;31m---------------------------------------------------------------------------\u001b[0m",
            "\u001b[0;31mTypeError\u001b[0m                                 Traceback (most recent call last)",
            "\u001b[0;32m<ipython-input-48-fd1b31527912>\u001b[0m in \u001b[0;36m<module>\u001b[0;34m()\u001b[0m\n\u001b[0;32m----> 1\u001b[0;31m \u001b[0ma\u001b[0m\u001b[0;34m[\u001b[0m\u001b[0ma\u001b[0m\u001b[0;34m.\u001b[0m\u001b[0mstr\u001b[0m\u001b[0;34m.\u001b[0m\u001b[0misdigit\u001b[0m\u001b[0;34m(\u001b[0m\u001b[0mna\u001b[0m\u001b[0;34m=\u001b[0m\u001b[0;32mFalse\u001b[0m\u001b[0;34m)\u001b[0m\u001b[0;34m]\u001b[0m\u001b[0;34m\u001b[0m\u001b[0;34m\u001b[0m\u001b[0m\n\u001b[0m",
            "\u001b[0;32m/usr/local/lib/python3.7/dist-packages/pandas/core/strings/accessor.py\u001b[0m in \u001b[0;36mwrapper\u001b[0;34m(self, *args, **kwargs)\u001b[0m\n\u001b[1;32m    114\u001b[0m                 )\n\u001b[1;32m    115\u001b[0m                 \u001b[0;32mraise\u001b[0m \u001b[0mTypeError\u001b[0m\u001b[0;34m(\u001b[0m\u001b[0mmsg\u001b[0m\u001b[0;34m)\u001b[0m\u001b[0;34m\u001b[0m\u001b[0;34m\u001b[0m\u001b[0m\n\u001b[0;32m--> 116\u001b[0;31m             \u001b[0;32mreturn\u001b[0m \u001b[0mfunc\u001b[0m\u001b[0;34m(\u001b[0m\u001b[0mself\u001b[0m\u001b[0;34m,\u001b[0m \u001b[0;34m*\u001b[0m\u001b[0margs\u001b[0m\u001b[0;34m,\u001b[0m \u001b[0;34m**\u001b[0m\u001b[0mkwargs\u001b[0m\u001b[0;34m)\u001b[0m\u001b[0;34m\u001b[0m\u001b[0;34m\u001b[0m\u001b[0m\n\u001b[0m\u001b[1;32m    117\u001b[0m \u001b[0;34m\u001b[0m\u001b[0m\n\u001b[1;32m    118\u001b[0m         \u001b[0mwrapper\u001b[0m\u001b[0;34m.\u001b[0m\u001b[0m__name__\u001b[0m \u001b[0;34m=\u001b[0m \u001b[0mfunc_name\u001b[0m\u001b[0;34m\u001b[0m\u001b[0;34m\u001b[0m\u001b[0m\n",
            "\u001b[0;31mTypeError\u001b[0m: wrapper() got an unexpected keyword argument 'na'"
          ]
        }
      ],
      "source": [
        "a[a.str.isdigit()]"
      ]
    },
    {
      "cell_type": "code",
      "execution_count": null,
      "metadata": {
        "colab": {
          "base_uri": "https://localhost:8080/"
        },
        "id": "XRteIfYlyezH",
        "outputId": "a8397a60-6f20-4fa1-9750-026625125fb4"
      },
      "outputs": [
        {
          "data": {
            "text/plain": [
              "array([1905, 1906, 1907, 1908, 1909, 1910, 1912, 1911, 1913, 1915, 1914,\n",
              "       1919, 1916, 1917, 1936, 1925, 1918, 1920, 1922, 1921, 1924, 1923,\n",
              "       1928, 2019, 1926, 1927, 1929, 2000, 1993, 1935, 1930, 1942, 1932,\n",
              "       1931, 1934, 1939, 1937, 1933, 1950, 1938, 1951, 1946, 1996, 1940,\n",
              "       1944, 1947, 1941, 1952, 1970, 1957, 1943, 1948, 1945, 2001, 1949,\n",
              "       1953, 1954, 1965, 1983, 1980, 1973, 1961, 1955, 1962, 1958, 1956,\n",
              "       1977, 1964, 1960, 1959, 1967, 1968, 1963, 1986, 1971, 1969, 1972,\n",
              "       1966, 1976, 1990, 1979, 1974, 1981, 2020, 1988, 1975, 1978, 1989,\n",
              "       '1972', '1971', '1970', '1974', '1973', '1976', '1969', '1985',\n",
              "       '1981', '1968', '1980', '1995', '1986', '1965', '1987', '1975',\n",
              "       '1978', '1967', '1990', '2018', '1979', '1977', '1988', '1984',\n",
              "       '1966', '1982', '1983', '1991', '1963', '2001', '1961', 0, '1989',\n",
              "       '1994', '1993', '1964', '1957', '2019', '1992', '2005', '1953',\n",
              "       '2004', '1998', '2020', '1947', '2016', '2002', '1959', '1996',\n",
              "       '2017', '1997', '2000', '1945', '1956', '1999', '2021', '2006',\n",
              "       '1955', '2009', '1949', '2008', '2022', '2003', '2007', '1930',\n",
              "       '1938', '1960', '1944', '1935', '1962', '1951', '1954', '1952',\n",
              "       '1958', '1918', '1943', '1921', '1941', '1939', '1940', '1950',\n",
              "       '1946', '1916', '1934', '1948', '1933', '1929', '1936', '1925',\n",
              "       '1932', '1928', '1917', '1919', '1926', '1937', '1931', '1920',\n",
              "       '1942', '1922', '1927', '1923', '1924', '1915', '1914', '1913',\n",
              "       '1911', '2010', '1912', '1909', '1910', '1905', '1898', '1899',\n",
              "       '2012', '1908', '2013', '1906', '1907', '2011', '1904', '2015',\n",
              "       '1897', '1901', '1902', '1900', '1903', '2014', '2024', '2023',\n",
              "       '2025', '2027', '2026', '2028', '2029', '1896'], dtype=object)"
            ]
          },
          "execution_count": 47,
          "metadata": {},
          "output_type": "execute_result"
        }
      ],
      "source": [
        "a.unique()"
      ]
    },
    {
      "cell_type": "code",
      "execution_count": null,
      "metadata": {
        "colab": {
          "base_uri": "https://localhost:8080/"
        },
        "id": "V0Ltq51EYEW7",
        "outputId": "730be758-34a3-4b27-827d-3788866ee80b"
      },
      "outputs": [
        {
          "data": {
            "text/plain": [
              "60154     0\n",
              "67301     0\n",
              "71328     0\n",
              "73073     0\n",
              "84359     0\n",
              "         ..\n",
              "744525    0\n",
              "744528    0\n",
              "744532    0\n",
              "744534    0\n",
              "744544    0\n",
              "Name: startYear, Length: 82685, dtype: object"
            ]
          },
          "execution_count": 37,
          "metadata": {},
          "output_type": "execute_result"
        }
      ],
      "source": [
        "a[a==0]"
      ]
    },
    {
      "cell_type": "code",
      "execution_count": null,
      "metadata": {
        "colab": {
          "base_uri": "https://localhost:8080/"
        },
        "id": "reYICYfhXDFK",
        "outputId": "055f049d-9437-40bb-d59b-834a8e4eb7a8"
      },
      "outputs": [
        {
          "data": {
            "text/plain": [
              "110371    2013\n",
              "146467    2013\n",
              "160301    2013\n",
              "184156    2013\n",
              "208471    2013\n",
              "          ... \n",
              "744378    2013\n",
              "744381    2013\n",
              "744437    2013\n",
              "744548    2013\n",
              "744550    2013\n",
              "Name: startYear, Length: 18182, dtype: object"
            ]
          },
          "execution_count": 32,
          "metadata": {},
          "output_type": "execute_result"
        }
      ],
      "source": [
        "if a[a==\"\\NN\"]"
      ]
    },
    {
      "cell_type": "code",
      "execution_count": null,
      "metadata": {
        "id": "C2vCuIyCVyEe"
      },
      "outputs": [],
      "source": [
        "a = 78"
      ]
    },
    {
      "cell_type": "code",
      "execution_count": null,
      "metadata": {
        "colab": {
          "base_uri": "https://localhost:8080/"
        },
        "id": "bHktc-_7Vz_Z",
        "outputId": "33bec798-de30-4e36-9ada-2747a7f56359"
      },
      "outputs": [
        {
          "data": {
            "text/plain": [
              "True"
            ]
          },
          "execution_count": 18,
          "metadata": {},
          "output_type": "execute_result"
        }
      ],
      "source": [
        "type(a) == int"
      ]
    },
    {
      "cell_type": "code",
      "execution_count": null,
      "metadata": {
        "colab": {
          "base_uri": "https://localhost:8080/"
        },
        "id": "2jDFfMC1ygFD",
        "outputId": "f2a93b8b-7fda-4d13-b039-c8568d3343ff"
      },
      "outputs": [
        {
          "data": {
            "text/plain": [
              "0    735127\n",
              "1      9424\n",
              "Name: isAdult, dtype: int64"
            ]
          },
          "execution_count": 25,
          "metadata": {},
          "output_type": "execute_result"
        }
      ],
      "source": [
        "df.isAdult.value_counts()"
      ]
    },
    {
      "cell_type": "code",
      "execution_count": null,
      "metadata": {
        "colab": {
          "base_uri": "https://localhost:8080/"
        },
        "id": "ctp0G7QO3_PQ",
        "outputId": "14189a3d-c772-4fcb-bea5-0493a9db5e6b"
      },
      "outputs": [
        {
          "name": "stdout",
          "output_type": "stream",
          "text": [
            "<class 'pandas.core.frame.DataFrame'>\n",
            "RangeIndex: 744551 entries, 0 to 744550\n",
            "Data columns (total 9 columns):\n",
            " #   Column          Non-Null Count   Dtype \n",
            "---  ------          --------------   ----- \n",
            " 0   tconst          744551 non-null  object\n",
            " 1   titleType       744551 non-null  object\n",
            " 2   primaryTitle    744551 non-null  object\n",
            " 3   originalTitle   744551 non-null  object\n",
            " 4   isAdult         744551 non-null  int64 \n",
            " 5   startYear       744551 non-null  object\n",
            " 6   endYear         744551 non-null  object\n",
            " 7   runtimeMinutes  744551 non-null  object\n",
            " 8   genres          744551 non-null  object\n",
            "dtypes: int64(1), object(8)\n",
            "memory usage: 51.1+ MB\n"
          ]
        }
      ],
      "source": [
        "df.info()"
      ]
    },
    {
      "cell_type": "code",
      "execution_count": null,
      "metadata": {
        "id": "H0pzD1KX3yid"
      },
      "outputs": [],
      "source": [
        "# tconst (string)\n",
        "# titleType (string)\n",
        "# primaryTitle (string) – the more popular title / the title used by the filmmakers on promotional materials at the point of release\n",
        "# originalTitle (string) - original title, in the original language\n",
        "# isAdult (boolean)\n",
        "# startYear (YYYY) – represents the release year of a title. In the case of TV Series, it is the series start year\n",
        "# endYear (YYYY) – TV Series end year. ‘\\N’ for all other title types\n",
        "# runtimeMinutes – primary runtime of the title, in minutes\n",
        "# genres (string array) – includes up to three genres associated with the title"
      ]
    },
    {
      "cell_type": "code",
      "execution_count": null,
      "metadata": {
        "id": "OiR7343Xqkil"
      },
      "outputs": [],
      "source": [
        "df = df[(df.titleType=='movie') | (df.titleType=='tvMovie')].reset_index(drop=True)"
      ]
    },
    {
      "cell_type": "code",
      "execution_count": null,
      "metadata": {
        "id": "3rWzojPb5LOC"
      },
      "outputs": [],
      "source": [
        "df[\"isAdult\"] = df.isAdult.replace({'0':0,'1':1})"
      ]
    },
    {
      "cell_type": "code",
      "execution_count": null,
      "metadata": {
        "colab": {
          "base_uri": "https://localhost:8080/",
          "height": 424
        },
        "id": "o3izNho8EMWl",
        "outputId": "a1448abb-7215-4e1f-f1a9-4638798bfab9"
      },
      "outputs": [
        {
          "data": {
            "text/html": [
              "\n",
              "  <div id=\"df-bcb396a5-434a-4240-bcfe-857bf9c2abd9\">\n",
              "    <div class=\"colab-df-container\">\n",
              "      <div>\n",
              "<style scoped>\n",
              "    .dataframe tbody tr th:only-of-type {\n",
              "        vertical-align: middle;\n",
              "    }\n",
              "\n",
              "    .dataframe tbody tr th {\n",
              "        vertical-align: top;\n",
              "    }\n",
              "\n",
              "    .dataframe thead th {\n",
              "        text-align: right;\n",
              "    }\n",
              "</style>\n",
              "<table border=\"1\" class=\"dataframe\">\n",
              "  <thead>\n",
              "    <tr style=\"text-align: right;\">\n",
              "      <th></th>\n",
              "      <th>tconst</th>\n",
              "      <th>titleType</th>\n",
              "      <th>primaryTitle</th>\n",
              "      <th>isAdult</th>\n",
              "      <th>startYear</th>\n",
              "      <th>endYear</th>\n",
              "      <th>runtimeMinutes</th>\n",
              "      <th>genres</th>\n",
              "    </tr>\n",
              "  </thead>\n",
              "  <tbody>\n",
              "    <tr>\n",
              "      <th>60154</th>\n",
              "      <td>tt0080155</td>\n",
              "      <td>movie</td>\n",
              "      <td>The Wonderful Years</td>\n",
              "      <td>0</td>\n",
              "      <td>\\N</td>\n",
              "      <td>\\N</td>\n",
              "      <td>104</td>\n",
              "      <td>Drama</td>\n",
              "    </tr>\n",
              "    <tr>\n",
              "      <th>67301</th>\n",
              "      <td>tt0089154</td>\n",
              "      <td>movie</td>\n",
              "      <td>Flesh and Bullets</td>\n",
              "      <td>0</td>\n",
              "      <td>\\N</td>\n",
              "      <td>\\N</td>\n",
              "      <td>84</td>\n",
              "      <td>Crime</td>\n",
              "    </tr>\n",
              "    <tr>\n",
              "      <th>71328</th>\n",
              "      <td>tt0094158</td>\n",
              "      <td>movie</td>\n",
              "      <td>To Market to Market</td>\n",
              "      <td>0</td>\n",
              "      <td>\\N</td>\n",
              "      <td>\\N</td>\n",
              "      <td>88</td>\n",
              "      <td>Drama</td>\n",
              "    </tr>\n",
              "    <tr>\n",
              "      <th>73073</th>\n",
              "      <td>tt0096410</td>\n",
              "      <td>movie</td>\n",
              "      <td>Walking After Midnight</td>\n",
              "      <td>0</td>\n",
              "      <td>\\N</td>\n",
              "      <td>\\N</td>\n",
              "      <td>92</td>\n",
              "      <td>Documentary</td>\n",
              "    </tr>\n",
              "    <tr>\n",
              "      <th>84359</th>\n",
              "      <td>tt0111597</td>\n",
              "      <td>movie</td>\n",
              "      <td>The Veiled Hope</td>\n",
              "      <td>0</td>\n",
              "      <td>\\N</td>\n",
              "      <td>\\N</td>\n",
              "      <td>52</td>\n",
              "      <td>Documentary</td>\n",
              "    </tr>\n",
              "    <tr>\n",
              "      <th>...</th>\n",
              "      <td>...</td>\n",
              "      <td>...</td>\n",
              "      <td>...</td>\n",
              "      <td>...</td>\n",
              "      <td>...</td>\n",
              "      <td>...</td>\n",
              "      <td>...</td>\n",
              "      <td>...</td>\n",
              "    </tr>\n",
              "    <tr>\n",
              "      <th>744525</th>\n",
              "      <td>tt9916100</td>\n",
              "      <td>movie</td>\n",
              "      <td>Inventing Robert Capa</td>\n",
              "      <td>0</td>\n",
              "      <td>\\N</td>\n",
              "      <td>\\N</td>\n",
              "      <td>\\N</td>\n",
              "      <td>Biography,Drama,War</td>\n",
              "    </tr>\n",
              "    <tr>\n",
              "      <th>744528</th>\n",
              "      <td>tt9916134</td>\n",
              "      <td>movie</td>\n",
              "      <td>The Thing in the Bag</td>\n",
              "      <td>0</td>\n",
              "      <td>\\N</td>\n",
              "      <td>\\N</td>\n",
              "      <td>78</td>\n",
              "      <td>\\N</td>\n",
              "    </tr>\n",
              "    <tr>\n",
              "      <th>744532</th>\n",
              "      <td>tt9916178</td>\n",
              "      <td>movie</td>\n",
              "      <td>Yesterday's Dreams</td>\n",
              "      <td>0</td>\n",
              "      <td>\\N</td>\n",
              "      <td>\\N</td>\n",
              "      <td>\\N</td>\n",
              "      <td>\\N</td>\n",
              "    </tr>\n",
              "    <tr>\n",
              "      <th>744534</th>\n",
              "      <td>tt9916188</td>\n",
              "      <td>movie</td>\n",
              "      <td>Minotaur</td>\n",
              "      <td>0</td>\n",
              "      <td>\\N</td>\n",
              "      <td>\\N</td>\n",
              "      <td>\\N</td>\n",
              "      <td>Thriller</td>\n",
              "    </tr>\n",
              "    <tr>\n",
              "      <th>744544</th>\n",
              "      <td>tt9916620</td>\n",
              "      <td>movie</td>\n",
              "      <td>The Copeland Case</td>\n",
              "      <td>0</td>\n",
              "      <td>\\N</td>\n",
              "      <td>\\N</td>\n",
              "      <td>\\N</td>\n",
              "      <td>Drama</td>\n",
              "    </tr>\n",
              "  </tbody>\n",
              "</table>\n",
              "<p>82685 rows × 8 columns</p>\n",
              "</div>\n",
              "      <button class=\"colab-df-convert\" onclick=\"convertToInteractive('df-bcb396a5-434a-4240-bcfe-857bf9c2abd9')\"\n",
              "              title=\"Convert this dataframe to an interactive table.\"\n",
              "              style=\"display:none;\">\n",
              "        \n",
              "  <svg xmlns=\"http://www.w3.org/2000/svg\" height=\"24px\"viewBox=\"0 0 24 24\"\n",
              "       width=\"24px\">\n",
              "    <path d=\"M0 0h24v24H0V0z\" fill=\"none\"/>\n",
              "    <path d=\"M18.56 5.44l.94 2.06.94-2.06 2.06-.94-2.06-.94-.94-2.06-.94 2.06-2.06.94zm-11 1L8.5 8.5l.94-2.06 2.06-.94-2.06-.94L8.5 2.5l-.94 2.06-2.06.94zm10 10l.94 2.06.94-2.06 2.06-.94-2.06-.94-.94-2.06-.94 2.06-2.06.94z\"/><path d=\"M17.41 7.96l-1.37-1.37c-.4-.4-.92-.59-1.43-.59-.52 0-1.04.2-1.43.59L10.3 9.45l-7.72 7.72c-.78.78-.78 2.05 0 2.83L4 21.41c.39.39.9.59 1.41.59.51 0 1.02-.2 1.41-.59l7.78-7.78 2.81-2.81c.8-.78.8-2.07 0-2.86zM5.41 20L4 18.59l7.72-7.72 1.47 1.35L5.41 20z\"/>\n",
              "  </svg>\n",
              "      </button>\n",
              "      \n",
              "  <style>\n",
              "    .colab-df-container {\n",
              "      display:flex;\n",
              "      flex-wrap:wrap;\n",
              "      gap: 12px;\n",
              "    }\n",
              "\n",
              "    .colab-df-convert {\n",
              "      background-color: #E8F0FE;\n",
              "      border: none;\n",
              "      border-radius: 50%;\n",
              "      cursor: pointer;\n",
              "      display: none;\n",
              "      fill: #1967D2;\n",
              "      height: 32px;\n",
              "      padding: 0 0 0 0;\n",
              "      width: 32px;\n",
              "    }\n",
              "\n",
              "    .colab-df-convert:hover {\n",
              "      background-color: #E2EBFA;\n",
              "      box-shadow: 0px 1px 2px rgba(60, 64, 67, 0.3), 0px 1px 3px 1px rgba(60, 64, 67, 0.15);\n",
              "      fill: #174EA6;\n",
              "    }\n",
              "\n",
              "    [theme=dark] .colab-df-convert {\n",
              "      background-color: #3B4455;\n",
              "      fill: #D2E3FC;\n",
              "    }\n",
              "\n",
              "    [theme=dark] .colab-df-convert:hover {\n",
              "      background-color: #434B5C;\n",
              "      box-shadow: 0px 1px 3px 1px rgba(0, 0, 0, 0.15);\n",
              "      filter: drop-shadow(0px 1px 2px rgba(0, 0, 0, 0.3));\n",
              "      fill: #FFFFFF;\n",
              "    }\n",
              "  </style>\n",
              "\n",
              "      <script>\n",
              "        const buttonEl =\n",
              "          document.querySelector('#df-bcb396a5-434a-4240-bcfe-857bf9c2abd9 button.colab-df-convert');\n",
              "        buttonEl.style.display =\n",
              "          google.colab.kernel.accessAllowed ? 'block' : 'none';\n",
              "\n",
              "        async function convertToInteractive(key) {\n",
              "          const element = document.querySelector('#df-bcb396a5-434a-4240-bcfe-857bf9c2abd9');\n",
              "          const dataTable =\n",
              "            await google.colab.kernel.invokeFunction('convertToInteractive',\n",
              "                                                     [key], {});\n",
              "          if (!dataTable) return;\n",
              "\n",
              "          const docLinkHtml = 'Like what you see? Visit the ' +\n",
              "            '<a target=\"_blank\" href=https://colab.research.google.com/notebooks/data_table.ipynb>data table notebook</a>'\n",
              "            + ' to learn more about interactive tables.';\n",
              "          element.innerHTML = '';\n",
              "          dataTable['output_type'] = 'display_data';\n",
              "          await google.colab.output.renderOutput(dataTable, element);\n",
              "          const docLink = document.createElement('div');\n",
              "          docLink.innerHTML = docLinkHtml;\n",
              "          element.appendChild(docLink);\n",
              "        }\n",
              "      </script>\n",
              "    </div>\n",
              "  </div>\n",
              "  "
            ],
            "text/plain": [
              "           tconst titleType            primaryTitle  isAdult startYear  \\\n",
              "60154   tt0080155     movie     The Wonderful Years        0        \\N   \n",
              "67301   tt0089154     movie       Flesh and Bullets        0        \\N   \n",
              "71328   tt0094158     movie     To Market to Market        0        \\N   \n",
              "73073   tt0096410     movie  Walking After Midnight        0        \\N   \n",
              "84359   tt0111597     movie         The Veiled Hope        0        \\N   \n",
              "...           ...       ...                     ...      ...       ...   \n",
              "744525  tt9916100     movie   Inventing Robert Capa        0        \\N   \n",
              "744528  tt9916134     movie    The Thing in the Bag        0        \\N   \n",
              "744532  tt9916178     movie      Yesterday's Dreams        0        \\N   \n",
              "744534  tt9916188     movie                Minotaur        0        \\N   \n",
              "744544  tt9916620     movie       The Copeland Case        0        \\N   \n",
              "\n",
              "       endYear runtimeMinutes               genres  \n",
              "60154       \\N            104                Drama  \n",
              "67301       \\N             84                Crime  \n",
              "71328       \\N             88                Drama  \n",
              "73073       \\N             92          Documentary  \n",
              "84359       \\N             52          Documentary  \n",
              "...        ...            ...                  ...  \n",
              "744525      \\N             \\N  Biography,Drama,War  \n",
              "744528      \\N             78                   \\N  \n",
              "744532      \\N             \\N                   \\N  \n",
              "744534      \\N             \\N             Thriller  \n",
              "744544      \\N             \\N                Drama  \n",
              "\n",
              "[82685 rows x 8 columns]"
            ]
          },
          "execution_count": 31,
          "metadata": {},
          "output_type": "execute_result"
        }
      ],
      "source": [
        "df[df.startYear=='\\\\N']"
      ]
    },
    {
      "cell_type": "code",
      "execution_count": null,
      "metadata": {
        "colab": {
          "base_uri": "https://localhost:8080/",
          "height": 485
        },
        "id": "GzV3hNjp4SrV",
        "outputId": "28093ef0-5d9f-49c4-c548-8620b7435fbb"
      },
      "outputs": [
        {
          "data": {
            "text/html": [
              "\n",
              "  <div id=\"df-4a7f928a-f69a-4af7-af7e-4385973b3256\">\n",
              "    <div class=\"colab-df-container\">\n",
              "      <div>\n",
              "<style scoped>\n",
              "    .dataframe tbody tr th:only-of-type {\n",
              "        vertical-align: middle;\n",
              "    }\n",
              "\n",
              "    .dataframe tbody tr th {\n",
              "        vertical-align: top;\n",
              "    }\n",
              "\n",
              "    .dataframe thead th {\n",
              "        text-align: right;\n",
              "    }\n",
              "</style>\n",
              "<table border=\"1\" class=\"dataframe\">\n",
              "  <thead>\n",
              "    <tr style=\"text-align: right;\">\n",
              "      <th></th>\n",
              "      <th>tconst</th>\n",
              "      <th>titleType</th>\n",
              "      <th>primaryTitle</th>\n",
              "      <th>originalTitle</th>\n",
              "      <th>isAdult</th>\n",
              "      <th>startYear</th>\n",
              "      <th>endYear</th>\n",
              "      <th>runtimeMinutes</th>\n",
              "      <th>genres</th>\n",
              "    </tr>\n",
              "  </thead>\n",
              "  <tbody>\n",
              "    <tr>\n",
              "      <th>0</th>\n",
              "      <td>tt0000502</td>\n",
              "      <td>movie</td>\n",
              "      <td>Bohemios</td>\n",
              "      <td>Bohemios</td>\n",
              "      <td>0</td>\n",
              "      <td>1905</td>\n",
              "      <td>\\N</td>\n",
              "      <td>100</td>\n",
              "      <td>\\N</td>\n",
              "    </tr>\n",
              "    <tr>\n",
              "      <th>1</th>\n",
              "      <td>tt0000574</td>\n",
              "      <td>movie</td>\n",
              "      <td>The Story of the Kelly Gang</td>\n",
              "      <td>The Story of the Kelly Gang</td>\n",
              "      <td>0</td>\n",
              "      <td>1906</td>\n",
              "      <td>\\N</td>\n",
              "      <td>70</td>\n",
              "      <td>Action,Adventure,Biography</td>\n",
              "    </tr>\n",
              "    <tr>\n",
              "      <th>2</th>\n",
              "      <td>tt0000591</td>\n",
              "      <td>movie</td>\n",
              "      <td>The Prodigal Son</td>\n",
              "      <td>L'enfant prodigue</td>\n",
              "      <td>0</td>\n",
              "      <td>1907</td>\n",
              "      <td>\\N</td>\n",
              "      <td>90</td>\n",
              "      <td>Drama</td>\n",
              "    </tr>\n",
              "    <tr>\n",
              "      <th>3</th>\n",
              "      <td>tt0000615</td>\n",
              "      <td>movie</td>\n",
              "      <td>Robbery Under Arms</td>\n",
              "      <td>Robbery Under Arms</td>\n",
              "      <td>0</td>\n",
              "      <td>1907</td>\n",
              "      <td>\\N</td>\n",
              "      <td>\\N</td>\n",
              "      <td>Drama</td>\n",
              "    </tr>\n",
              "    <tr>\n",
              "      <th>4</th>\n",
              "      <td>tt0000630</td>\n",
              "      <td>movie</td>\n",
              "      <td>Hamlet</td>\n",
              "      <td>Amleto</td>\n",
              "      <td>0</td>\n",
              "      <td>1908</td>\n",
              "      <td>\\N</td>\n",
              "      <td>\\N</td>\n",
              "      <td>Drama</td>\n",
              "    </tr>\n",
              "    <tr>\n",
              "      <th>...</th>\n",
              "      <td>...</td>\n",
              "      <td>...</td>\n",
              "      <td>...</td>\n",
              "      <td>...</td>\n",
              "      <td>...</td>\n",
              "      <td>...</td>\n",
              "      <td>...</td>\n",
              "      <td>...</td>\n",
              "      <td>...</td>\n",
              "    </tr>\n",
              "    <tr>\n",
              "      <th>744421</th>\n",
              "      <td>tt9916680</td>\n",
              "      <td>movie</td>\n",
              "      <td>De la ilusión al desconcierto: cine colombiano...</td>\n",
              "      <td>De la ilusión al desconcierto: cine colombiano...</td>\n",
              "      <td>0</td>\n",
              "      <td>2007</td>\n",
              "      <td>\\N</td>\n",
              "      <td>100</td>\n",
              "      <td>Documentary</td>\n",
              "    </tr>\n",
              "    <tr>\n",
              "      <th>744422</th>\n",
              "      <td>tt9916692</td>\n",
              "      <td>tvMovie</td>\n",
              "      <td>Teatroteka: Czlowiek bez twarzy</td>\n",
              "      <td>Teatroteka: Czlowiek bez twarzy</td>\n",
              "      <td>0</td>\n",
              "      <td>2015</td>\n",
              "      <td>\\N</td>\n",
              "      <td>66</td>\n",
              "      <td>Drama</td>\n",
              "    </tr>\n",
              "    <tr>\n",
              "      <th>744423</th>\n",
              "      <td>tt9916706</td>\n",
              "      <td>movie</td>\n",
              "      <td>Dankyavar Danka</td>\n",
              "      <td>Dankyavar Danka</td>\n",
              "      <td>0</td>\n",
              "      <td>2013</td>\n",
              "      <td>\\N</td>\n",
              "      <td>\\N</td>\n",
              "      <td>Comedy</td>\n",
              "    </tr>\n",
              "    <tr>\n",
              "      <th>744424</th>\n",
              "      <td>tt9916730</td>\n",
              "      <td>movie</td>\n",
              "      <td>6 Gunn</td>\n",
              "      <td>6 Gunn</td>\n",
              "      <td>0</td>\n",
              "      <td>2017</td>\n",
              "      <td>\\N</td>\n",
              "      <td>116</td>\n",
              "      <td>\\N</td>\n",
              "    </tr>\n",
              "    <tr>\n",
              "      <th>744425</th>\n",
              "      <td>tt9916754</td>\n",
              "      <td>movie</td>\n",
              "      <td>Chico Albuquerque - Revelações</td>\n",
              "      <td>Chico Albuquerque - Revelações</td>\n",
              "      <td>0</td>\n",
              "      <td>2013</td>\n",
              "      <td>\\N</td>\n",
              "      <td>49</td>\n",
              "      <td>Documentary</td>\n",
              "    </tr>\n",
              "  </tbody>\n",
              "</table>\n",
              "<p>744426 rows × 9 columns</p>\n",
              "</div>\n",
              "      <button class=\"colab-df-convert\" onclick=\"convertToInteractive('df-4a7f928a-f69a-4af7-af7e-4385973b3256')\"\n",
              "              title=\"Convert this dataframe to an interactive table.\"\n",
              "              style=\"display:none;\">\n",
              "        \n",
              "  <svg xmlns=\"http://www.w3.org/2000/svg\" height=\"24px\"viewBox=\"0 0 24 24\"\n",
              "       width=\"24px\">\n",
              "    <path d=\"M0 0h24v24H0V0z\" fill=\"none\"/>\n",
              "    <path d=\"M18.56 5.44l.94 2.06.94-2.06 2.06-.94-2.06-.94-.94-2.06-.94 2.06-2.06.94zm-11 1L8.5 8.5l.94-2.06 2.06-.94-2.06-.94L8.5 2.5l-.94 2.06-2.06.94zm10 10l.94 2.06.94-2.06 2.06-.94-2.06-.94-.94-2.06-.94 2.06-2.06.94z\"/><path d=\"M17.41 7.96l-1.37-1.37c-.4-.4-.92-.59-1.43-.59-.52 0-1.04.2-1.43.59L10.3 9.45l-7.72 7.72c-.78.78-.78 2.05 0 2.83L4 21.41c.39.39.9.59 1.41.59.51 0 1.02-.2 1.41-.59l7.78-7.78 2.81-2.81c.8-.78.8-2.07 0-2.86zM5.41 20L4 18.59l7.72-7.72 1.47 1.35L5.41 20z\"/>\n",
              "  </svg>\n",
              "      </button>\n",
              "      \n",
              "  <style>\n",
              "    .colab-df-container {\n",
              "      display:flex;\n",
              "      flex-wrap:wrap;\n",
              "      gap: 12px;\n",
              "    }\n",
              "\n",
              "    .colab-df-convert {\n",
              "      background-color: #E8F0FE;\n",
              "      border: none;\n",
              "      border-radius: 50%;\n",
              "      cursor: pointer;\n",
              "      display: none;\n",
              "      fill: #1967D2;\n",
              "      height: 32px;\n",
              "      padding: 0 0 0 0;\n",
              "      width: 32px;\n",
              "    }\n",
              "\n",
              "    .colab-df-convert:hover {\n",
              "      background-color: #E2EBFA;\n",
              "      box-shadow: 0px 1px 2px rgba(60, 64, 67, 0.3), 0px 1px 3px 1px rgba(60, 64, 67, 0.15);\n",
              "      fill: #174EA6;\n",
              "    }\n",
              "\n",
              "    [theme=dark] .colab-df-convert {\n",
              "      background-color: #3B4455;\n",
              "      fill: #D2E3FC;\n",
              "    }\n",
              "\n",
              "    [theme=dark] .colab-df-convert:hover {\n",
              "      background-color: #434B5C;\n",
              "      box-shadow: 0px 1px 3px 1px rgba(0, 0, 0, 0.15);\n",
              "      filter: drop-shadow(0px 1px 2px rgba(0, 0, 0, 0.3));\n",
              "      fill: #FFFFFF;\n",
              "    }\n",
              "  </style>\n",
              "\n",
              "      <script>\n",
              "        const buttonEl =\n",
              "          document.querySelector('#df-4a7f928a-f69a-4af7-af7e-4385973b3256 button.colab-df-convert');\n",
              "        buttonEl.style.display =\n",
              "          google.colab.kernel.accessAllowed ? 'block' : 'none';\n",
              "\n",
              "        async function convertToInteractive(key) {\n",
              "          const element = document.querySelector('#df-4a7f928a-f69a-4af7-af7e-4385973b3256');\n",
              "          const dataTable =\n",
              "            await google.colab.kernel.invokeFunction('convertToInteractive',\n",
              "                                                     [key], {});\n",
              "          if (!dataTable) return;\n",
              "\n",
              "          const docLinkHtml = 'Like what you see? Visit the ' +\n",
              "            '<a target=\"_blank\" href=https://colab.research.google.com/notebooks/data_table.ipynb>data table notebook</a>'\n",
              "            + ' to learn more about interactive tables.';\n",
              "          element.innerHTML = '';\n",
              "          dataTable['output_type'] = 'display_data';\n",
              "          await google.colab.output.renderOutput(dataTable, element);\n",
              "          const docLink = document.createElement('div');\n",
              "          docLink.innerHTML = docLinkHtml;\n",
              "          element.appendChild(docLink);\n",
              "        }\n",
              "      </script>\n",
              "    </div>\n",
              "  </div>\n",
              "  "
            ],
            "text/plain": [
              "           tconst titleType  \\\n",
              "0       tt0000502     movie   \n",
              "1       tt0000574     movie   \n",
              "2       tt0000591     movie   \n",
              "3       tt0000615     movie   \n",
              "4       tt0000630     movie   \n",
              "...           ...       ...   \n",
              "744421  tt9916680     movie   \n",
              "744422  tt9916692   tvMovie   \n",
              "744423  tt9916706     movie   \n",
              "744424  tt9916730     movie   \n",
              "744425  tt9916754     movie   \n",
              "\n",
              "                                             primaryTitle  \\\n",
              "0                                                Bohemios   \n",
              "1                             The Story of the Kelly Gang   \n",
              "2                                        The Prodigal Son   \n",
              "3                                      Robbery Under Arms   \n",
              "4                                                  Hamlet   \n",
              "...                                                   ...   \n",
              "744421  De la ilusión al desconcierto: cine colombiano...   \n",
              "744422                    Teatroteka: Czlowiek bez twarzy   \n",
              "744423                                    Dankyavar Danka   \n",
              "744424                                             6 Gunn   \n",
              "744425                     Chico Albuquerque - Revelações   \n",
              "\n",
              "                                            originalTitle  isAdult startYear  \\\n",
              "0                                                Bohemios        0      1905   \n",
              "1                             The Story of the Kelly Gang        0      1906   \n",
              "2                                       L'enfant prodigue        0      1907   \n",
              "3                                      Robbery Under Arms        0      1907   \n",
              "4                                                  Amleto        0      1908   \n",
              "...                                                   ...      ...       ...   \n",
              "744421  De la ilusión al desconcierto: cine colombiano...        0      2007   \n",
              "744422                    Teatroteka: Czlowiek bez twarzy        0      2015   \n",
              "744423                                    Dankyavar Danka        0      2013   \n",
              "744424                                             6 Gunn        0      2017   \n",
              "744425                     Chico Albuquerque - Revelações        0      2013   \n",
              "\n",
              "       endYear runtimeMinutes                      genres  \n",
              "0           \\N            100                          \\N  \n",
              "1           \\N             70  Action,Adventure,Biography  \n",
              "2           \\N             90                       Drama  \n",
              "3           \\N             \\N                       Drama  \n",
              "4           \\N             \\N                       Drama  \n",
              "...        ...            ...                         ...  \n",
              "744421      \\N            100                 Documentary  \n",
              "744422      \\N             66                       Drama  \n",
              "744423      \\N             \\N                      Comedy  \n",
              "744424      \\N            116                          \\N  \n",
              "744425      \\N             49                 Documentary  \n",
              "\n",
              "[744426 rows x 9 columns]"
            ]
          },
          "execution_count": 41,
          "metadata": {},
          "output_type": "execute_result"
        }
      ],
      "source": [
        "df"
      ]
    },
    {
      "cell_type": "code",
      "execution_count": null,
      "metadata": {
        "id": "pM3DA9Ii7KJ3"
      },
      "outputs": [],
      "source": [
        "df[\"startYear\"] = df.startYear.replace({'\\\\N':'unavailable'})\n",
        "df[\"isAdult\"] = df.isAdult.replace({'\\\\N':'unavailable'})\n",
        "df[\"startYear\"] = df.startYear.replace({'\\\\N':'unavailable'})\n",
        "df[\"endYear\"] = df.endYear.replace({'\\\\N':'unavailable'})\n",
        "df[\"runtimeMinutes\"] = df.runtimeMinutes.replace({'\\\\N':'unavailable'})\n",
        "df[\"genres\"] = df.genres.replace({'\\\\N':'unavailable'})"
      ]
    },
    {
      "cell_type": "code",
      "execution_count": null,
      "metadata": {
        "colab": {
          "base_uri": "https://localhost:8080/",
          "height": 49
        },
        "id": "c0XBSTXD6i37",
        "outputId": "67483f29-a44f-44e2-8e16-e9c006c59733"
      },
      "outputs": [
        {
          "data": {
            "text/html": [
              "\n",
              "  <div id=\"df-7cb6f682-34b9-432c-967a-a72388395290\">\n",
              "    <div class=\"colab-df-container\">\n",
              "      <div>\n",
              "<style scoped>\n",
              "    .dataframe tbody tr th:only-of-type {\n",
              "        vertical-align: middle;\n",
              "    }\n",
              "\n",
              "    .dataframe tbody tr th {\n",
              "        vertical-align: top;\n",
              "    }\n",
              "\n",
              "    .dataframe thead th {\n",
              "        text-align: right;\n",
              "    }\n",
              "</style>\n",
              "<table border=\"1\" class=\"dataframe\">\n",
              "  <thead>\n",
              "    <tr style=\"text-align: right;\">\n",
              "      <th></th>\n",
              "      <th>tconst</th>\n",
              "      <th>titleType</th>\n",
              "      <th>primaryTitle</th>\n",
              "      <th>originalTitle</th>\n",
              "      <th>isAdult</th>\n",
              "      <th>startYear</th>\n",
              "      <th>endYear</th>\n",
              "      <th>runtimeMinutes</th>\n",
              "      <th>genres</th>\n",
              "    </tr>\n",
              "  </thead>\n",
              "  <tbody>\n",
              "  </tbody>\n",
              "</table>\n",
              "</div>\n",
              "      <button class=\"colab-df-convert\" onclick=\"convertToInteractive('df-7cb6f682-34b9-432c-967a-a72388395290')\"\n",
              "              title=\"Convert this dataframe to an interactive table.\"\n",
              "              style=\"display:none;\">\n",
              "        \n",
              "  <svg xmlns=\"http://www.w3.org/2000/svg\" height=\"24px\"viewBox=\"0 0 24 24\"\n",
              "       width=\"24px\">\n",
              "    <path d=\"M0 0h24v24H0V0z\" fill=\"none\"/>\n",
              "    <path d=\"M18.56 5.44l.94 2.06.94-2.06 2.06-.94-2.06-.94-.94-2.06-.94 2.06-2.06.94zm-11 1L8.5 8.5l.94-2.06 2.06-.94-2.06-.94L8.5 2.5l-.94 2.06-2.06.94zm10 10l.94 2.06.94-2.06 2.06-.94-2.06-.94-.94-2.06-.94 2.06-2.06.94z\"/><path d=\"M17.41 7.96l-1.37-1.37c-.4-.4-.92-.59-1.43-.59-.52 0-1.04.2-1.43.59L10.3 9.45l-7.72 7.72c-.78.78-.78 2.05 0 2.83L4 21.41c.39.39.9.59 1.41.59.51 0 1.02-.2 1.41-.59l7.78-7.78 2.81-2.81c.8-.78.8-2.07 0-2.86zM5.41 20L4 18.59l7.72-7.72 1.47 1.35L5.41 20z\"/>\n",
              "  </svg>\n",
              "      </button>\n",
              "      \n",
              "  <style>\n",
              "    .colab-df-container {\n",
              "      display:flex;\n",
              "      flex-wrap:wrap;\n",
              "      gap: 12px;\n",
              "    }\n",
              "\n",
              "    .colab-df-convert {\n",
              "      background-color: #E8F0FE;\n",
              "      border: none;\n",
              "      border-radius: 50%;\n",
              "      cursor: pointer;\n",
              "      display: none;\n",
              "      fill: #1967D2;\n",
              "      height: 32px;\n",
              "      padding: 0 0 0 0;\n",
              "      width: 32px;\n",
              "    }\n",
              "\n",
              "    .colab-df-convert:hover {\n",
              "      background-color: #E2EBFA;\n",
              "      box-shadow: 0px 1px 2px rgba(60, 64, 67, 0.3), 0px 1px 3px 1px rgba(60, 64, 67, 0.15);\n",
              "      fill: #174EA6;\n",
              "    }\n",
              "\n",
              "    [theme=dark] .colab-df-convert {\n",
              "      background-color: #3B4455;\n",
              "      fill: #D2E3FC;\n",
              "    }\n",
              "\n",
              "    [theme=dark] .colab-df-convert:hover {\n",
              "      background-color: #434B5C;\n",
              "      box-shadow: 0px 1px 3px 1px rgba(0, 0, 0, 0.15);\n",
              "      filter: drop-shadow(0px 1px 2px rgba(0, 0, 0, 0.3));\n",
              "      fill: #FFFFFF;\n",
              "    }\n",
              "  </style>\n",
              "\n",
              "      <script>\n",
              "        const buttonEl =\n",
              "          document.querySelector('#df-7cb6f682-34b9-432c-967a-a72388395290 button.colab-df-convert');\n",
              "        buttonEl.style.display =\n",
              "          google.colab.kernel.accessAllowed ? 'block' : 'none';\n",
              "\n",
              "        async function convertToInteractive(key) {\n",
              "          const element = document.querySelector('#df-7cb6f682-34b9-432c-967a-a72388395290');\n",
              "          const dataTable =\n",
              "            await google.colab.kernel.invokeFunction('convertToInteractive',\n",
              "                                                     [key], {});\n",
              "          if (!dataTable) return;\n",
              "\n",
              "          const docLinkHtml = 'Like what you see? Visit the ' +\n",
              "            '<a target=\"_blank\" href=https://colab.research.google.com/notebooks/data_table.ipynb>data table notebook</a>'\n",
              "            + ' to learn more about interactive tables.';\n",
              "          element.innerHTML = '';\n",
              "          dataTable['output_type'] = 'display_data';\n",
              "          await google.colab.output.renderOutput(dataTable, element);\n",
              "          const docLink = document.createElement('div');\n",
              "          docLink.innerHTML = docLinkHtml;\n",
              "          element.appendChild(docLink);\n",
              "        }\n",
              "      </script>\n",
              "    </div>\n",
              "  </div>\n",
              "  "
            ],
            "text/plain": [
              "Empty DataFrame\n",
              "Columns: [tconst, titleType, primaryTitle, originalTitle, isAdult, startYear, endYear, runtimeMinutes, genres]\n",
              "Index: []"
            ]
          },
          "execution_count": 28,
          "metadata": {},
          "output_type": "execute_result"
        }
      ],
      "source": [
        "df[df.primaryTitle=='\\\\N']"
      ]
    },
    {
      "cell_type": "code",
      "execution_count": null,
      "metadata": {
        "id": "njF8ul4-Gl7s"
      },
      "outputs": [],
      "source": [
        "import warnings \n",
        "import pandas as pd\n",
        "warnings.filterwarnings(\"ignore\")"
      ]
    },
    {
      "cell_type": "code",
      "execution_count": null,
      "metadata": {
        "colab": {
          "base_uri": "https://localhost:8080/",
          "height": 424
        },
        "id": "KNgQ5M4hFgSp",
        "outputId": "87c96af6-2fcc-48aa-d1b9-cd080154e669"
      },
      "outputs": [
        {
          "data": {
            "text/html": [
              "\n",
              "  <div id=\"df-3d0de572-281f-4813-89cf-b92b04ed873b\">\n",
              "    <div class=\"colab-df-container\">\n",
              "      <div>\n",
              "<style scoped>\n",
              "    .dataframe tbody tr th:only-of-type {\n",
              "        vertical-align: middle;\n",
              "    }\n",
              "\n",
              "    .dataframe tbody tr th {\n",
              "        vertical-align: top;\n",
              "    }\n",
              "\n",
              "    .dataframe thead th {\n",
              "        text-align: right;\n",
              "    }\n",
              "</style>\n",
              "<table border=\"1\" class=\"dataframe\">\n",
              "  <thead>\n",
              "    <tr style=\"text-align: right;\">\n",
              "      <th></th>\n",
              "      <th>nconst</th>\n",
              "      <th>primaryName</th>\n",
              "      <th>birthYear</th>\n",
              "      <th>deathYear</th>\n",
              "      <th>primaryProfession</th>\n",
              "      <th>knownForTitles</th>\n",
              "    </tr>\n",
              "  </thead>\n",
              "  <tbody>\n",
              "    <tr>\n",
              "      <th>0</th>\n",
              "      <td>nm0000001</td>\n",
              "      <td>Fred Astaire</td>\n",
              "      <td>1899</td>\n",
              "      <td>1987</td>\n",
              "      <td>soundtrack,actor,miscellaneous</td>\n",
              "      <td>tt0031983,tt0050419,tt0053137,tt0072308</td>\n",
              "    </tr>\n",
              "    <tr>\n",
              "      <th>1</th>\n",
              "      <td>nm0000002</td>\n",
              "      <td>Lauren Bacall</td>\n",
              "      <td>1924</td>\n",
              "      <td>2014</td>\n",
              "      <td>actress,soundtrack</td>\n",
              "      <td>tt0037382,tt0071877,tt0038355,tt0117057</td>\n",
              "    </tr>\n",
              "    <tr>\n",
              "      <th>2</th>\n",
              "      <td>nm0000003</td>\n",
              "      <td>Brigitte Bardot</td>\n",
              "      <td>1934</td>\n",
              "      <td>\\N</td>\n",
              "      <td>actress,soundtrack,music_department</td>\n",
              "      <td>tt0057345,tt0049189,tt0056404,tt0054452</td>\n",
              "    </tr>\n",
              "    <tr>\n",
              "      <th>3</th>\n",
              "      <td>nm0000004</td>\n",
              "      <td>John Belushi</td>\n",
              "      <td>1949</td>\n",
              "      <td>1982</td>\n",
              "      <td>actor,soundtrack,writer</td>\n",
              "      <td>tt0080455,tt0072562,tt0077975,tt0078723</td>\n",
              "    </tr>\n",
              "    <tr>\n",
              "      <th>4</th>\n",
              "      <td>nm0000005</td>\n",
              "      <td>Ingmar Bergman</td>\n",
              "      <td>1918</td>\n",
              "      <td>2007</td>\n",
              "      <td>writer,director,actor</td>\n",
              "      <td>tt0069467,tt0060827,tt0083922,tt0050986</td>\n",
              "    </tr>\n",
              "    <tr>\n",
              "      <th>...</th>\n",
              "      <td>...</td>\n",
              "      <td>...</td>\n",
              "      <td>...</td>\n",
              "      <td>...</td>\n",
              "      <td>...</td>\n",
              "      <td>...</td>\n",
              "    </tr>\n",
              "    <tr>\n",
              "      <th>11586841</th>\n",
              "      <td>nm9993714</td>\n",
              "      <td>Romeo del Rosario</td>\n",
              "      <td>\\N</td>\n",
              "      <td>\\N</td>\n",
              "      <td>animation_department,art_department</td>\n",
              "      <td>tt11657662,tt14069590,tt2455546</td>\n",
              "    </tr>\n",
              "    <tr>\n",
              "      <th>11586842</th>\n",
              "      <td>nm9993716</td>\n",
              "      <td>Essias Loberg</td>\n",
              "      <td>\\N</td>\n",
              "      <td>\\N</td>\n",
              "      <td>NaN</td>\n",
              "      <td>\\N</td>\n",
              "    </tr>\n",
              "    <tr>\n",
              "      <th>11586843</th>\n",
              "      <td>nm9993717</td>\n",
              "      <td>Harikrishnan Rajan</td>\n",
              "      <td>\\N</td>\n",
              "      <td>\\N</td>\n",
              "      <td>cinematographer</td>\n",
              "      <td>tt8736744</td>\n",
              "    </tr>\n",
              "    <tr>\n",
              "      <th>11586844</th>\n",
              "      <td>nm9993718</td>\n",
              "      <td>Aayush Nair</td>\n",
              "      <td>\\N</td>\n",
              "      <td>\\N</td>\n",
              "      <td>cinematographer</td>\n",
              "      <td>\\N</td>\n",
              "    </tr>\n",
              "    <tr>\n",
              "      <th>11586845</th>\n",
              "      <td>nm9993719</td>\n",
              "      <td>Andre Hill</td>\n",
              "      <td>\\N</td>\n",
              "      <td>\\N</td>\n",
              "      <td>NaN</td>\n",
              "      <td>\\N</td>\n",
              "    </tr>\n",
              "  </tbody>\n",
              "</table>\n",
              "<p>11586846 rows × 6 columns</p>\n",
              "</div>\n",
              "      <button class=\"colab-df-convert\" onclick=\"convertToInteractive('df-3d0de572-281f-4813-89cf-b92b04ed873b')\"\n",
              "              title=\"Convert this dataframe to an interactive table.\"\n",
              "              style=\"display:none;\">\n",
              "        \n",
              "  <svg xmlns=\"http://www.w3.org/2000/svg\" height=\"24px\"viewBox=\"0 0 24 24\"\n",
              "       width=\"24px\">\n",
              "    <path d=\"M0 0h24v24H0V0z\" fill=\"none\"/>\n",
              "    <path d=\"M18.56 5.44l.94 2.06.94-2.06 2.06-.94-2.06-.94-.94-2.06-.94 2.06-2.06.94zm-11 1L8.5 8.5l.94-2.06 2.06-.94-2.06-.94L8.5 2.5l-.94 2.06-2.06.94zm10 10l.94 2.06.94-2.06 2.06-.94-2.06-.94-.94-2.06-.94 2.06-2.06.94z\"/><path d=\"M17.41 7.96l-1.37-1.37c-.4-.4-.92-.59-1.43-.59-.52 0-1.04.2-1.43.59L10.3 9.45l-7.72 7.72c-.78.78-.78 2.05 0 2.83L4 21.41c.39.39.9.59 1.41.59.51 0 1.02-.2 1.41-.59l7.78-7.78 2.81-2.81c.8-.78.8-2.07 0-2.86zM5.41 20L4 18.59l7.72-7.72 1.47 1.35L5.41 20z\"/>\n",
              "  </svg>\n",
              "      </button>\n",
              "      \n",
              "  <style>\n",
              "    .colab-df-container {\n",
              "      display:flex;\n",
              "      flex-wrap:wrap;\n",
              "      gap: 12px;\n",
              "    }\n",
              "\n",
              "    .colab-df-convert {\n",
              "      background-color: #E8F0FE;\n",
              "      border: none;\n",
              "      border-radius: 50%;\n",
              "      cursor: pointer;\n",
              "      display: none;\n",
              "      fill: #1967D2;\n",
              "      height: 32px;\n",
              "      padding: 0 0 0 0;\n",
              "      width: 32px;\n",
              "    }\n",
              "\n",
              "    .colab-df-convert:hover {\n",
              "      background-color: #E2EBFA;\n",
              "      box-shadow: 0px 1px 2px rgba(60, 64, 67, 0.3), 0px 1px 3px 1px rgba(60, 64, 67, 0.15);\n",
              "      fill: #174EA6;\n",
              "    }\n",
              "\n",
              "    [theme=dark] .colab-df-convert {\n",
              "      background-color: #3B4455;\n",
              "      fill: #D2E3FC;\n",
              "    }\n",
              "\n",
              "    [theme=dark] .colab-df-convert:hover {\n",
              "      background-color: #434B5C;\n",
              "      box-shadow: 0px 1px 3px 1px rgba(0, 0, 0, 0.15);\n",
              "      filter: drop-shadow(0px 1px 2px rgba(0, 0, 0, 0.3));\n",
              "      fill: #FFFFFF;\n",
              "    }\n",
              "  </style>\n",
              "\n",
              "      <script>\n",
              "        const buttonEl =\n",
              "          document.querySelector('#df-3d0de572-281f-4813-89cf-b92b04ed873b button.colab-df-convert');\n",
              "        buttonEl.style.display =\n",
              "          google.colab.kernel.accessAllowed ? 'block' : 'none';\n",
              "\n",
              "        async function convertToInteractive(key) {\n",
              "          const element = document.querySelector('#df-3d0de572-281f-4813-89cf-b92b04ed873b');\n",
              "          const dataTable =\n",
              "            await google.colab.kernel.invokeFunction('convertToInteractive',\n",
              "                                                     [key], {});\n",
              "          if (!dataTable) return;\n",
              "\n",
              "          const docLinkHtml = 'Like what you see? Visit the ' +\n",
              "            '<a target=\"_blank\" href=https://colab.research.google.com/notebooks/data_table.ipynb>data table notebook</a>'\n",
              "            + ' to learn more about interactive tables.';\n",
              "          element.innerHTML = '';\n",
              "          dataTable['output_type'] = 'display_data';\n",
              "          await google.colab.output.renderOutput(dataTable, element);\n",
              "          const docLink = document.createElement('div');\n",
              "          docLink.innerHTML = docLinkHtml;\n",
              "          element.appendChild(docLink);\n",
              "        }\n",
              "      </script>\n",
              "    </div>\n",
              "  </div>\n",
              "  "
            ],
            "text/plain": [
              "             nconst         primaryName birthYear deathYear  \\\n",
              "0         nm0000001        Fred Astaire      1899      1987   \n",
              "1         nm0000002       Lauren Bacall      1924      2014   \n",
              "2         nm0000003     Brigitte Bardot      1934        \\N   \n",
              "3         nm0000004        John Belushi      1949      1982   \n",
              "4         nm0000005      Ingmar Bergman      1918      2007   \n",
              "...             ...                 ...       ...       ...   \n",
              "11586841  nm9993714   Romeo del Rosario        \\N        \\N   \n",
              "11586842  nm9993716       Essias Loberg        \\N        \\N   \n",
              "11586843  nm9993717  Harikrishnan Rajan        \\N        \\N   \n",
              "11586844  nm9993718         Aayush Nair        \\N        \\N   \n",
              "11586845  nm9993719          Andre Hill        \\N        \\N   \n",
              "\n",
              "                            primaryProfession  \\\n",
              "0              soundtrack,actor,miscellaneous   \n",
              "1                          actress,soundtrack   \n",
              "2         actress,soundtrack,music_department   \n",
              "3                     actor,soundtrack,writer   \n",
              "4                       writer,director,actor   \n",
              "...                                       ...   \n",
              "11586841  animation_department,art_department   \n",
              "11586842                                  NaN   \n",
              "11586843                      cinematographer   \n",
              "11586844                      cinematographer   \n",
              "11586845                                  NaN   \n",
              "\n",
              "                                   knownForTitles  \n",
              "0         tt0031983,tt0050419,tt0053137,tt0072308  \n",
              "1         tt0037382,tt0071877,tt0038355,tt0117057  \n",
              "2         tt0057345,tt0049189,tt0056404,tt0054452  \n",
              "3         tt0080455,tt0072562,tt0077975,tt0078723  \n",
              "4         tt0069467,tt0060827,tt0083922,tt0050986  \n",
              "...                                           ...  \n",
              "11586841          tt11657662,tt14069590,tt2455546  \n",
              "11586842                                       \\N  \n",
              "11586843                                tt8736744  \n",
              "11586844                                       \\N  \n",
              "11586845                                       \\N  \n",
              "\n",
              "[11586846 rows x 6 columns]"
            ]
          },
          "execution_count": 4,
          "metadata": {},
          "output_type": "execute_result"
        }
      ],
      "source": [
        "pd.read_csv(\"https://datasets.imdbws.com/name.basics.tsv.gz\", sep='\\t', error_bad_lines=False)"
      ]
    },
    {
      "cell_type": "code",
      "execution_count": null,
      "metadata": {
        "colab": {
          "base_uri": "https://localhost:8080/",
          "height": 424
        },
        "id": "Z-05toVwLmRU",
        "outputId": "47fce02d-eb25-4757-e905-824bd1ffd78b"
      },
      "outputs": [
        {
          "data": {
            "text/html": [
              "\n",
              "  <div id=\"df-4a66a442-bcb2-42e6-9106-f91fa45a192c\">\n",
              "    <div class=\"colab-df-container\">\n",
              "      <div>\n",
              "<style scoped>\n",
              "    .dataframe tbody tr th:only-of-type {\n",
              "        vertical-align: middle;\n",
              "    }\n",
              "\n",
              "    .dataframe tbody tr th {\n",
              "        vertical-align: top;\n",
              "    }\n",
              "\n",
              "    .dataframe thead th {\n",
              "        text-align: right;\n",
              "    }\n",
              "</style>\n",
              "<table border=\"1\" class=\"dataframe\">\n",
              "  <thead>\n",
              "    <tr style=\"text-align: right;\">\n",
              "      <th></th>\n",
              "      <th>nconst</th>\n",
              "      <th>primaryName</th>\n",
              "      <th>birthYear</th>\n",
              "      <th>deathYear</th>\n",
              "      <th>primaryProfession</th>\n",
              "      <th>knownForTitles</th>\n",
              "    </tr>\n",
              "  </thead>\n",
              "  <tbody>\n",
              "    <tr>\n",
              "      <th>0</th>\n",
              "      <td>nm0000001</td>\n",
              "      <td>Fred Astaire</td>\n",
              "      <td>1899</td>\n",
              "      <td>1987</td>\n",
              "      <td>soundtrack,actor,miscellaneous</td>\n",
              "      <td>tt0031983,tt0050419,tt0053137,tt0072308</td>\n",
              "    </tr>\n",
              "    <tr>\n",
              "      <th>1</th>\n",
              "      <td>nm0000002</td>\n",
              "      <td>Lauren Bacall</td>\n",
              "      <td>1924</td>\n",
              "      <td>2014</td>\n",
              "      <td>actress,soundtrack</td>\n",
              "      <td>tt0037382,tt0071877,tt0038355,tt0117057</td>\n",
              "    </tr>\n",
              "    <tr>\n",
              "      <th>2</th>\n",
              "      <td>nm0000003</td>\n",
              "      <td>Brigitte Bardot</td>\n",
              "      <td>1934</td>\n",
              "      <td>\\N</td>\n",
              "      <td>actress,soundtrack,music_department</td>\n",
              "      <td>tt0057345,tt0049189,tt0056404,tt0054452</td>\n",
              "    </tr>\n",
              "    <tr>\n",
              "      <th>3</th>\n",
              "      <td>nm0000004</td>\n",
              "      <td>John Belushi</td>\n",
              "      <td>1949</td>\n",
              "      <td>1982</td>\n",
              "      <td>actor,soundtrack,writer</td>\n",
              "      <td>tt0080455,tt0072562,tt0077975,tt0078723</td>\n",
              "    </tr>\n",
              "    <tr>\n",
              "      <th>4</th>\n",
              "      <td>nm0000005</td>\n",
              "      <td>Ingmar Bergman</td>\n",
              "      <td>1918</td>\n",
              "      <td>2007</td>\n",
              "      <td>writer,director,actor</td>\n",
              "      <td>tt0069467,tt0060827,tt0083922,tt0050986</td>\n",
              "    </tr>\n",
              "    <tr>\n",
              "      <th>...</th>\n",
              "      <td>...</td>\n",
              "      <td>...</td>\n",
              "      <td>...</td>\n",
              "      <td>...</td>\n",
              "      <td>...</td>\n",
              "      <td>...</td>\n",
              "    </tr>\n",
              "    <tr>\n",
              "      <th>11586841</th>\n",
              "      <td>nm9993714</td>\n",
              "      <td>Romeo del Rosario</td>\n",
              "      <td>\\N</td>\n",
              "      <td>\\N</td>\n",
              "      <td>animation_department,art_department</td>\n",
              "      <td>tt11657662,tt14069590,tt2455546</td>\n",
              "    </tr>\n",
              "    <tr>\n",
              "      <th>11586842</th>\n",
              "      <td>nm9993716</td>\n",
              "      <td>Essias Loberg</td>\n",
              "      <td>\\N</td>\n",
              "      <td>\\N</td>\n",
              "      <td>NaN</td>\n",
              "      <td>\\N</td>\n",
              "    </tr>\n",
              "    <tr>\n",
              "      <th>11586843</th>\n",
              "      <td>nm9993717</td>\n",
              "      <td>Harikrishnan Rajan</td>\n",
              "      <td>\\N</td>\n",
              "      <td>\\N</td>\n",
              "      <td>cinematographer</td>\n",
              "      <td>tt8736744</td>\n",
              "    </tr>\n",
              "    <tr>\n",
              "      <th>11586844</th>\n",
              "      <td>nm9993718</td>\n",
              "      <td>Aayush Nair</td>\n",
              "      <td>\\N</td>\n",
              "      <td>\\N</td>\n",
              "      <td>cinematographer</td>\n",
              "      <td>\\N</td>\n",
              "    </tr>\n",
              "    <tr>\n",
              "      <th>11586845</th>\n",
              "      <td>nm9993719</td>\n",
              "      <td>Andre Hill</td>\n",
              "      <td>\\N</td>\n",
              "      <td>\\N</td>\n",
              "      <td>NaN</td>\n",
              "      <td>\\N</td>\n",
              "    </tr>\n",
              "  </tbody>\n",
              "</table>\n",
              "<p>11586846 rows × 6 columns</p>\n",
              "</div>\n",
              "      <button class=\"colab-df-convert\" onclick=\"convertToInteractive('df-4a66a442-bcb2-42e6-9106-f91fa45a192c')\"\n",
              "              title=\"Convert this dataframe to an interactive table.\"\n",
              "              style=\"display:none;\">\n",
              "        \n",
              "  <svg xmlns=\"http://www.w3.org/2000/svg\" height=\"24px\"viewBox=\"0 0 24 24\"\n",
              "       width=\"24px\">\n",
              "    <path d=\"M0 0h24v24H0V0z\" fill=\"none\"/>\n",
              "    <path d=\"M18.56 5.44l.94 2.06.94-2.06 2.06-.94-2.06-.94-.94-2.06-.94 2.06-2.06.94zm-11 1L8.5 8.5l.94-2.06 2.06-.94-2.06-.94L8.5 2.5l-.94 2.06-2.06.94zm10 10l.94 2.06.94-2.06 2.06-.94-2.06-.94-.94-2.06-.94 2.06-2.06.94z\"/><path d=\"M17.41 7.96l-1.37-1.37c-.4-.4-.92-.59-1.43-.59-.52 0-1.04.2-1.43.59L10.3 9.45l-7.72 7.72c-.78.78-.78 2.05 0 2.83L4 21.41c.39.39.9.59 1.41.59.51 0 1.02-.2 1.41-.59l7.78-7.78 2.81-2.81c.8-.78.8-2.07 0-2.86zM5.41 20L4 18.59l7.72-7.72 1.47 1.35L5.41 20z\"/>\n",
              "  </svg>\n",
              "      </button>\n",
              "      \n",
              "  <style>\n",
              "    .colab-df-container {\n",
              "      display:flex;\n",
              "      flex-wrap:wrap;\n",
              "      gap: 12px;\n",
              "    }\n",
              "\n",
              "    .colab-df-convert {\n",
              "      background-color: #E8F0FE;\n",
              "      border: none;\n",
              "      border-radius: 50%;\n",
              "      cursor: pointer;\n",
              "      display: none;\n",
              "      fill: #1967D2;\n",
              "      height: 32px;\n",
              "      padding: 0 0 0 0;\n",
              "      width: 32px;\n",
              "    }\n",
              "\n",
              "    .colab-df-convert:hover {\n",
              "      background-color: #E2EBFA;\n",
              "      box-shadow: 0px 1px 2px rgba(60, 64, 67, 0.3), 0px 1px 3px 1px rgba(60, 64, 67, 0.15);\n",
              "      fill: #174EA6;\n",
              "    }\n",
              "\n",
              "    [theme=dark] .colab-df-convert {\n",
              "      background-color: #3B4455;\n",
              "      fill: #D2E3FC;\n",
              "    }\n",
              "\n",
              "    [theme=dark] .colab-df-convert:hover {\n",
              "      background-color: #434B5C;\n",
              "      box-shadow: 0px 1px 3px 1px rgba(0, 0, 0, 0.15);\n",
              "      filter: drop-shadow(0px 1px 2px rgba(0, 0, 0, 0.3));\n",
              "      fill: #FFFFFF;\n",
              "    }\n",
              "  </style>\n",
              "\n",
              "      <script>\n",
              "        const buttonEl =\n",
              "          document.querySelector('#df-4a66a442-bcb2-42e6-9106-f91fa45a192c button.colab-df-convert');\n",
              "        buttonEl.style.display =\n",
              "          google.colab.kernel.accessAllowed ? 'block' : 'none';\n",
              "\n",
              "        async function convertToInteractive(key) {\n",
              "          const element = document.querySelector('#df-4a66a442-bcb2-42e6-9106-f91fa45a192c');\n",
              "          const dataTable =\n",
              "            await google.colab.kernel.invokeFunction('convertToInteractive',\n",
              "                                                     [key], {});\n",
              "          if (!dataTable) return;\n",
              "\n",
              "          const docLinkHtml = 'Like what you see? Visit the ' +\n",
              "            '<a target=\"_blank\" href=https://colab.research.google.com/notebooks/data_table.ipynb>data table notebook</a>'\n",
              "            + ' to learn more about interactive tables.';\n",
              "          element.innerHTML = '';\n",
              "          dataTable['output_type'] = 'display_data';\n",
              "          await google.colab.output.renderOutput(dataTable, element);\n",
              "          const docLink = document.createElement('div');\n",
              "          docLink.innerHTML = docLinkHtml;\n",
              "          element.appendChild(docLink);\n",
              "        }\n",
              "      </script>\n",
              "    </div>\n",
              "  </div>\n",
              "  "
            ],
            "text/plain": [
              "             nconst         primaryName birthYear deathYear  \\\n",
              "0         nm0000001        Fred Astaire      1899      1987   \n",
              "1         nm0000002       Lauren Bacall      1924      2014   \n",
              "2         nm0000003     Brigitte Bardot      1934        \\N   \n",
              "3         nm0000004        John Belushi      1949      1982   \n",
              "4         nm0000005      Ingmar Bergman      1918      2007   \n",
              "...             ...                 ...       ...       ...   \n",
              "11586841  nm9993714   Romeo del Rosario        \\N        \\N   \n",
              "11586842  nm9993716       Essias Loberg        \\N        \\N   \n",
              "11586843  nm9993717  Harikrishnan Rajan        \\N        \\N   \n",
              "11586844  nm9993718         Aayush Nair        \\N        \\N   \n",
              "11586845  nm9993719          Andre Hill        \\N        \\N   \n",
              "\n",
              "                            primaryProfession  \\\n",
              "0              soundtrack,actor,miscellaneous   \n",
              "1                          actress,soundtrack   \n",
              "2         actress,soundtrack,music_department   \n",
              "3                     actor,soundtrack,writer   \n",
              "4                       writer,director,actor   \n",
              "...                                       ...   \n",
              "11586841  animation_department,art_department   \n",
              "11586842                                  NaN   \n",
              "11586843                      cinematographer   \n",
              "11586844                      cinematographer   \n",
              "11586845                                  NaN   \n",
              "\n",
              "                                   knownForTitles  \n",
              "0         tt0031983,tt0050419,tt0053137,tt0072308  \n",
              "1         tt0037382,tt0071877,tt0038355,tt0117057  \n",
              "2         tt0057345,tt0049189,tt0056404,tt0054452  \n",
              "3         tt0080455,tt0072562,tt0077975,tt0078723  \n",
              "4         tt0069467,tt0060827,tt0083922,tt0050986  \n",
              "...                                           ...  \n",
              "11586841          tt11657662,tt14069590,tt2455546  \n",
              "11586842                                       \\N  \n",
              "11586843                                tt8736744  \n",
              "11586844                                       \\N  \n",
              "11586845                                       \\N  \n",
              "\n",
              "[11586846 rows x 6 columns]"
            ]
          },
          "execution_count": 9,
          "metadata": {},
          "output_type": "execute_result"
        }
      ],
      "source": [
        "pd.read_csv(\"https://datasets.imdbws.com/name.basics.tsv.gz\", sep='\\t', error_bad_lines=False)"
      ]
    },
    {
      "cell_type": "code",
      "execution_count": null,
      "metadata": {
        "colab": {
          "base_uri": "https://localhost:8080/",
          "height": 424
        },
        "id": "XBLfbCfuFpmT",
        "outputId": "e90bcefe-08a2-4b63-992a-ff55d4b41ef3"
      },
      "outputs": [
        {
          "data": {
            "text/html": [
              "\n",
              "  <div id=\"df-9533674b-56c5-4cb0-a2fc-d180011c76b7\">\n",
              "    <div class=\"colab-df-container\">\n",
              "      <div>\n",
              "<style scoped>\n",
              "    .dataframe tbody tr th:only-of-type {\n",
              "        vertical-align: middle;\n",
              "    }\n",
              "\n",
              "    .dataframe tbody tr th {\n",
              "        vertical-align: top;\n",
              "    }\n",
              "\n",
              "    .dataframe thead th {\n",
              "        text-align: right;\n",
              "    }\n",
              "</style>\n",
              "<table border=\"1\" class=\"dataframe\">\n",
              "  <thead>\n",
              "    <tr style=\"text-align: right;\">\n",
              "      <th></th>\n",
              "      <th>titleId</th>\n",
              "      <th>ordering</th>\n",
              "      <th>title</th>\n",
              "      <th>region</th>\n",
              "      <th>language</th>\n",
              "      <th>types</th>\n",
              "      <th>attributes</th>\n",
              "      <th>isOriginalTitle</th>\n",
              "    </tr>\n",
              "  </thead>\n",
              "  <tbody>\n",
              "    <tr>\n",
              "      <th>0</th>\n",
              "      <td>tt0000001</td>\n",
              "      <td>1</td>\n",
              "      <td>Карменсіта</td>\n",
              "      <td>UA</td>\n",
              "      <td>\\N</td>\n",
              "      <td>imdbDisplay</td>\n",
              "      <td>\\N</td>\n",
              "      <td>0</td>\n",
              "    </tr>\n",
              "    <tr>\n",
              "      <th>1</th>\n",
              "      <td>tt0000001</td>\n",
              "      <td>2</td>\n",
              "      <td>Carmencita</td>\n",
              "      <td>DE</td>\n",
              "      <td>\\N</td>\n",
              "      <td>\\N</td>\n",
              "      <td>literal title</td>\n",
              "      <td>0</td>\n",
              "    </tr>\n",
              "    <tr>\n",
              "      <th>2</th>\n",
              "      <td>tt0000001</td>\n",
              "      <td>3</td>\n",
              "      <td>Carmencita - spanyol tánc</td>\n",
              "      <td>HU</td>\n",
              "      <td>\\N</td>\n",
              "      <td>imdbDisplay</td>\n",
              "      <td>\\N</td>\n",
              "      <td>0</td>\n",
              "    </tr>\n",
              "    <tr>\n",
              "      <th>3</th>\n",
              "      <td>tt0000001</td>\n",
              "      <td>4</td>\n",
              "      <td>Καρμενσίτα</td>\n",
              "      <td>GR</td>\n",
              "      <td>\\N</td>\n",
              "      <td>imdbDisplay</td>\n",
              "      <td>\\N</td>\n",
              "      <td>0</td>\n",
              "    </tr>\n",
              "    <tr>\n",
              "      <th>4</th>\n",
              "      <td>tt0000001</td>\n",
              "      <td>5</td>\n",
              "      <td>Карменсита</td>\n",
              "      <td>RU</td>\n",
              "      <td>\\N</td>\n",
              "      <td>imdbDisplay</td>\n",
              "      <td>\\N</td>\n",
              "      <td>0</td>\n",
              "    </tr>\n",
              "    <tr>\n",
              "      <th>...</th>\n",
              "      <td>...</td>\n",
              "      <td>...</td>\n",
              "      <td>...</td>\n",
              "      <td>...</td>\n",
              "      <td>...</td>\n",
              "      <td>...</td>\n",
              "      <td>...</td>\n",
              "      <td>...</td>\n",
              "    </tr>\n",
              "    <tr>\n",
              "      <th>31803566</th>\n",
              "      <td>tt9916852</td>\n",
              "      <td>5</td>\n",
              "      <td>Episódio #3.20</td>\n",
              "      <td>PT</td>\n",
              "      <td>pt</td>\n",
              "      <td>\\N</td>\n",
              "      <td>\\N</td>\n",
              "      <td>0</td>\n",
              "    </tr>\n",
              "    <tr>\n",
              "      <th>31803567</th>\n",
              "      <td>tt9916852</td>\n",
              "      <td>6</td>\n",
              "      <td>Episodio #3.20</td>\n",
              "      <td>IT</td>\n",
              "      <td>it</td>\n",
              "      <td>\\N</td>\n",
              "      <td>\\N</td>\n",
              "      <td>0</td>\n",
              "    </tr>\n",
              "    <tr>\n",
              "      <th>31803568</th>\n",
              "      <td>tt9916852</td>\n",
              "      <td>7</td>\n",
              "      <td>एपिसोड #3.20</td>\n",
              "      <td>IN</td>\n",
              "      <td>hi</td>\n",
              "      <td>\\N</td>\n",
              "      <td>\\N</td>\n",
              "      <td>0</td>\n",
              "    </tr>\n",
              "    <tr>\n",
              "      <th>31803569</th>\n",
              "      <td>tt9916856</td>\n",
              "      <td>1</td>\n",
              "      <td>The Wind</td>\n",
              "      <td>DE</td>\n",
              "      <td>\\N</td>\n",
              "      <td>imdbDisplay</td>\n",
              "      <td>\\N</td>\n",
              "      <td>0</td>\n",
              "    </tr>\n",
              "    <tr>\n",
              "      <th>31803570</th>\n",
              "      <td>tt9916856</td>\n",
              "      <td>2</td>\n",
              "      <td>The Wind</td>\n",
              "      <td>\\N</td>\n",
              "      <td>\\N</td>\n",
              "      <td>original</td>\n",
              "      <td>\\N</td>\n",
              "      <td>1</td>\n",
              "    </tr>\n",
              "  </tbody>\n",
              "</table>\n",
              "<p>31803571 rows × 8 columns</p>\n",
              "</div>\n",
              "      <button class=\"colab-df-convert\" onclick=\"convertToInteractive('df-9533674b-56c5-4cb0-a2fc-d180011c76b7')\"\n",
              "              title=\"Convert this dataframe to an interactive table.\"\n",
              "              style=\"display:none;\">\n",
              "        \n",
              "  <svg xmlns=\"http://www.w3.org/2000/svg\" height=\"24px\"viewBox=\"0 0 24 24\"\n",
              "       width=\"24px\">\n",
              "    <path d=\"M0 0h24v24H0V0z\" fill=\"none\"/>\n",
              "    <path d=\"M18.56 5.44l.94 2.06.94-2.06 2.06-.94-2.06-.94-.94-2.06-.94 2.06-2.06.94zm-11 1L8.5 8.5l.94-2.06 2.06-.94-2.06-.94L8.5 2.5l-.94 2.06-2.06.94zm10 10l.94 2.06.94-2.06 2.06-.94-2.06-.94-.94-2.06-.94 2.06-2.06.94z\"/><path d=\"M17.41 7.96l-1.37-1.37c-.4-.4-.92-.59-1.43-.59-.52 0-1.04.2-1.43.59L10.3 9.45l-7.72 7.72c-.78.78-.78 2.05 0 2.83L4 21.41c.39.39.9.59 1.41.59.51 0 1.02-.2 1.41-.59l7.78-7.78 2.81-2.81c.8-.78.8-2.07 0-2.86zM5.41 20L4 18.59l7.72-7.72 1.47 1.35L5.41 20z\"/>\n",
              "  </svg>\n",
              "      </button>\n",
              "      \n",
              "  <style>\n",
              "    .colab-df-container {\n",
              "      display:flex;\n",
              "      flex-wrap:wrap;\n",
              "      gap: 12px;\n",
              "    }\n",
              "\n",
              "    .colab-df-convert {\n",
              "      background-color: #E8F0FE;\n",
              "      border: none;\n",
              "      border-radius: 50%;\n",
              "      cursor: pointer;\n",
              "      display: none;\n",
              "      fill: #1967D2;\n",
              "      height: 32px;\n",
              "      padding: 0 0 0 0;\n",
              "      width: 32px;\n",
              "    }\n",
              "\n",
              "    .colab-df-convert:hover {\n",
              "      background-color: #E2EBFA;\n",
              "      box-shadow: 0px 1px 2px rgba(60, 64, 67, 0.3), 0px 1px 3px 1px rgba(60, 64, 67, 0.15);\n",
              "      fill: #174EA6;\n",
              "    }\n",
              "\n",
              "    [theme=dark] .colab-df-convert {\n",
              "      background-color: #3B4455;\n",
              "      fill: #D2E3FC;\n",
              "    }\n",
              "\n",
              "    [theme=dark] .colab-df-convert:hover {\n",
              "      background-color: #434B5C;\n",
              "      box-shadow: 0px 1px 3px 1px rgba(0, 0, 0, 0.15);\n",
              "      filter: drop-shadow(0px 1px 2px rgba(0, 0, 0, 0.3));\n",
              "      fill: #FFFFFF;\n",
              "    }\n",
              "  </style>\n",
              "\n",
              "      <script>\n",
              "        const buttonEl =\n",
              "          document.querySelector('#df-9533674b-56c5-4cb0-a2fc-d180011c76b7 button.colab-df-convert');\n",
              "        buttonEl.style.display =\n",
              "          google.colab.kernel.accessAllowed ? 'block' : 'none';\n",
              "\n",
              "        async function convertToInteractive(key) {\n",
              "          const element = document.querySelector('#df-9533674b-56c5-4cb0-a2fc-d180011c76b7');\n",
              "          const dataTable =\n",
              "            await google.colab.kernel.invokeFunction('convertToInteractive',\n",
              "                                                     [key], {});\n",
              "          if (!dataTable) return;\n",
              "\n",
              "          const docLinkHtml = 'Like what you see? Visit the ' +\n",
              "            '<a target=\"_blank\" href=https://colab.research.google.com/notebooks/data_table.ipynb>data table notebook</a>'\n",
              "            + ' to learn more about interactive tables.';\n",
              "          element.innerHTML = '';\n",
              "          dataTable['output_type'] = 'display_data';\n",
              "          await google.colab.output.renderOutput(dataTable, element);\n",
              "          const docLink = document.createElement('div');\n",
              "          docLink.innerHTML = docLinkHtml;\n",
              "          element.appendChild(docLink);\n",
              "        }\n",
              "      </script>\n",
              "    </div>\n",
              "  </div>\n",
              "  "
            ],
            "text/plain": [
              "            titleId  ordering                      title region language  \\\n",
              "0         tt0000001         1                 Карменсіта     UA       \\N   \n",
              "1         tt0000001         2                 Carmencita     DE       \\N   \n",
              "2         tt0000001         3  Carmencita - spanyol tánc     HU       \\N   \n",
              "3         tt0000001         4                 Καρμενσίτα     GR       \\N   \n",
              "4         tt0000001         5                 Карменсита     RU       \\N   \n",
              "...             ...       ...                        ...    ...      ...   \n",
              "31803566  tt9916852         5             Episódio #3.20     PT       pt   \n",
              "31803567  tt9916852         6             Episodio #3.20     IT       it   \n",
              "31803568  tt9916852         7               एपिसोड #3.20     IN       hi   \n",
              "31803569  tt9916856         1                   The Wind     DE       \\N   \n",
              "31803570  tt9916856         2                   The Wind     \\N       \\N   \n",
              "\n",
              "                types     attributes isOriginalTitle  \n",
              "0         imdbDisplay             \\N               0  \n",
              "1                  \\N  literal title               0  \n",
              "2         imdbDisplay             \\N               0  \n",
              "3         imdbDisplay             \\N               0  \n",
              "4         imdbDisplay             \\N               0  \n",
              "...               ...            ...             ...  \n",
              "31803566           \\N             \\N               0  \n",
              "31803567           \\N             \\N               0  \n",
              "31803568           \\N             \\N               0  \n",
              "31803569  imdbDisplay             \\N               0  \n",
              "31803570     original             \\N               1  \n",
              "\n",
              "[31803571 rows x 8 columns]"
            ]
          },
          "execution_count": 2,
          "metadata": {},
          "output_type": "execute_result"
        }
      ],
      "source": [
        "pd.read_csv(\"https://datasets.imdbws.com/title.akas.tsv.gz\", sep='\\t', error_bad_lines=False)"
      ]
    },
    {
      "cell_type": "code",
      "execution_count": null,
      "metadata": {
        "colab": {
          "base_uri": "https://localhost:8080/",
          "height": 424
        },
        "id": "961pfbf8Fv0S",
        "outputId": "30c711b6-b2b2-41e4-c435-de7685e6119e"
      },
      "outputs": [
        {
          "data": {
            "text/html": [
              "\n",
              "  <div id=\"df-3397e12b-a023-4b84-84b4-04966520e338\">\n",
              "    <div class=\"colab-df-container\">\n",
              "      <div>\n",
              "<style scoped>\n",
              "    .dataframe tbody tr th:only-of-type {\n",
              "        vertical-align: middle;\n",
              "    }\n",
              "\n",
              "    .dataframe tbody tr th {\n",
              "        vertical-align: top;\n",
              "    }\n",
              "\n",
              "    .dataframe thead th {\n",
              "        text-align: right;\n",
              "    }\n",
              "</style>\n",
              "<table border=\"1\" class=\"dataframe\">\n",
              "  <thead>\n",
              "    <tr style=\"text-align: right;\">\n",
              "      <th></th>\n",
              "      <th>tconst</th>\n",
              "      <th>titleType</th>\n",
              "      <th>primaryTitle</th>\n",
              "      <th>originalTitle</th>\n",
              "      <th>isAdult</th>\n",
              "      <th>startYear</th>\n",
              "      <th>endYear</th>\n",
              "      <th>runtimeMinutes</th>\n",
              "      <th>genres</th>\n",
              "    </tr>\n",
              "  </thead>\n",
              "  <tbody>\n",
              "    <tr>\n",
              "      <th>0</th>\n",
              "      <td>tt0000001</td>\n",
              "      <td>short</td>\n",
              "      <td>Carmencita</td>\n",
              "      <td>Carmencita</td>\n",
              "      <td>0</td>\n",
              "      <td>1894</td>\n",
              "      <td>\\N</td>\n",
              "      <td>1</td>\n",
              "      <td>Documentary,Short</td>\n",
              "    </tr>\n",
              "    <tr>\n",
              "      <th>1</th>\n",
              "      <td>tt0000002</td>\n",
              "      <td>short</td>\n",
              "      <td>Le clown et ses chiens</td>\n",
              "      <td>Le clown et ses chiens</td>\n",
              "      <td>0</td>\n",
              "      <td>1892</td>\n",
              "      <td>\\N</td>\n",
              "      <td>5</td>\n",
              "      <td>Animation,Short</td>\n",
              "    </tr>\n",
              "    <tr>\n",
              "      <th>2</th>\n",
              "      <td>tt0000003</td>\n",
              "      <td>short</td>\n",
              "      <td>Pauvre Pierrot</td>\n",
              "      <td>Pauvre Pierrot</td>\n",
              "      <td>0</td>\n",
              "      <td>1892</td>\n",
              "      <td>\\N</td>\n",
              "      <td>4</td>\n",
              "      <td>Animation,Comedy,Romance</td>\n",
              "    </tr>\n",
              "    <tr>\n",
              "      <th>3</th>\n",
              "      <td>tt0000004</td>\n",
              "      <td>short</td>\n",
              "      <td>Un bon bock</td>\n",
              "      <td>Un bon bock</td>\n",
              "      <td>0</td>\n",
              "      <td>1892</td>\n",
              "      <td>\\N</td>\n",
              "      <td>12</td>\n",
              "      <td>Animation,Short</td>\n",
              "    </tr>\n",
              "    <tr>\n",
              "      <th>4</th>\n",
              "      <td>tt0000005</td>\n",
              "      <td>short</td>\n",
              "      <td>Blacksmith Scene</td>\n",
              "      <td>Blacksmith Scene</td>\n",
              "      <td>0</td>\n",
              "      <td>1893</td>\n",
              "      <td>\\N</td>\n",
              "      <td>1</td>\n",
              "      <td>Comedy,Short</td>\n",
              "    </tr>\n",
              "    <tr>\n",
              "      <th>...</th>\n",
              "      <td>...</td>\n",
              "      <td>...</td>\n",
              "      <td>...</td>\n",
              "      <td>...</td>\n",
              "      <td>...</td>\n",
              "      <td>...</td>\n",
              "      <td>...</td>\n",
              "      <td>...</td>\n",
              "      <td>...</td>\n",
              "    </tr>\n",
              "    <tr>\n",
              "      <th>8882378</th>\n",
              "      <td>tt9916848</td>\n",
              "      <td>tvEpisode</td>\n",
              "      <td>Episode #3.17</td>\n",
              "      <td>Episode #3.17</td>\n",
              "      <td>0</td>\n",
              "      <td>2010</td>\n",
              "      <td>\\N</td>\n",
              "      <td>\\N</td>\n",
              "      <td>Action,Drama,Family</td>\n",
              "    </tr>\n",
              "    <tr>\n",
              "      <th>8882379</th>\n",
              "      <td>tt9916850</td>\n",
              "      <td>tvEpisode</td>\n",
              "      <td>Episode #3.19</td>\n",
              "      <td>Episode #3.19</td>\n",
              "      <td>0</td>\n",
              "      <td>2010</td>\n",
              "      <td>\\N</td>\n",
              "      <td>\\N</td>\n",
              "      <td>Action,Drama,Family</td>\n",
              "    </tr>\n",
              "    <tr>\n",
              "      <th>8882380</th>\n",
              "      <td>tt9916852</td>\n",
              "      <td>tvEpisode</td>\n",
              "      <td>Episode #3.20</td>\n",
              "      <td>Episode #3.20</td>\n",
              "      <td>0</td>\n",
              "      <td>2010</td>\n",
              "      <td>\\N</td>\n",
              "      <td>\\N</td>\n",
              "      <td>Action,Drama,Family</td>\n",
              "    </tr>\n",
              "    <tr>\n",
              "      <th>8882381</th>\n",
              "      <td>tt9916856</td>\n",
              "      <td>short</td>\n",
              "      <td>The Wind</td>\n",
              "      <td>The Wind</td>\n",
              "      <td>0</td>\n",
              "      <td>2015</td>\n",
              "      <td>\\N</td>\n",
              "      <td>27</td>\n",
              "      <td>Short</td>\n",
              "    </tr>\n",
              "    <tr>\n",
              "      <th>8882382</th>\n",
              "      <td>tt9916880</td>\n",
              "      <td>tvEpisode</td>\n",
              "      <td>Horrid Henry Knows It All</td>\n",
              "      <td>Horrid Henry Knows It All</td>\n",
              "      <td>0</td>\n",
              "      <td>2014</td>\n",
              "      <td>\\N</td>\n",
              "      <td>10</td>\n",
              "      <td>Adventure,Animation,Comedy</td>\n",
              "    </tr>\n",
              "  </tbody>\n",
              "</table>\n",
              "<p>8882383 rows × 9 columns</p>\n",
              "</div>\n",
              "      <button class=\"colab-df-convert\" onclick=\"convertToInteractive('df-3397e12b-a023-4b84-84b4-04966520e338')\"\n",
              "              title=\"Convert this dataframe to an interactive table.\"\n",
              "              style=\"display:none;\">\n",
              "        \n",
              "  <svg xmlns=\"http://www.w3.org/2000/svg\" height=\"24px\"viewBox=\"0 0 24 24\"\n",
              "       width=\"24px\">\n",
              "    <path d=\"M0 0h24v24H0V0z\" fill=\"none\"/>\n",
              "    <path d=\"M18.56 5.44l.94 2.06.94-2.06 2.06-.94-2.06-.94-.94-2.06-.94 2.06-2.06.94zm-11 1L8.5 8.5l.94-2.06 2.06-.94-2.06-.94L8.5 2.5l-.94 2.06-2.06.94zm10 10l.94 2.06.94-2.06 2.06-.94-2.06-.94-.94-2.06-.94 2.06-2.06.94z\"/><path d=\"M17.41 7.96l-1.37-1.37c-.4-.4-.92-.59-1.43-.59-.52 0-1.04.2-1.43.59L10.3 9.45l-7.72 7.72c-.78.78-.78 2.05 0 2.83L4 21.41c.39.39.9.59 1.41.59.51 0 1.02-.2 1.41-.59l7.78-7.78 2.81-2.81c.8-.78.8-2.07 0-2.86zM5.41 20L4 18.59l7.72-7.72 1.47 1.35L5.41 20z\"/>\n",
              "  </svg>\n",
              "      </button>\n",
              "      \n",
              "  <style>\n",
              "    .colab-df-container {\n",
              "      display:flex;\n",
              "      flex-wrap:wrap;\n",
              "      gap: 12px;\n",
              "    }\n",
              "\n",
              "    .colab-df-convert {\n",
              "      background-color: #E8F0FE;\n",
              "      border: none;\n",
              "      border-radius: 50%;\n",
              "      cursor: pointer;\n",
              "      display: none;\n",
              "      fill: #1967D2;\n",
              "      height: 32px;\n",
              "      padding: 0 0 0 0;\n",
              "      width: 32px;\n",
              "    }\n",
              "\n",
              "    .colab-df-convert:hover {\n",
              "      background-color: #E2EBFA;\n",
              "      box-shadow: 0px 1px 2px rgba(60, 64, 67, 0.3), 0px 1px 3px 1px rgba(60, 64, 67, 0.15);\n",
              "      fill: #174EA6;\n",
              "    }\n",
              "\n",
              "    [theme=dark] .colab-df-convert {\n",
              "      background-color: #3B4455;\n",
              "      fill: #D2E3FC;\n",
              "    }\n",
              "\n",
              "    [theme=dark] .colab-df-convert:hover {\n",
              "      background-color: #434B5C;\n",
              "      box-shadow: 0px 1px 3px 1px rgba(0, 0, 0, 0.15);\n",
              "      filter: drop-shadow(0px 1px 2px rgba(0, 0, 0, 0.3));\n",
              "      fill: #FFFFFF;\n",
              "    }\n",
              "  </style>\n",
              "\n",
              "      <script>\n",
              "        const buttonEl =\n",
              "          document.querySelector('#df-3397e12b-a023-4b84-84b4-04966520e338 button.colab-df-convert');\n",
              "        buttonEl.style.display =\n",
              "          google.colab.kernel.accessAllowed ? 'block' : 'none';\n",
              "\n",
              "        async function convertToInteractive(key) {\n",
              "          const element = document.querySelector('#df-3397e12b-a023-4b84-84b4-04966520e338');\n",
              "          const dataTable =\n",
              "            await google.colab.kernel.invokeFunction('convertToInteractive',\n",
              "                                                     [key], {});\n",
              "          if (!dataTable) return;\n",
              "\n",
              "          const docLinkHtml = 'Like what you see? Visit the ' +\n",
              "            '<a target=\"_blank\" href=https://colab.research.google.com/notebooks/data_table.ipynb>data table notebook</a>'\n",
              "            + ' to learn more about interactive tables.';\n",
              "          element.innerHTML = '';\n",
              "          dataTable['output_type'] = 'display_data';\n",
              "          await google.colab.output.renderOutput(dataTable, element);\n",
              "          const docLink = document.createElement('div');\n",
              "          docLink.innerHTML = docLinkHtml;\n",
              "          element.appendChild(docLink);\n",
              "        }\n",
              "      </script>\n",
              "    </div>\n",
              "  </div>\n",
              "  "
            ],
            "text/plain": [
              "            tconst  titleType               primaryTitle  \\\n",
              "0        tt0000001      short                 Carmencita   \n",
              "1        tt0000002      short     Le clown et ses chiens   \n",
              "2        tt0000003      short             Pauvre Pierrot   \n",
              "3        tt0000004      short                Un bon bock   \n",
              "4        tt0000005      short           Blacksmith Scene   \n",
              "...            ...        ...                        ...   \n",
              "8882378  tt9916848  tvEpisode              Episode #3.17   \n",
              "8882379  tt9916850  tvEpisode              Episode #3.19   \n",
              "8882380  tt9916852  tvEpisode              Episode #3.20   \n",
              "8882381  tt9916856      short                   The Wind   \n",
              "8882382  tt9916880  tvEpisode  Horrid Henry Knows It All   \n",
              "\n",
              "                     originalTitle isAdult startYear endYear runtimeMinutes  \\\n",
              "0                       Carmencita       0      1894      \\N              1   \n",
              "1           Le clown et ses chiens       0      1892      \\N              5   \n",
              "2                   Pauvre Pierrot       0      1892      \\N              4   \n",
              "3                      Un bon bock       0      1892      \\N             12   \n",
              "4                 Blacksmith Scene       0      1893      \\N              1   \n",
              "...                            ...     ...       ...     ...            ...   \n",
              "8882378              Episode #3.17       0      2010      \\N             \\N   \n",
              "8882379              Episode #3.19       0      2010      \\N             \\N   \n",
              "8882380              Episode #3.20       0      2010      \\N             \\N   \n",
              "8882381                   The Wind       0      2015      \\N             27   \n",
              "8882382  Horrid Henry Knows It All       0      2014      \\N             10   \n",
              "\n",
              "                             genres  \n",
              "0                 Documentary,Short  \n",
              "1                   Animation,Short  \n",
              "2          Animation,Comedy,Romance  \n",
              "3                   Animation,Short  \n",
              "4                      Comedy,Short  \n",
              "...                             ...  \n",
              "8882378         Action,Drama,Family  \n",
              "8882379         Action,Drama,Family  \n",
              "8882380         Action,Drama,Family  \n",
              "8882381                       Short  \n",
              "8882382  Adventure,Animation,Comedy  \n",
              "\n",
              "[8882383 rows x 9 columns]"
            ]
          },
          "execution_count": 3,
          "metadata": {},
          "output_type": "execute_result"
        }
      ],
      "source": [
        "pd.read_csv(\"https://datasets.imdbws.com/title.basics.tsv.gz\", sep='\\t', error_bad_lines=False)"
      ]
    },
    {
      "cell_type": "code",
      "execution_count": null,
      "metadata": {
        "colab": {
          "base_uri": "https://localhost:8080/",
          "height": 424
        },
        "id": "YPoXkMUFFvxj",
        "outputId": "5e16dbbc-22b0-43ac-e6d0-ae81a446f4e2"
      },
      "outputs": [
        {
          "data": {
            "text/html": [
              "\n",
              "  <div id=\"df-fb69b432-5dcc-4f8d-983d-e136377f2c37\">\n",
              "    <div class=\"colab-df-container\">\n",
              "      <div>\n",
              "<style scoped>\n",
              "    .dataframe tbody tr th:only-of-type {\n",
              "        vertical-align: middle;\n",
              "    }\n",
              "\n",
              "    .dataframe tbody tr th {\n",
              "        vertical-align: top;\n",
              "    }\n",
              "\n",
              "    .dataframe thead th {\n",
              "        text-align: right;\n",
              "    }\n",
              "</style>\n",
              "<table border=\"1\" class=\"dataframe\">\n",
              "  <thead>\n",
              "    <tr style=\"text-align: right;\">\n",
              "      <th></th>\n",
              "      <th>tconst</th>\n",
              "      <th>directors</th>\n",
              "      <th>writers</th>\n",
              "    </tr>\n",
              "  </thead>\n",
              "  <tbody>\n",
              "    <tr>\n",
              "      <th>0</th>\n",
              "      <td>tt0000001</td>\n",
              "      <td>nm0005690</td>\n",
              "      <td>\\N</td>\n",
              "    </tr>\n",
              "    <tr>\n",
              "      <th>1</th>\n",
              "      <td>tt0000002</td>\n",
              "      <td>nm0721526</td>\n",
              "      <td>\\N</td>\n",
              "    </tr>\n",
              "    <tr>\n",
              "      <th>2</th>\n",
              "      <td>tt0000003</td>\n",
              "      <td>nm0721526</td>\n",
              "      <td>\\N</td>\n",
              "    </tr>\n",
              "    <tr>\n",
              "      <th>3</th>\n",
              "      <td>tt0000004</td>\n",
              "      <td>nm0721526</td>\n",
              "      <td>\\N</td>\n",
              "    </tr>\n",
              "    <tr>\n",
              "      <th>4</th>\n",
              "      <td>tt0000005</td>\n",
              "      <td>nm0005690</td>\n",
              "      <td>\\N</td>\n",
              "    </tr>\n",
              "    <tr>\n",
              "      <th>...</th>\n",
              "      <td>...</td>\n",
              "      <td>...</td>\n",
              "      <td>...</td>\n",
              "    </tr>\n",
              "    <tr>\n",
              "      <th>8882378</th>\n",
              "      <td>tt9916848</td>\n",
              "      <td>nm5519454,nm5519375</td>\n",
              "      <td>nm6182221,nm1628284,nm2921377</td>\n",
              "    </tr>\n",
              "    <tr>\n",
              "      <th>8882379</th>\n",
              "      <td>tt9916850</td>\n",
              "      <td>nm5519454,nm5519375</td>\n",
              "      <td>nm6182221,nm1628284,nm2921377</td>\n",
              "    </tr>\n",
              "    <tr>\n",
              "      <th>8882380</th>\n",
              "      <td>tt9916852</td>\n",
              "      <td>nm5519454,nm5519375</td>\n",
              "      <td>nm6182221,nm1628284,nm2921377</td>\n",
              "    </tr>\n",
              "    <tr>\n",
              "      <th>8882381</th>\n",
              "      <td>tt9916856</td>\n",
              "      <td>nm10538645</td>\n",
              "      <td>nm6951431</td>\n",
              "    </tr>\n",
              "    <tr>\n",
              "      <th>8882382</th>\n",
              "      <td>tt9916880</td>\n",
              "      <td>nm0996406</td>\n",
              "      <td>nm1482639,nm2586970</td>\n",
              "    </tr>\n",
              "  </tbody>\n",
              "</table>\n",
              "<p>8882383 rows × 3 columns</p>\n",
              "</div>\n",
              "      <button class=\"colab-df-convert\" onclick=\"convertToInteractive('df-fb69b432-5dcc-4f8d-983d-e136377f2c37')\"\n",
              "              title=\"Convert this dataframe to an interactive table.\"\n",
              "              style=\"display:none;\">\n",
              "        \n",
              "  <svg xmlns=\"http://www.w3.org/2000/svg\" height=\"24px\"viewBox=\"0 0 24 24\"\n",
              "       width=\"24px\">\n",
              "    <path d=\"M0 0h24v24H0V0z\" fill=\"none\"/>\n",
              "    <path d=\"M18.56 5.44l.94 2.06.94-2.06 2.06-.94-2.06-.94-.94-2.06-.94 2.06-2.06.94zm-11 1L8.5 8.5l.94-2.06 2.06-.94-2.06-.94L8.5 2.5l-.94 2.06-2.06.94zm10 10l.94 2.06.94-2.06 2.06-.94-2.06-.94-.94-2.06-.94 2.06-2.06.94z\"/><path d=\"M17.41 7.96l-1.37-1.37c-.4-.4-.92-.59-1.43-.59-.52 0-1.04.2-1.43.59L10.3 9.45l-7.72 7.72c-.78.78-.78 2.05 0 2.83L4 21.41c.39.39.9.59 1.41.59.51 0 1.02-.2 1.41-.59l7.78-7.78 2.81-2.81c.8-.78.8-2.07 0-2.86zM5.41 20L4 18.59l7.72-7.72 1.47 1.35L5.41 20z\"/>\n",
              "  </svg>\n",
              "      </button>\n",
              "      \n",
              "  <style>\n",
              "    .colab-df-container {\n",
              "      display:flex;\n",
              "      flex-wrap:wrap;\n",
              "      gap: 12px;\n",
              "    }\n",
              "\n",
              "    .colab-df-convert {\n",
              "      background-color: #E8F0FE;\n",
              "      border: none;\n",
              "      border-radius: 50%;\n",
              "      cursor: pointer;\n",
              "      display: none;\n",
              "      fill: #1967D2;\n",
              "      height: 32px;\n",
              "      padding: 0 0 0 0;\n",
              "      width: 32px;\n",
              "    }\n",
              "\n",
              "    .colab-df-convert:hover {\n",
              "      background-color: #E2EBFA;\n",
              "      box-shadow: 0px 1px 2px rgba(60, 64, 67, 0.3), 0px 1px 3px 1px rgba(60, 64, 67, 0.15);\n",
              "      fill: #174EA6;\n",
              "    }\n",
              "\n",
              "    [theme=dark] .colab-df-convert {\n",
              "      background-color: #3B4455;\n",
              "      fill: #D2E3FC;\n",
              "    }\n",
              "\n",
              "    [theme=dark] .colab-df-convert:hover {\n",
              "      background-color: #434B5C;\n",
              "      box-shadow: 0px 1px 3px 1px rgba(0, 0, 0, 0.15);\n",
              "      filter: drop-shadow(0px 1px 2px rgba(0, 0, 0, 0.3));\n",
              "      fill: #FFFFFF;\n",
              "    }\n",
              "  </style>\n",
              "\n",
              "      <script>\n",
              "        const buttonEl =\n",
              "          document.querySelector('#df-fb69b432-5dcc-4f8d-983d-e136377f2c37 button.colab-df-convert');\n",
              "        buttonEl.style.display =\n",
              "          google.colab.kernel.accessAllowed ? 'block' : 'none';\n",
              "\n",
              "        async function convertToInteractive(key) {\n",
              "          const element = document.querySelector('#df-fb69b432-5dcc-4f8d-983d-e136377f2c37');\n",
              "          const dataTable =\n",
              "            await google.colab.kernel.invokeFunction('convertToInteractive',\n",
              "                                                     [key], {});\n",
              "          if (!dataTable) return;\n",
              "\n",
              "          const docLinkHtml = 'Like what you see? Visit the ' +\n",
              "            '<a target=\"_blank\" href=https://colab.research.google.com/notebooks/data_table.ipynb>data table notebook</a>'\n",
              "            + ' to learn more about interactive tables.';\n",
              "          element.innerHTML = '';\n",
              "          dataTable['output_type'] = 'display_data';\n",
              "          await google.colab.output.renderOutput(dataTable, element);\n",
              "          const docLink = document.createElement('div');\n",
              "          docLink.innerHTML = docLinkHtml;\n",
              "          element.appendChild(docLink);\n",
              "        }\n",
              "      </script>\n",
              "    </div>\n",
              "  </div>\n",
              "  "
            ],
            "text/plain": [
              "            tconst            directors                        writers\n",
              "0        tt0000001            nm0005690                             \\N\n",
              "1        tt0000002            nm0721526                             \\N\n",
              "2        tt0000003            nm0721526                             \\N\n",
              "3        tt0000004            nm0721526                             \\N\n",
              "4        tt0000005            nm0005690                             \\N\n",
              "...            ...                  ...                            ...\n",
              "8882378  tt9916848  nm5519454,nm5519375  nm6182221,nm1628284,nm2921377\n",
              "8882379  tt9916850  nm5519454,nm5519375  nm6182221,nm1628284,nm2921377\n",
              "8882380  tt9916852  nm5519454,nm5519375  nm6182221,nm1628284,nm2921377\n",
              "8882381  tt9916856           nm10538645                      nm6951431\n",
              "8882382  tt9916880            nm0996406            nm1482639,nm2586970\n",
              "\n",
              "[8882383 rows x 3 columns]"
            ]
          },
          "execution_count": 4,
          "metadata": {},
          "output_type": "execute_result"
        }
      ],
      "source": [
        "pd.read_csv(\"https://datasets.imdbws.com/title.crew.tsv.gz\", sep='\\t', error_bad_lines=False)"
      ]
    },
    {
      "cell_type": "code",
      "execution_count": null,
      "metadata": {
        "colab": {
          "base_uri": "https://localhost:8080/",
          "height": 424
        },
        "id": "rAYit1diFvul",
        "outputId": "f37eac00-076f-41e8-c81b-ec993b2973ec"
      },
      "outputs": [
        {
          "data": {
            "text/html": [
              "\n",
              "  <div id=\"df-2dbea3d5-c333-4017-8ed1-bd654b1306ed\">\n",
              "    <div class=\"colab-df-container\">\n",
              "      <div>\n",
              "<style scoped>\n",
              "    .dataframe tbody tr th:only-of-type {\n",
              "        vertical-align: middle;\n",
              "    }\n",
              "\n",
              "    .dataframe tbody tr th {\n",
              "        vertical-align: top;\n",
              "    }\n",
              "\n",
              "    .dataframe thead th {\n",
              "        text-align: right;\n",
              "    }\n",
              "</style>\n",
              "<table border=\"1\" class=\"dataframe\">\n",
              "  <thead>\n",
              "    <tr style=\"text-align: right;\">\n",
              "      <th></th>\n",
              "      <th>tconst</th>\n",
              "      <th>parentTconst</th>\n",
              "      <th>seasonNumber</th>\n",
              "      <th>episodeNumber</th>\n",
              "    </tr>\n",
              "  </thead>\n",
              "  <tbody>\n",
              "    <tr>\n",
              "      <th>0</th>\n",
              "      <td>tt0020666</td>\n",
              "      <td>tt15180956</td>\n",
              "      <td>1</td>\n",
              "      <td>2</td>\n",
              "    </tr>\n",
              "    <tr>\n",
              "      <th>1</th>\n",
              "      <td>tt0020829</td>\n",
              "      <td>tt15180956</td>\n",
              "      <td>1</td>\n",
              "      <td>1</td>\n",
              "    </tr>\n",
              "    <tr>\n",
              "      <th>2</th>\n",
              "      <td>tt0021166</td>\n",
              "      <td>tt15180956</td>\n",
              "      <td>1</td>\n",
              "      <td>3</td>\n",
              "    </tr>\n",
              "    <tr>\n",
              "      <th>3</th>\n",
              "      <td>tt0021612</td>\n",
              "      <td>tt15180956</td>\n",
              "      <td>2</td>\n",
              "      <td>2</td>\n",
              "    </tr>\n",
              "    <tr>\n",
              "      <th>4</th>\n",
              "      <td>tt0021655</td>\n",
              "      <td>tt15180956</td>\n",
              "      <td>2</td>\n",
              "      <td>5</td>\n",
              "    </tr>\n",
              "    <tr>\n",
              "      <th>...</th>\n",
              "      <td>...</td>\n",
              "      <td>...</td>\n",
              "      <td>...</td>\n",
              "      <td>...</td>\n",
              "    </tr>\n",
              "    <tr>\n",
              "      <th>6665138</th>\n",
              "      <td>tt9916846</td>\n",
              "      <td>tt1289683</td>\n",
              "      <td>3</td>\n",
              "      <td>18</td>\n",
              "    </tr>\n",
              "    <tr>\n",
              "      <th>6665139</th>\n",
              "      <td>tt9916848</td>\n",
              "      <td>tt1289683</td>\n",
              "      <td>3</td>\n",
              "      <td>17</td>\n",
              "    </tr>\n",
              "    <tr>\n",
              "      <th>6665140</th>\n",
              "      <td>tt9916850</td>\n",
              "      <td>tt1289683</td>\n",
              "      <td>3</td>\n",
              "      <td>19</td>\n",
              "    </tr>\n",
              "    <tr>\n",
              "      <th>6665141</th>\n",
              "      <td>tt9916852</td>\n",
              "      <td>tt1289683</td>\n",
              "      <td>3</td>\n",
              "      <td>20</td>\n",
              "    </tr>\n",
              "    <tr>\n",
              "      <th>6665142</th>\n",
              "      <td>tt9916880</td>\n",
              "      <td>tt0985991</td>\n",
              "      <td>4</td>\n",
              "      <td>2</td>\n",
              "    </tr>\n",
              "  </tbody>\n",
              "</table>\n",
              "<p>6665143 rows × 4 columns</p>\n",
              "</div>\n",
              "      <button class=\"colab-df-convert\" onclick=\"convertToInteractive('df-2dbea3d5-c333-4017-8ed1-bd654b1306ed')\"\n",
              "              title=\"Convert this dataframe to an interactive table.\"\n",
              "              style=\"display:none;\">\n",
              "        \n",
              "  <svg xmlns=\"http://www.w3.org/2000/svg\" height=\"24px\"viewBox=\"0 0 24 24\"\n",
              "       width=\"24px\">\n",
              "    <path d=\"M0 0h24v24H0V0z\" fill=\"none\"/>\n",
              "    <path d=\"M18.56 5.44l.94 2.06.94-2.06 2.06-.94-2.06-.94-.94-2.06-.94 2.06-2.06.94zm-11 1L8.5 8.5l.94-2.06 2.06-.94-2.06-.94L8.5 2.5l-.94 2.06-2.06.94zm10 10l.94 2.06.94-2.06 2.06-.94-2.06-.94-.94-2.06-.94 2.06-2.06.94z\"/><path d=\"M17.41 7.96l-1.37-1.37c-.4-.4-.92-.59-1.43-.59-.52 0-1.04.2-1.43.59L10.3 9.45l-7.72 7.72c-.78.78-.78 2.05 0 2.83L4 21.41c.39.39.9.59 1.41.59.51 0 1.02-.2 1.41-.59l7.78-7.78 2.81-2.81c.8-.78.8-2.07 0-2.86zM5.41 20L4 18.59l7.72-7.72 1.47 1.35L5.41 20z\"/>\n",
              "  </svg>\n",
              "      </button>\n",
              "      \n",
              "  <style>\n",
              "    .colab-df-container {\n",
              "      display:flex;\n",
              "      flex-wrap:wrap;\n",
              "      gap: 12px;\n",
              "    }\n",
              "\n",
              "    .colab-df-convert {\n",
              "      background-color: #E8F0FE;\n",
              "      border: none;\n",
              "      border-radius: 50%;\n",
              "      cursor: pointer;\n",
              "      display: none;\n",
              "      fill: #1967D2;\n",
              "      height: 32px;\n",
              "      padding: 0 0 0 0;\n",
              "      width: 32px;\n",
              "    }\n",
              "\n",
              "    .colab-df-convert:hover {\n",
              "      background-color: #E2EBFA;\n",
              "      box-shadow: 0px 1px 2px rgba(60, 64, 67, 0.3), 0px 1px 3px 1px rgba(60, 64, 67, 0.15);\n",
              "      fill: #174EA6;\n",
              "    }\n",
              "\n",
              "    [theme=dark] .colab-df-convert {\n",
              "      background-color: #3B4455;\n",
              "      fill: #D2E3FC;\n",
              "    }\n",
              "\n",
              "    [theme=dark] .colab-df-convert:hover {\n",
              "      background-color: #434B5C;\n",
              "      box-shadow: 0px 1px 3px 1px rgba(0, 0, 0, 0.15);\n",
              "      filter: drop-shadow(0px 1px 2px rgba(0, 0, 0, 0.3));\n",
              "      fill: #FFFFFF;\n",
              "    }\n",
              "  </style>\n",
              "\n",
              "      <script>\n",
              "        const buttonEl =\n",
              "          document.querySelector('#df-2dbea3d5-c333-4017-8ed1-bd654b1306ed button.colab-df-convert');\n",
              "        buttonEl.style.display =\n",
              "          google.colab.kernel.accessAllowed ? 'block' : 'none';\n",
              "\n",
              "        async function convertToInteractive(key) {\n",
              "          const element = document.querySelector('#df-2dbea3d5-c333-4017-8ed1-bd654b1306ed');\n",
              "          const dataTable =\n",
              "            await google.colab.kernel.invokeFunction('convertToInteractive',\n",
              "                                                     [key], {});\n",
              "          if (!dataTable) return;\n",
              "\n",
              "          const docLinkHtml = 'Like what you see? Visit the ' +\n",
              "            '<a target=\"_blank\" href=https://colab.research.google.com/notebooks/data_table.ipynb>data table notebook</a>'\n",
              "            + ' to learn more about interactive tables.';\n",
              "          element.innerHTML = '';\n",
              "          dataTable['output_type'] = 'display_data';\n",
              "          await google.colab.output.renderOutput(dataTable, element);\n",
              "          const docLink = document.createElement('div');\n",
              "          docLink.innerHTML = docLinkHtml;\n",
              "          element.appendChild(docLink);\n",
              "        }\n",
              "      </script>\n",
              "    </div>\n",
              "  </div>\n",
              "  "
            ],
            "text/plain": [
              "            tconst parentTconst seasonNumber episodeNumber\n",
              "0        tt0020666   tt15180956            1             2\n",
              "1        tt0020829   tt15180956            1             1\n",
              "2        tt0021166   tt15180956            1             3\n",
              "3        tt0021612   tt15180956            2             2\n",
              "4        tt0021655   tt15180956            2             5\n",
              "...            ...          ...          ...           ...\n",
              "6665138  tt9916846    tt1289683            3            18\n",
              "6665139  tt9916848    tt1289683            3            17\n",
              "6665140  tt9916850    tt1289683            3            19\n",
              "6665141  tt9916852    tt1289683            3            20\n",
              "6665142  tt9916880    tt0985991            4             2\n",
              "\n",
              "[6665143 rows x 4 columns]"
            ]
          },
          "execution_count": 5,
          "metadata": {},
          "output_type": "execute_result"
        }
      ],
      "source": [
        "pd.read_csv(\"https://datasets.imdbws.com/title.episode.tsv.gz\", sep='\\t', error_bad_lines=False)"
      ]
    },
    {
      "cell_type": "code",
      "execution_count": null,
      "metadata": {
        "colab": {
          "base_uri": "https://localhost:8080/",
          "height": 424
        },
        "id": "sd52-rpzGIGH",
        "outputId": "a36be51f-9392-4452-b4d1-8729fd9a3dfa"
      },
      "outputs": [
        {
          "data": {
            "text/html": [
              "\n",
              "  <div id=\"df-8b774b49-44cc-46c4-a6bf-bae6031df8de\">\n",
              "    <div class=\"colab-df-container\">\n",
              "      <div>\n",
              "<style scoped>\n",
              "    .dataframe tbody tr th:only-of-type {\n",
              "        vertical-align: middle;\n",
              "    }\n",
              "\n",
              "    .dataframe tbody tr th {\n",
              "        vertical-align: top;\n",
              "    }\n",
              "\n",
              "    .dataframe thead th {\n",
              "        text-align: right;\n",
              "    }\n",
              "</style>\n",
              "<table border=\"1\" class=\"dataframe\">\n",
              "  <thead>\n",
              "    <tr style=\"text-align: right;\">\n",
              "      <th></th>\n",
              "      <th>tconst</th>\n",
              "      <th>ordering</th>\n",
              "      <th>nconst</th>\n",
              "      <th>category</th>\n",
              "      <th>job</th>\n",
              "      <th>characters</th>\n",
              "    </tr>\n",
              "  </thead>\n",
              "  <tbody>\n",
              "    <tr>\n",
              "      <th>0</th>\n",
              "      <td>tt0000001</td>\n",
              "      <td>1</td>\n",
              "      <td>nm1588970</td>\n",
              "      <td>self</td>\n",
              "      <td>\\N</td>\n",
              "      <td>[\"Self\"]</td>\n",
              "    </tr>\n",
              "    <tr>\n",
              "      <th>1</th>\n",
              "      <td>tt0000001</td>\n",
              "      <td>2</td>\n",
              "      <td>nm0005690</td>\n",
              "      <td>director</td>\n",
              "      <td>\\N</td>\n",
              "      <td>\\N</td>\n",
              "    </tr>\n",
              "    <tr>\n",
              "      <th>2</th>\n",
              "      <td>tt0000001</td>\n",
              "      <td>3</td>\n",
              "      <td>nm0374658</td>\n",
              "      <td>cinematographer</td>\n",
              "      <td>director of photography</td>\n",
              "      <td>\\N</td>\n",
              "    </tr>\n",
              "    <tr>\n",
              "      <th>3</th>\n",
              "      <td>tt0000002</td>\n",
              "      <td>1</td>\n",
              "      <td>nm0721526</td>\n",
              "      <td>director</td>\n",
              "      <td>\\N</td>\n",
              "      <td>\\N</td>\n",
              "    </tr>\n",
              "    <tr>\n",
              "      <th>4</th>\n",
              "      <td>tt0000002</td>\n",
              "      <td>2</td>\n",
              "      <td>nm1335271</td>\n",
              "      <td>composer</td>\n",
              "      <td>\\N</td>\n",
              "      <td>\\N</td>\n",
              "    </tr>\n",
              "    <tr>\n",
              "      <th>...</th>\n",
              "      <td>...</td>\n",
              "      <td>...</td>\n",
              "      <td>...</td>\n",
              "      <td>...</td>\n",
              "      <td>...</td>\n",
              "      <td>...</td>\n",
              "    </tr>\n",
              "    <tr>\n",
              "      <th>50076671</th>\n",
              "      <td>tt9916880</td>\n",
              "      <td>4</td>\n",
              "      <td>nm10535738</td>\n",
              "      <td>actress</td>\n",
              "      <td>\\N</td>\n",
              "      <td>[\"Horrid Henry\"]</td>\n",
              "    </tr>\n",
              "    <tr>\n",
              "      <th>50076672</th>\n",
              "      <td>tt9916880</td>\n",
              "      <td>5</td>\n",
              "      <td>nm0996406</td>\n",
              "      <td>director</td>\n",
              "      <td>principal director</td>\n",
              "      <td>\\N</td>\n",
              "    </tr>\n",
              "    <tr>\n",
              "      <th>50076673</th>\n",
              "      <td>tt9916880</td>\n",
              "      <td>6</td>\n",
              "      <td>nm1482639</td>\n",
              "      <td>writer</td>\n",
              "      <td>\\N</td>\n",
              "      <td>\\N</td>\n",
              "    </tr>\n",
              "    <tr>\n",
              "      <th>50076674</th>\n",
              "      <td>tt9916880</td>\n",
              "      <td>7</td>\n",
              "      <td>nm2586970</td>\n",
              "      <td>writer</td>\n",
              "      <td>books</td>\n",
              "      <td>\\N</td>\n",
              "    </tr>\n",
              "    <tr>\n",
              "      <th>50076675</th>\n",
              "      <td>tt9916880</td>\n",
              "      <td>8</td>\n",
              "      <td>nm1594058</td>\n",
              "      <td>producer</td>\n",
              "      <td>producer</td>\n",
              "      <td>\\N</td>\n",
              "    </tr>\n",
              "  </tbody>\n",
              "</table>\n",
              "<p>50076676 rows × 6 columns</p>\n",
              "</div>\n",
              "      <button class=\"colab-df-convert\" onclick=\"convertToInteractive('df-8b774b49-44cc-46c4-a6bf-bae6031df8de')\"\n",
              "              title=\"Convert this dataframe to an interactive table.\"\n",
              "              style=\"display:none;\">\n",
              "        \n",
              "  <svg xmlns=\"http://www.w3.org/2000/svg\" height=\"24px\"viewBox=\"0 0 24 24\"\n",
              "       width=\"24px\">\n",
              "    <path d=\"M0 0h24v24H0V0z\" fill=\"none\"/>\n",
              "    <path d=\"M18.56 5.44l.94 2.06.94-2.06 2.06-.94-2.06-.94-.94-2.06-.94 2.06-2.06.94zm-11 1L8.5 8.5l.94-2.06 2.06-.94-2.06-.94L8.5 2.5l-.94 2.06-2.06.94zm10 10l.94 2.06.94-2.06 2.06-.94-2.06-.94-.94-2.06-.94 2.06-2.06.94z\"/><path d=\"M17.41 7.96l-1.37-1.37c-.4-.4-.92-.59-1.43-.59-.52 0-1.04.2-1.43.59L10.3 9.45l-7.72 7.72c-.78.78-.78 2.05 0 2.83L4 21.41c.39.39.9.59 1.41.59.51 0 1.02-.2 1.41-.59l7.78-7.78 2.81-2.81c.8-.78.8-2.07 0-2.86zM5.41 20L4 18.59l7.72-7.72 1.47 1.35L5.41 20z\"/>\n",
              "  </svg>\n",
              "      </button>\n",
              "      \n",
              "  <style>\n",
              "    .colab-df-container {\n",
              "      display:flex;\n",
              "      flex-wrap:wrap;\n",
              "      gap: 12px;\n",
              "    }\n",
              "\n",
              "    .colab-df-convert {\n",
              "      background-color: #E8F0FE;\n",
              "      border: none;\n",
              "      border-radius: 50%;\n",
              "      cursor: pointer;\n",
              "      display: none;\n",
              "      fill: #1967D2;\n",
              "      height: 32px;\n",
              "      padding: 0 0 0 0;\n",
              "      width: 32px;\n",
              "    }\n",
              "\n",
              "    .colab-df-convert:hover {\n",
              "      background-color: #E2EBFA;\n",
              "      box-shadow: 0px 1px 2px rgba(60, 64, 67, 0.3), 0px 1px 3px 1px rgba(60, 64, 67, 0.15);\n",
              "      fill: #174EA6;\n",
              "    }\n",
              "\n",
              "    [theme=dark] .colab-df-convert {\n",
              "      background-color: #3B4455;\n",
              "      fill: #D2E3FC;\n",
              "    }\n",
              "\n",
              "    [theme=dark] .colab-df-convert:hover {\n",
              "      background-color: #434B5C;\n",
              "      box-shadow: 0px 1px 3px 1px rgba(0, 0, 0, 0.15);\n",
              "      filter: drop-shadow(0px 1px 2px rgba(0, 0, 0, 0.3));\n",
              "      fill: #FFFFFF;\n",
              "    }\n",
              "  </style>\n",
              "\n",
              "      <script>\n",
              "        const buttonEl =\n",
              "          document.querySelector('#df-8b774b49-44cc-46c4-a6bf-bae6031df8de button.colab-df-convert');\n",
              "        buttonEl.style.display =\n",
              "          google.colab.kernel.accessAllowed ? 'block' : 'none';\n",
              "\n",
              "        async function convertToInteractive(key) {\n",
              "          const element = document.querySelector('#df-8b774b49-44cc-46c4-a6bf-bae6031df8de');\n",
              "          const dataTable =\n",
              "            await google.colab.kernel.invokeFunction('convertToInteractive',\n",
              "                                                     [key], {});\n",
              "          if (!dataTable) return;\n",
              "\n",
              "          const docLinkHtml = 'Like what you see? Visit the ' +\n",
              "            '<a target=\"_blank\" href=https://colab.research.google.com/notebooks/data_table.ipynb>data table notebook</a>'\n",
              "            + ' to learn more about interactive tables.';\n",
              "          element.innerHTML = '';\n",
              "          dataTable['output_type'] = 'display_data';\n",
              "          await google.colab.output.renderOutput(dataTable, element);\n",
              "          const docLink = document.createElement('div');\n",
              "          docLink.innerHTML = docLinkHtml;\n",
              "          element.appendChild(docLink);\n",
              "        }\n",
              "      </script>\n",
              "    </div>\n",
              "  </div>\n",
              "  "
            ],
            "text/plain": [
              "             tconst  ordering      nconst         category  \\\n",
              "0         tt0000001         1   nm1588970             self   \n",
              "1         tt0000001         2   nm0005690         director   \n",
              "2         tt0000001         3   nm0374658  cinematographer   \n",
              "3         tt0000002         1   nm0721526         director   \n",
              "4         tt0000002         2   nm1335271         composer   \n",
              "...             ...       ...         ...              ...   \n",
              "50076671  tt9916880         4  nm10535738          actress   \n",
              "50076672  tt9916880         5   nm0996406         director   \n",
              "50076673  tt9916880         6   nm1482639           writer   \n",
              "50076674  tt9916880         7   nm2586970           writer   \n",
              "50076675  tt9916880         8   nm1594058         producer   \n",
              "\n",
              "                              job        characters  \n",
              "0                              \\N          [\"Self\"]  \n",
              "1                              \\N                \\N  \n",
              "2         director of photography                \\N  \n",
              "3                              \\N                \\N  \n",
              "4                              \\N                \\N  \n",
              "...                           ...               ...  \n",
              "50076671                       \\N  [\"Horrid Henry\"]  \n",
              "50076672       principal director                \\N  \n",
              "50076673                       \\N                \\N  \n",
              "50076674                    books                \\N  \n",
              "50076675                 producer                \\N  \n",
              "\n",
              "[50076676 rows x 6 columns]"
            ]
          },
          "execution_count": 2,
          "metadata": {},
          "output_type": "execute_result"
        }
      ],
      "source": [
        "pd.read_csv(\"https://datasets.imdbws.com/title.principals.tsv.gz\", sep='\\t', error_bad_lines=False)"
      ]
    },
    {
      "cell_type": "code",
      "execution_count": null,
      "metadata": {
        "colab": {
          "base_uri": "https://localhost:8080/",
          "height": 424
        },
        "id": "9ll30UNyGIDj",
        "outputId": "74f216aa-2271-4780-e869-1ed2aaabc2dc"
      },
      "outputs": [
        {
          "data": {
            "text/html": [
              "\n",
              "  <div id=\"df-cd763ea7-1255-4838-8fd5-39d1e178ae50\">\n",
              "    <div class=\"colab-df-container\">\n",
              "      <div>\n",
              "<style scoped>\n",
              "    .dataframe tbody tr th:only-of-type {\n",
              "        vertical-align: middle;\n",
              "    }\n",
              "\n",
              "    .dataframe tbody tr th {\n",
              "        vertical-align: top;\n",
              "    }\n",
              "\n",
              "    .dataframe thead th {\n",
              "        text-align: right;\n",
              "    }\n",
              "</style>\n",
              "<table border=\"1\" class=\"dataframe\">\n",
              "  <thead>\n",
              "    <tr style=\"text-align: right;\">\n",
              "      <th></th>\n",
              "      <th>tconst</th>\n",
              "      <th>averageRating</th>\n",
              "      <th>numVotes</th>\n",
              "    </tr>\n",
              "  </thead>\n",
              "  <tbody>\n",
              "    <tr>\n",
              "      <th>0</th>\n",
              "      <td>tt0000001</td>\n",
              "      <td>5.7</td>\n",
              "      <td>1876</td>\n",
              "    </tr>\n",
              "    <tr>\n",
              "      <th>1</th>\n",
              "      <td>tt0000002</td>\n",
              "      <td>5.9</td>\n",
              "      <td>248</td>\n",
              "    </tr>\n",
              "    <tr>\n",
              "      <th>2</th>\n",
              "      <td>tt0000003</td>\n",
              "      <td>6.5</td>\n",
              "      <td>1648</td>\n",
              "    </tr>\n",
              "    <tr>\n",
              "      <th>3</th>\n",
              "      <td>tt0000004</td>\n",
              "      <td>5.8</td>\n",
              "      <td>160</td>\n",
              "    </tr>\n",
              "    <tr>\n",
              "      <th>4</th>\n",
              "      <td>tt0000005</td>\n",
              "      <td>6.2</td>\n",
              "      <td>2475</td>\n",
              "    </tr>\n",
              "    <tr>\n",
              "      <th>...</th>\n",
              "      <td>...</td>\n",
              "      <td>...</td>\n",
              "      <td>...</td>\n",
              "    </tr>\n",
              "    <tr>\n",
              "      <th>1239447</th>\n",
              "      <td>tt9916690</td>\n",
              "      <td>6.5</td>\n",
              "      <td>6</td>\n",
              "    </tr>\n",
              "    <tr>\n",
              "      <th>1239448</th>\n",
              "      <td>tt9916720</td>\n",
              "      <td>5.1</td>\n",
              "      <td>209</td>\n",
              "    </tr>\n",
              "    <tr>\n",
              "      <th>1239449</th>\n",
              "      <td>tt9916730</td>\n",
              "      <td>8.7</td>\n",
              "      <td>6</td>\n",
              "    </tr>\n",
              "    <tr>\n",
              "      <th>1239450</th>\n",
              "      <td>tt9916766</td>\n",
              "      <td>6.7</td>\n",
              "      <td>19</td>\n",
              "    </tr>\n",
              "    <tr>\n",
              "      <th>1239451</th>\n",
              "      <td>tt9916778</td>\n",
              "      <td>7.2</td>\n",
              "      <td>34</td>\n",
              "    </tr>\n",
              "  </tbody>\n",
              "</table>\n",
              "<p>1239452 rows × 3 columns</p>\n",
              "</div>\n",
              "      <button class=\"colab-df-convert\" onclick=\"convertToInteractive('df-cd763ea7-1255-4838-8fd5-39d1e178ae50')\"\n",
              "              title=\"Convert this dataframe to an interactive table.\"\n",
              "              style=\"display:none;\">\n",
              "        \n",
              "  <svg xmlns=\"http://www.w3.org/2000/svg\" height=\"24px\"viewBox=\"0 0 24 24\"\n",
              "       width=\"24px\">\n",
              "    <path d=\"M0 0h24v24H0V0z\" fill=\"none\"/>\n",
              "    <path d=\"M18.56 5.44l.94 2.06.94-2.06 2.06-.94-2.06-.94-.94-2.06-.94 2.06-2.06.94zm-11 1L8.5 8.5l.94-2.06 2.06-.94-2.06-.94L8.5 2.5l-.94 2.06-2.06.94zm10 10l.94 2.06.94-2.06 2.06-.94-2.06-.94-.94-2.06-.94 2.06-2.06.94z\"/><path d=\"M17.41 7.96l-1.37-1.37c-.4-.4-.92-.59-1.43-.59-.52 0-1.04.2-1.43.59L10.3 9.45l-7.72 7.72c-.78.78-.78 2.05 0 2.83L4 21.41c.39.39.9.59 1.41.59.51 0 1.02-.2 1.41-.59l7.78-7.78 2.81-2.81c.8-.78.8-2.07 0-2.86zM5.41 20L4 18.59l7.72-7.72 1.47 1.35L5.41 20z\"/>\n",
              "  </svg>\n",
              "      </button>\n",
              "      \n",
              "  <style>\n",
              "    .colab-df-container {\n",
              "      display:flex;\n",
              "      flex-wrap:wrap;\n",
              "      gap: 12px;\n",
              "    }\n",
              "\n",
              "    .colab-df-convert {\n",
              "      background-color: #E8F0FE;\n",
              "      border: none;\n",
              "      border-radius: 50%;\n",
              "      cursor: pointer;\n",
              "      display: none;\n",
              "      fill: #1967D2;\n",
              "      height: 32px;\n",
              "      padding: 0 0 0 0;\n",
              "      width: 32px;\n",
              "    }\n",
              "\n",
              "    .colab-df-convert:hover {\n",
              "      background-color: #E2EBFA;\n",
              "      box-shadow: 0px 1px 2px rgba(60, 64, 67, 0.3), 0px 1px 3px 1px rgba(60, 64, 67, 0.15);\n",
              "      fill: #174EA6;\n",
              "    }\n",
              "\n",
              "    [theme=dark] .colab-df-convert {\n",
              "      background-color: #3B4455;\n",
              "      fill: #D2E3FC;\n",
              "    }\n",
              "\n",
              "    [theme=dark] .colab-df-convert:hover {\n",
              "      background-color: #434B5C;\n",
              "      box-shadow: 0px 1px 3px 1px rgba(0, 0, 0, 0.15);\n",
              "      filter: drop-shadow(0px 1px 2px rgba(0, 0, 0, 0.3));\n",
              "      fill: #FFFFFF;\n",
              "    }\n",
              "  </style>\n",
              "\n",
              "      <script>\n",
              "        const buttonEl =\n",
              "          document.querySelector('#df-cd763ea7-1255-4838-8fd5-39d1e178ae50 button.colab-df-convert');\n",
              "        buttonEl.style.display =\n",
              "          google.colab.kernel.accessAllowed ? 'block' : 'none';\n",
              "\n",
              "        async function convertToInteractive(key) {\n",
              "          const element = document.querySelector('#df-cd763ea7-1255-4838-8fd5-39d1e178ae50');\n",
              "          const dataTable =\n",
              "            await google.colab.kernel.invokeFunction('convertToInteractive',\n",
              "                                                     [key], {});\n",
              "          if (!dataTable) return;\n",
              "\n",
              "          const docLinkHtml = 'Like what you see? Visit the ' +\n",
              "            '<a target=\"_blank\" href=https://colab.research.google.com/notebooks/data_table.ipynb>data table notebook</a>'\n",
              "            + ' to learn more about interactive tables.';\n",
              "          element.innerHTML = '';\n",
              "          dataTable['output_type'] = 'display_data';\n",
              "          await google.colab.output.renderOutput(dataTable, element);\n",
              "          const docLink = document.createElement('div');\n",
              "          docLink.innerHTML = docLinkHtml;\n",
              "          element.appendChild(docLink);\n",
              "        }\n",
              "      </script>\n",
              "    </div>\n",
              "  </div>\n",
              "  "
            ],
            "text/plain": [
              "            tconst  averageRating  numVotes\n",
              "0        tt0000001            5.7      1876\n",
              "1        tt0000002            5.9       248\n",
              "2        tt0000003            6.5      1648\n",
              "3        tt0000004            5.8       160\n",
              "4        tt0000005            6.2      2475\n",
              "...            ...            ...       ...\n",
              "1239447  tt9916690            6.5         6\n",
              "1239448  tt9916720            5.1       209\n",
              "1239449  tt9916730            8.7         6\n",
              "1239450  tt9916766            6.7        19\n",
              "1239451  tt9916778            7.2        34\n",
              "\n",
              "[1239452 rows x 3 columns]"
            ]
          },
          "execution_count": 3,
          "metadata": {},
          "output_type": "execute_result"
        }
      ],
      "source": [
        "pd.read_csv(\"https://datasets.imdbws.com/title.ratings.tsv.gz\", sep='\\t', error_bad_lines=False)"
      ]
    }
  ],
  "metadata": {
    "colab": {
      "name": "imdb dataset.ipynb",
      "provenance": [],
      "authorship_tag": "ABX9TyMPtsnoltZxK4PA4kR/+i0l",
      "include_colab_link": true
    },
    "kernelspec": {
      "display_name": "Python 3",
      "name": "python3"
    },
    "language_info": {
      "name": "python"
    }
  },
  "nbformat": 4,
  "nbformat_minor": 0
}